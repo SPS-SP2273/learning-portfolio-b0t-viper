{
 "cells": [
  {
   "attachments": {},
   "cell_type": "markdown",
   "id": "123456",
   "metadata": {},
   "source": [
    "<div style=\"text-align:left;font-size:2em\"><span style=\"font-weight:bolder;font-size:1.25em\">SP2273 | Learning Portfolio</span><br><br><span style=\"font-weight:bold;color:darkred\">Loops (Good)</span></div>"
   ]
  },
  {
   "attachments": {},
   "cell_type": "markdown",
   "id": "f8a62944",
   "metadata": {},
   "source": [
    "# What to expect in this chapter"
   ]
  },
  {
   "cell_type": "markdown",
   "id": "89d5ee3d-e01c-421b-9658-75bf2662c6ae",
   "metadata": {},
   "source": [
    "- how to exercise more control over what happens in loops by using the continue and break statements.\n",
    "-  list comprehension, a super-optimised variant of the for a loop. You can use this to create list from other lists."
   ]
  },
  {
   "attachments": {},
   "cell_type": "markdown",
   "id": "7750886f",
   "metadata": {},
   "source": [
    "# 1 Interrupting the flow"
   ]
  },
  {
   "cell_type": "markdown",
   "id": "6ce8a903-b6e4-4cdd-a83b-94e2d4aa3664",
   "metadata": {},
   "source": [
    "- example 1"
   ]
  },
  {
   "cell_type": "code",
   "execution_count": 1,
   "id": "a0b19cef-cd9e-491f-a00a-f0ce08cf7f2e",
   "metadata": {},
   "outputs": [
    {
     "name": "stdout",
     "output_type": "stream",
     "text": [
      "0 1\n",
      "1 10\n",
      "2 100\n",
      "3 1000\n"
     ]
    }
   ],
   "source": [
    "for power in range(5):\n",
    "    number = 10**power\n",
    "    if number > 5000: #We typically use it with if so that we break out if a certain condition is met.\n",
    "        break   #We use break to break-out of the loop and terminate it.  \n",
    "    print(power, number)  #This will also work with a while loop."
   ]
  },
  {
   "cell_type": "markdown",
   "id": "cbb0cdf8-a587-4757-ab65-c374486a44a1",
   "metadata": {},
   "source": [
    "The break above will break away from the loop. Hence the print is not read if the condition is met."
   ]
  },
  {
   "cell_type": "markdown",
   "id": "a3eb3ca6-0da0-4246-950b-961f6a4d331d",
   "metadata": {},
   "source": [
    "- example 2"
   ]
  },
  {
   "cell_type": "code",
   "execution_count": 10,
   "id": "f1f39b88-f90b-4028-bc7d-aa851a9d618f",
   "metadata": {},
   "outputs": [
    {
     "name": "stdout",
     "output_type": "stream",
     "text": [
      "0 1\n",
      "1 10\n",
      "2 100\n",
      "4 10000\n"
     ]
    }
   ],
   "source": [
    "for power in range(5):\n",
    "    if power == 3:   #continue too is typically used with if\n",
    "        continue           #Sometimes we want to skip an iteration and just move on to the next using continue\n",
    "                        # Continue will quit the current loop and rejoin the loop with the next number. Whatever behind this continue is not read.\n",
    "    number = 10**power #Notice how there is no printout for power = 3.\n",
    "    print(power, number)  #This will also work with a while loop."
   ]
  },
  {
   "cell_type": "markdown",
   "id": "baebc53d-4f5a-4f2d-9449-594e113a0dc4",
   "metadata": {},
   "source": [
    "**Important to know that continue is placed under the if statement. Let us see the situation below.**"
   ]
  },
  {
   "cell_type": "markdown",
   "id": "c86477d1-2f4a-49a5-8007-549c749af1dd",
   "metadata": {},
   "source": [
    "- example 3"
   ]
  },
  {
   "cell_type": "code",
   "execution_count": 4,
   "id": "d0081697-3518-4a83-9f5c-2b105fc852d9",
   "metadata": {},
   "outputs": [
    {
     "name": "stdout",
     "output_type": "stream",
     "text": [
      "1\n",
      "3\n",
      "5\n",
      "7\n",
      "9\n"
     ]
    }
   ],
   "source": [
    "for number in range(10):\n",
    "    # Don't proceed if the remainder is zero\n",
    "    # I.e. if the number is even\n",
    "    if number % 2 == 0:\n",
    "        continue \n",
    "    print(number)"
   ]
  },
  {
   "cell_type": "markdown",
   "id": "f5a1ab63-5918-4c6f-a1c0-bef8d6fae4f9",
   "metadata": {},
   "source": [
    "- example 4"
   ]
  },
  {
   "cell_type": "code",
   "execution_count": 5,
   "id": "cd88d37b-1aaa-4892-ac98-887fca37c18e",
   "metadata": {},
   "outputs": [
    {
     "name": "stdout",
     "output_type": "stream",
     "text": [
      "0\n",
      "1\n",
      "2\n",
      "3\n",
      "4\n"
     ]
    }
   ],
   "source": [
    "number=0\n",
    "\n",
    "while True:   #Notice that I setup the loop to run forever\n",
    "    print(number)\n",
    "    number += 1\n",
    "    if number > 4: break"
   ]
  },
  {
   "attachments": {},
   "cell_type": "markdown",
   "id": "8a86d8b8",
   "metadata": {},
   "source": [
    "# 2 List comprehension!"
   ]
  },
  {
   "cell_type": "markdown",
   "id": "077991f7-894b-461f-8989-1a0c8a7294a9",
   "metadata": {},
   "source": [
    "creating new lists from other lists is so common that Python has an optimised syntax called list comprehension to do just that. "
   ]
  },
  {
   "attachments": {},
   "cell_type": "markdown",
   "id": "3bd5cbc4",
   "metadata": {},
   "source": [
    "## 2.1 Basic syntax"
   ]
  },
  {
   "cell_type": "code",
   "execution_count": 13,
   "id": "46a06ca2-874d-4e87-8a7a-980d7c097b0b",
   "metadata": {},
   "outputs": [
    {
     "name": "stdout",
     "output_type": "stream",
     "text": [
      "0\n",
      "1\n",
      "2\n",
      "3\n",
      "4\n"
     ]
    }
   ],
   "source": [
    "for number in range(5):\n",
    "    print(number)   # what if we wanna put this into a list?"
   ]
  },
  {
   "cell_type": "code",
   "execution_count": 6,
   "id": "6248aede-8ad8-44e5-9c05-3b6a3fd3ae21",
   "metadata": {},
   "outputs": [
    {
     "data": {
      "text/plain": [
       "[0, 1, 2, 3, 4]"
      ]
     },
     "execution_count": 6,
     "metadata": {},
     "output_type": "execute_result"
    }
   ],
   "source": [
    "[number for number in range(5)] #You just need to put the thing you want as an output at the front."
   ]
  },
  {
   "cell_type": "code",
   "execution_count": 11,
   "id": "f86fc469-d61b-4382-81ea-201f50902b81",
   "metadata": {},
   "outputs": [
    {
     "data": {
      "text/plain": [
       "[0, 1, 4, 9, 16]"
      ]
     },
     "execution_count": 11,
     "metadata": {},
     "output_type": "execute_result"
    }
   ],
   "source": [
    "[number**2 for number in range(5)]  #If you want to create a list of squares, we just have to do this."
   ]
  },
  {
   "attachments": {},
   "cell_type": "markdown",
   "id": "7d41537a",
   "metadata": {},
   "source": [
    "## 2.2 List comprehension with conditions"
   ]
  },
  {
   "cell_type": "code",
   "execution_count": null,
   "id": "5651cfe7-0d5c-4efd-89b5-348e8ba3fd02",
   "metadata": {},
   "outputs": [],
   "source": [
    "[number for number in range(10) if number % 2 ==0]  # we use if here to specify a condition"
   ]
  },
  {
   "cell_type": "code",
   "execution_count": 15,
   "id": "c865538a-084a-4d30-b440-6fb0d3dc90ad",
   "metadata": {},
   "outputs": [
    {
     "data": {
      "text/plain": [
       "[1, 4, 16, 64, 256]"
      ]
     },
     "execution_count": 15,
     "metadata": {},
     "output_type": "execute_result"
    }
   ],
   "source": [
    "[2**power for power in range(10) if power%2==0]"
   ]
  },
  {
   "attachments": {},
   "cell_type": "markdown",
   "id": "d7a84145",
   "metadata": {},
   "source": [
    "# 3 Other useful stuff"
   ]
  },
  {
   "attachments": {},
   "cell_type": "markdown",
   "id": "9f795144",
   "metadata": {},
   "source": [
    "## 3.1 for with unpacking"
   ]
  },
  {
   "cell_type": "code",
   "execution_count": 14,
   "id": "f60b08e5-52cb-4bb9-8115-b406ec94c0dd",
   "metadata": {},
   "outputs": [
    {
     "name": "stdout",
     "output_type": "stream",
     "text": [
      "x = 1, y = 2, z = 3\n"
     ]
    }
   ],
   "source": [
    "x, y, z=[1, 2, 3]\n",
    "print(f'x = {x}, y = {y}, z = {z}')  #Python allows a neat trick called unpacking, which works like this"
   ]
  },
  {
   "cell_type": "code",
   "execution_count": 16,
   "id": "63241211-446e-4439-8ac5-0f3cb678ed78",
   "metadata": {},
   "outputs": [
    {
     "name": "stdout",
     "output_type": "stream",
     "text": [
      "Natasha Romanoff is Marvel's Black Widow!\n",
      "Tony Stark is Marvel's Iron Man!\n",
      "Stephen Strange is Marvel's Doctor Strange!\n"
     ]
    }
   ],
   "source": [
    "py_superhero_info = [['Natasha Romanoff', 'Black Widow'],\n",
    "                     ['Tony Stark', 'Iron Man'],\n",
    "                     ['Stephen Strange', 'Doctor Strange']]  # we create a 2D list here\n",
    "\n",
    "for real_name, super_name in py_superhero_info:  # Here, we define real_name as the first element and super_name as the second element in this 2D list\n",
    "    print(f\"{real_name} is Marvel's {super_name}!\") "
   ]
  },
  {
   "attachments": {},
   "cell_type": "markdown",
   "id": "599a0363",
   "metadata": {},
   "source": [
    "## 3.2 for with zip()"
   ]
  },
  {
   "cell_type": "code",
   "execution_count": 25,
   "id": "5f2afa71-34eb-49df-8b00-d1ba1da1cdd8",
   "metadata": {},
   "outputs": [
    {
     "name": "stdout",
     "output_type": "stream",
     "text": [
      "Natasha Romanoff is Marvel Black Widow\n",
      "Tony Stark is Marvel Iron Man\n",
      "Stephen Strange is Marvel Doctor Strange\n"
     ]
    }
   ],
   "source": [
    "super_names = [\"Black Widow\", \"Iron Man\", \"Doctor Strange\"]\n",
    "real_names = [\"Natasha Romanoff\", \"Tony Stark\", \"Stephen Strange\"]\n",
    "\n",
    "for index, real_name in enumerate(real_names):\n",
    "    super_name=super_names[index]\n",
    "    print(real_name, 'is Marvel' ,super_name)   # This is how we used to do"
   ]
  },
  {
   "cell_type": "code",
   "execution_count": 22,
   "id": "8a1b05be-6510-4c1e-9d43-11e02bc97027",
   "metadata": {},
   "outputs": [
    {
     "name": "stdout",
     "output_type": "stream",
     "text": [
      "Natasha Romanoff is Marvel's Black Widow!\n",
      "Tony Stark is Marvel's Iron Man!\n",
      "Stephen Strange is Marvel's Doctor Strange!\n"
     ]
    }
   ],
   "source": [
    "super_names = [\"Black Widow\", \"Iron Man\", \"Doctor Strange\"]\n",
    "real_names = [\"Natasha Romanoff\", \"Tony Stark\", \"Stephen Strange\"]\n",
    "\n",
    "for real_name, super_name in zip(real_names,super_names):   # We can use zip to combine 2 lists\n",
    "    print(f\"{real_name} is Marvel's {super_name}!\")"
   ]
  },
  {
   "attachments": {},
   "cell_type": "markdown",
   "id": "f8a0533b",
   "metadata": {},
   "source": [
    "## 3.3 for with dictionaries"
   ]
  },
  {
   "cell_type": "markdown",
   "id": "122be5de-bb1c-4dec-b33c-576d857a3145",
   "metadata": {},
   "source": [
    "We will have to loop through a dictionary."
   ]
  },
  {
   "cell_type": "code",
   "execution_count": 27,
   "id": "ae70d9d4-0ccb-4f66-9db5-c191a32b9d0a",
   "metadata": {},
   "outputs": [
    {
     "name": "stdout",
     "output_type": "stream",
     "text": [
      "Natasha Romanoff is Marvel's Black Widow!\n",
      "Tony Stark is Marvel's Iron Man!\n",
      "Stephen Strange is Marvel's Doctor Strange!\n"
     ]
    }
   ],
   "source": [
    "superhero_info={\"Natasha Romanoff\": \"Black Widow\",\n",
    "                \"Tony Stark\": \"Iron Man\",\n",
    "                \"Stephen Strange\": \"Doctor Strange\"}\n",
    "\n",
    "for key, value in superhero_info.items():  #The ‘hidden’ function items() spits out both the key and the corresponding value.\n",
    "    print(f\"{key} is Marvel's {value}!\")"
   ]
  },
  {
   "cell_type": "code",
   "execution_count": 29,
   "id": "78107b5d-ee45-420d-85e5-a7bcd525f0ae",
   "metadata": {},
   "outputs": [
    {
     "name": "stdout",
     "output_type": "stream",
     "text": [
      "Natasha Romanoff is Marvel's Black Widow!\n",
      "Tony Stark is Marvel's Iron Man!\n",
      "Stephen Strange is Marvel's Doctor Strange!\n"
     ]
    }
   ],
   "source": [
    "for key in superhero_info.keys():\n",
    "    value=superhero_info[key]  # Here we define value as an extract of the dictionary using the key\n",
    "    print(f\"{key} is Marvel's {value}!\")  # You can directly access the key"
   ]
  },
  {
   "cell_type": "markdown",
   "id": "659c7425-9a76-4948-b560-010f2f2f0f0a",
   "metadata": {},
   "source": [
    "By the way, I have used the variable names key and value to highlight their roles in the dictionary. You can use whatever you like. In fact, using real_name and super_name is preferred."
   ]
  },
  {
   "attachments": {},
   "cell_type": "markdown",
   "id": "70eba0b9",
   "metadata": {},
   "source": [
    "## Footnotes"
   ]
  }
 ],
 "metadata": {
  "kernelspec": {
   "display_name": "Python 3 (ipykernel)",
   "language": "python",
   "name": "python3"
  },
  "language_info": {
   "codemirror_mode": {
    "name": "ipython",
    "version": 3
   },
   "file_extension": ".py",
   "mimetype": "text/x-python",
   "name": "python",
   "nbconvert_exporter": "python",
   "pygments_lexer": "ipython3",
   "version": "3.12.1"
  },
  "toc": {
   "base_numbering": 1,
   "nav_menu": {},
   "number_sections": true,
   "sideBar": true,
   "skip_h1_title": false,
   "title_cell": "Table of Contents",
   "title_sidebar": "Contents",
   "toc_cell": false,
   "toc_position": {},
   "toc_section_display": true,
   "toc_window_display": false
  },
  "vscode": {
   "interpreter": {
    "hash": "31f2aee4e71d21fbe5cf8b01ff0e069b9275f58929596ceb00d14d90e3e16cd6"
   }
  }
 },
 "nbformat": 4,
 "nbformat_minor": 5
}
