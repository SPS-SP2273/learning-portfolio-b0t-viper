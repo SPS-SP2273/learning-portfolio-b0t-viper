{
 "cells": [
  {
   "attachments": {},
   "cell_type": "markdown",
   "id": "123456",
   "metadata": {},
   "source": [
    "<div style=\"text-align:left;font-size:2em\"><span style=\"font-weight:bolder;font-size:1.25em\">SP2273 | Learning Portfolio</span><br><br><span style=\"font-weight:bold;color:darkred\">Loops (Need)</span></div>"
   ]
  },
  {
   "attachments": {},
   "cell_type": "markdown",
   "id": "98ee06e2",
   "metadata": {},
   "source": [
    "# What to expect in this chapter"
   ]
  },
  {
   "cell_type": "markdown",
   "id": "9d963ca7-c98b-4729-80db-09196626253d",
   "metadata": {},
   "source": [
    "Learn how to repeat a task over and over again. This chapter contains for loop and while loop."
   ]
  },
  {
   "attachments": {},
   "cell_type": "markdown",
   "id": "9398f862",
   "metadata": {},
   "source": [
    "# 1 The for iterator"
   ]
  },
  {
   "cell_type": "code",
   "execution_count": 1,
   "id": "f6f00628-ed34-4f3b-a83a-19b7bae7d04c",
   "metadata": {},
   "outputs": [],
   "source": [
    "real_names = [\"Natasha Romanoff\", \"Tony Stark\", \"Stephen Strange\"]"
   ]
  },
  {
   "cell_type": "code",
   "execution_count": 2,
   "id": "b8255dfd-bbc3-47ed-95a2-1e300e65b3a3",
   "metadata": {},
   "outputs": [
    {
     "name": "stdout",
     "output_type": "stream",
     "text": [
      "Natasha Romanoff is a Marvel superhero!\n",
      "Tony Stark is a Marvel superhero!\n",
      "Stephen Strange is a Marvel superhero!\n"
     ]
    }
   ],
   "source": [
    "name=real_names[0]\n",
    "print(f\"{name} is a Marvel superhero!\")\n",
    "\n",
    "name=real_names[1]\n",
    "print(f\"{name} is a Marvel superhero!\")   # Imagine you need to make changes, you have to change all three!!\n",
    "\n",
    "name=real_names[2]\n",
    "print(f\"{name} is a Marvel superhero!\")   #This is so lengthy and there are too many things to write."
   ]
  },
  {
   "attachments": {},
   "cell_type": "markdown",
   "id": "31e2b437",
   "metadata": {},
   "source": [
    "## 1.1 for with a list"
   ]
  },
  {
   "cell_type": "code",
   "execution_count": 4,
   "id": "cb12c395-95ba-4c4c-b009-4d542b4fa8ed",
   "metadata": {},
   "outputs": [
    {
     "name": "stdout",
     "output_type": "stream",
     "text": [
      "Natasha Romanoff is a Marvel superhero!\n",
      "Tony Stark is a Marvel superhero!\n",
      "Stephen Strange is a Marvel superhero!\n"
     ]
    }
   ],
   "source": [
    "for name in real_names:              # We use for 'name' here is because it is easy for us to read.\n",
    "    print(f\"{name} is a Marvel superhero!\")"
   ]
  },
  {
   "cell_type": "code",
   "execution_count": 5,
   "id": "30d6ae18-bcee-4bce-bc2b-65d4af8be94c",
   "metadata": {},
   "outputs": [
    {
     "name": "stdout",
     "output_type": "stream",
     "text": [
      "Natasha Romanoff is a Marvel superhero!\n",
      "Tony Stark is a Marvel superhero!\n",
      "Stephen Strange is a Marvel superhero!\n"
     ]
    }
   ],
   "source": [
    "for a in real_names:\n",
    "    print(f\"{a} is a Marvel superhero!\")   # Take note here!! the 'name' that is behind for can be changed into other things.\n",
    "                                           # From my understanding. In for loop, whatever that is behind for will be defined as a variable\n",
    "                                           # In this case, 'a' is defined as the list of real_names"
   ]
  },
  {
   "cell_type": "markdown",
   "id": "e968f68f-75bb-4934-bc5e-af6e45792149",
   "metadata": {},
   "source": [
    "- it goes through the list and assigns **name** the value of each element of the list.\n",
    "- it then runs the code-block using this value of name.\n",
    "- the code block is deginted by using **:** and **tabs** like with if."
   ]
  },
  {
   "cell_type": "markdown",
   "id": "b59bfcd9-e020-4f09-842a-08062fd8937e",
   "metadata": {},
   "source": [
    "**Remember that for can be used to directly loop through a list.**"
   ]
  },
  {
   "attachments": {},
   "cell_type": "markdown",
   "id": "8f75764c",
   "metadata": {},
   "source": [
    "## 1.2 for with enumerate"
   ]
  },
  {
   "cell_type": "markdown",
   "id": "aaa3329c-4d8f-404a-a48a-480bea14c55a",
   "metadata": {},
   "source": [
    "**Since the 'for' loop only accepts one list, we need to do something else to access the data in both lists.**"
   ]
  },
  {
   "cell_type": "markdown",
   "id": "aa107709-3b66-499e-a043-3462b8d69860",
   "metadata": {},
   "source": [
    "- First, we look at what enumerate is about"
   ]
  },
  {
   "cell_type": "code",
   "execution_count": 2,
   "id": "7fdedf69-e0af-4bb8-ae48-c61018bbcc85",
   "metadata": {},
   "outputs": [],
   "source": [
    "super_names = [\"Black Widow\", \"Iron Man\", \"Doctor Strange\"]\n",
    "real_names = [\"Natasha Romanoff\", \"Tony Stark\", \"Stephen Strange\"]"
   ]
  },
  {
   "cell_type": "code",
   "execution_count": 4,
   "id": "6510af1a-7abe-4b26-85d1-902de9cfa361",
   "metadata": {},
   "outputs": [
    {
     "name": "stdout",
     "output_type": "stream",
     "text": [
      "0: Natasha Romanoff is a Marvel superhero!\n",
      "1: Tony Stark is a Marvel superhero!\n",
      "2: Stephen Strange is a Marvel superhero!\n"
     ]
    }
   ],
   "source": [
    "for count, name in enumerate(real_names):   # numerate() not only gives the elements of the list, it also gives you a number (that is stored in 'count')\n",
    "    print(f'{count}: {name} is a Marvel superhero!')    # U can think it as 'count' is the numbering whereas 'name' is defined to be the list."
   ]
  },
  {
   "cell_type": "code",
   "execution_count": 7,
   "id": "c4a65a38-e213-4ee7-96d8-fea1c1ca91cf",
   "metadata": {},
   "outputs": [
    {
     "name": "stdout",
     "output_type": "stream",
     "text": [
      "0: Natasha Romanoff is a Marvel superhero!\n",
      "1: Tony Stark is a Marvel superhero!\n",
      "2: Stephen Strange is a Marvel superhero!\n"
     ]
    }
   ],
   "source": [
    "for ggggg, name in enumerate(real_names):  # here, the numbering is stored in 'ggggg', real_name is stored in 'name'\n",
    "    print(f'{ggggg}: {name} is a Marvel superhero!')"
   ]
  },
  {
   "cell_type": "markdown",
   "id": "cc03e7f9-a0c7-4d6d-b733-b80dc9c78559",
   "metadata": {},
   "source": [
    "- We now see how we accept two lists."
   ]
  },
  {
   "cell_type": "code",
   "execution_count": 8,
   "id": "34bec355-1908-4261-8989-c44eda01ea84",
   "metadata": {},
   "outputs": [],
   "source": [
    "super_names = [\"Black Widow\", \"Iron Man\", \"Doctor Strange\"]\n",
    "real_names = [\"Natasha Romanoff\", \"Tony Stark\", \"Stephen Strange\"]"
   ]
  },
  {
   "cell_type": "code",
   "execution_count": 10,
   "id": "a3c89913-a7c5-4ff0-b257-23db29439fe5",
   "metadata": {},
   "outputs": [
    {
     "name": "stdout",
     "output_type": "stream",
     "text": [
      "Natasha Romanoff is Black Widow!\n",
      "Tony Stark is Iron Man!\n",
      "Stephen Strange is Doctor Strange!\n"
     ]
    }
   ],
   "source": [
    "for index, name in enumerate(real_names):  # enumerate which is numbering is stored in 'index' and real_name is stored in name\n",
    "    superhero_name = super_names[index]   # Here we associate the other list. Remember our index is actually the numbering of the realname list\n",
    "    print(f'{name} is {superhero_name}!')  # Lets say for Natasha Romanoff, it has an index of 0. Hence, enumerate will extract this number 0 and give \n",
    "                                          # this value to 'index'.   Hence, superhero_name = super_names[0]. Note that you are extracting the first \n",
    "                                          # element of the super_name list!\n",
    "\n",
    "                                          # This loop continues and each time 'index' is given a different number which correspond to different names."
   ]
  },
  {
   "cell_type": "markdown",
   "id": "61c7b9a0-c4c8-43b1-a4b3-915b649e2008",
   "metadata": {},
   "source": [
    "**NOTE!!**"
   ]
  },
  {
   "cell_type": "markdown",
   "id": "7f2ffb04-1e2b-4151-96c4-3c9dfae74cfa",
   "metadata": {},
   "source": [
    "- Notice the variable names used with enumerate() are **count** and **index** to **match their logical use**. This makes reading this easier. If you put some random things, it is hard to read.\n",
    "- Although by default, enumerate() starts counting from 0, we can easily change it to start at another value, say 100."
   ]
  },
  {
   "cell_type": "code",
   "execution_count": 11,
   "id": "40ae60f6-7e10-459f-9c48-37249e69b912",
   "metadata": {},
   "outputs": [
    {
     "name": "stdout",
     "output_type": "stream",
     "text": [
      "100: Natasha Romanoff is a Marvel superhero!\n",
      "101: Tony Stark is a Marvel superhero!\n",
      "102: Stephen Strange is a Marvel superhero!\n"
     ]
    }
   ],
   "source": [
    "for count, name in enumerate(real_names, 100):\n",
    "    print(f'{count}: {name} is a Marvel superhero!')"
   ]
  },
  {
   "cell_type": "markdown",
   "id": "3bdf2a08-3385-484f-a668-3c70b8759dd1",
   "metadata": {},
   "source": [
    "**Remember that for can be combined with enumerate() to count while looping through a list.**"
   ]
  },
  {
   "attachments": {},
   "cell_type": "markdown",
   "id": "d6b8c5c5",
   "metadata": {},
   "source": [
    "## 1.3 for with range"
   ]
  },
  {
   "cell_type": "markdown",
   "id": "2c5ee00f-0d26-4e2c-84f3-19c959278c69",
   "metadata": {},
   "source": [
    "- First, we see what **range** does."
   ]
  },
  {
   "cell_type": "code",
   "execution_count": 12,
   "id": "ea01cdcb-93f4-4934-a6b5-7a0899539a51",
   "metadata": {},
   "outputs": [
    {
     "name": "stdout",
     "output_type": "stream",
     "text": [
      "0\n",
      "1\n",
      "2\n",
      "3\n",
      "4\n"
     ]
    }
   ],
   "source": [
    "for i in range(5):  #We can use range() to get the for loop to run a given number of loops (5 in this example)\n",
    "    print(i)"
   ]
  },
  {
   "cell_type": "code",
   "execution_count": 13,
   "id": "250c6263-6249-4c4f-a7fb-f529332e70af",
   "metadata": {},
   "outputs": [
    {
     "name": "stdout",
     "output_type": "stream",
     "text": [
      "5\n",
      "6\n",
      "7\n",
      "8\n",
      "9\n"
     ]
    }
   ],
   "source": [
    "for i in range(5, 10):  # Similar to slicing. We can change data start and end point.\n",
    "    print(i)"
   ]
  },
  {
   "cell_type": "code",
   "execution_count": 14,
   "id": "52971757-716b-43fc-abf4-b17920f42419",
   "metadata": {},
   "outputs": [
    {
     "name": "stdout",
     "output_type": "stream",
     "text": [
      "1\n",
      "4\n",
      "7\n"
     ]
    }
   ],
   "source": [
    "for i in range(1, 10, 3):  # Similar to slicing, we can change the interval\n",
    "    print(i)"
   ]
  },
  {
   "cell_type": "markdown",
   "id": "9ee98a33-3514-4d9d-af71-284993d858c6",
   "metadata": {},
   "source": [
    "- Now we look at how to do with 2 lists."
   ]
  },
  {
   "cell_type": "code",
   "execution_count": 16,
   "id": "30c15685-898a-43e4-b7b0-e3872fb59473",
   "metadata": {},
   "outputs": [],
   "source": [
    "super_names = [\"Black Widow\", \"Iron Man\", \"Doctor Strange\"]\n",
    "real_names = [\"Natasha Romanoff\", \"Tony Stark\", \"Stephen Strange\"]"
   ]
  },
  {
   "cell_type": "code",
   "execution_count": 21,
   "id": "6fc98c06-9ca6-4b8f-a3a6-1373a6927985",
   "metadata": {},
   "outputs": [
    {
     "name": "stdout",
     "output_type": "stream",
     "text": [
      "Natasha Romanoff is Marvel's Black Widow!\n",
      "Tony Stark is Marvel's Iron Man!\n",
      "Stephen Strange is Marvel's Doctor Strange!\n"
     ]
    }
   ],
   "source": [
    "for i in range(len(real_names)):   # len(real_names) is 3 because there are 3 elements inside this list. Hence, 'i' will be defined as 0,1,2\n",
    "    real_name = real_names[i]     #Notice that I have used the len(real_names) to get how many times the loop should run\n",
    "    super_name = super_names[i]        \n",
    "    print(f\"{real_name} is Marvel's {super_name}!\")"
   ]
  },
  {
   "cell_type": "markdown",
   "id": "48d4837b-1b40-4b1e-ad98-ddda8ee3092f",
   "metadata": {},
   "source": [
    "- **Remember that for can be run a given number of times using range()**\n",
    "\n",
    "- **range and enumerate only work in looping**"
   ]
  },
  {
   "attachments": {},
   "cell_type": "markdown",
   "id": "9eeee35f",
   "metadata": {},
   "source": [
    "# 2 while"
   ]
  },
  {
   "cell_type": "markdown",
   "id": "b1218ff9-4f05-437f-ba20-006efe4eb6c8",
   "metadata": {},
   "source": [
    "- while loop is set up so that it **keeps on running** while a **condition is True**.\n",
    "- So the while loop checks the condition at the start and begins another loop if it is True."
   ]
  },
  {
   "cell_type": "code",
   "execution_count": 2,
   "id": "1bc7a597-7652-484e-bf25-2f69613c91e4",
   "metadata": {},
   "outputs": [
    {
     "name": "stdout",
     "output_type": "stream",
     "text": [
      "0\n",
      "1\n",
      "2\n",
      "3\n",
      "4\n"
     ]
    }
   ],
   "source": [
    "number = 0\n",
    "\n",
    "while number < 5:  #loop keeps on going while the number is less than 5\n",
    "    print(number)\n",
    "    number += 1"
   ]
  }
 ],
 "metadata": {
  "kernelspec": {
   "display_name": "Python 3 (ipykernel)",
   "language": "python",
   "name": "python3"
  },
  "language_info": {
   "codemirror_mode": {
    "name": "ipython",
    "version": 3
   },
   "file_extension": ".py",
   "mimetype": "text/x-python",
   "name": "python",
   "nbconvert_exporter": "python",
   "pygments_lexer": "ipython3",
   "version": "3.12.1"
  },
  "toc": {
   "base_numbering": 1,
   "nav_menu": {},
   "number_sections": true,
   "sideBar": true,
   "skip_h1_title": false,
   "title_cell": "Table of Contents",
   "title_sidebar": "Contents",
   "toc_cell": false,
   "toc_position": {},
   "toc_section_display": true,
   "toc_window_display": false
  },
  "vscode": {
   "interpreter": {
    "hash": "31f2aee4e71d21fbe5cf8b01ff0e069b9275f58929596ceb00d14d90e3e16cd6"
   }
  }
 },
 "nbformat": 4,
 "nbformat_minor": 5
}
