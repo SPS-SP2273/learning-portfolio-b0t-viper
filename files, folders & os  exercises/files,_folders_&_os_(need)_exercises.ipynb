{
 "cells": [
  {
   "attachments": {},
   "cell_type": "markdown",
   "id": "123456",
   "metadata": {},
   "source": [
    "<div style=\"text-align:left;font-size:2em\"><span style=\"font-weight:bolder;font-size:1.25em\">SP2273 | Learning Portfolio</span><br><br><span style=\"font-weight:bold;color:darkred\">Files, Folders & OS (Need) Exercises</span></div>"
   ]
  },
  {
   "cell_type": "markdown",
   "id": "8d76f252-4e44-4689-914a-bbd75acaf6ef",
   "metadata": {},
   "source": [
    "**Task 1**\n",
    "\n",
    "Using the following dictionary (or otherwise), write a snippet of Python code to convert 'oct-08_singapore.txt' to 10-08-singapore.txt."
   ]
  },
  {
   "cell_type": "code",
   "execution_count": 1,
   "id": "beb75e6d-15a0-49eb-a3e8-e25b1831be8a",
   "metadata": {},
   "outputs": [],
   "source": [
    "month_dictionary = {\n",
    "'jan': '01', 'feb': '02', 'mar': '03',\n",
    "'apr': '04', 'may': '05', 'jun': '06',\n",
    "'jul': '07', 'aug': '08', 'sep': '09',\n",
    "'oct': '10', 'nov': '11', 'dec': '12'\n",
    "}"
   ]
  },
  {
   "cell_type": "code",
   "execution_count": 12,
   "id": "6e91b02b-c4e9-40fd-b86d-3110fbcc132f",
   "metadata": {},
   "outputs": [
    {
     "ename": "FileNotFoundError",
     "evalue": "[WinError 2] 系统找不到指定的文件。: 'oct-08_singapore.txt' -> '10-08_singapore.txt'",
     "output_type": "error",
     "traceback": [
      "\u001b[1;31m---------------------------------------------------------------------------\u001b[0m",
      "\u001b[1;31mFileNotFoundError\u001b[0m                         Traceback (most recent call last)",
      "Cell \u001b[1;32mIn[12], line 11\u001b[0m\n\u001b[0;32m      8\u001b[0m directory \u001b[38;5;241m=\u001b[39m os\u001b[38;5;241m.\u001b[39mpath\u001b[38;5;241m.\u001b[39mdirname(filename)  \u001b[38;5;66;03m# This is to extract the directory of the file\u001b[39;00m\n\u001b[0;32m      9\u001b[0m new_path \u001b[38;5;241m=\u001b[39m os\u001b[38;5;241m.\u001b[39mpath\u001b[38;5;241m.\u001b[39mjoin(directory, new_filename) \u001b[38;5;66;03m# here we create a enw path for the new file we created\u001b[39;00m\n\u001b[1;32m---> 11\u001b[0m \u001b[43mos\u001b[49m\u001b[38;5;241;43m.\u001b[39;49m\u001b[43mrename\u001b[49m\u001b[43m(\u001b[49m\u001b[43mfilename\u001b[49m\u001b[43m,\u001b[49m\u001b[43m \u001b[49m\u001b[43mnew_filename\u001b[49m\u001b[43m)\u001b[49m\n",
      "\u001b[1;31mFileNotFoundError\u001b[0m: [WinError 2] 系统找不到指定的文件。: 'oct-08_singapore.txt' -> '10-08_singapore.txt'"
     ]
    }
   ],
   "source": [
    "import os\n",
    "filename = 'oct-08_singapore.txt'  # first we name the file we want\n",
    "month_name = filename.split('-')[0] # Then we split on - sign. and index 0 to pick the month name\n",
    "day_city = filename.split('-')[1] # We also name the day and city part for future use\n",
    "numeric_month = month_dictionary[month_name] # we use the dictionary to get the corresponding number month\n",
    "new_filename = f'{numeric_month}-{day_city}'\n",
    "\n",
    "directory = os.path.dirname(filename)  # This is to extract the directory of the file\n",
    "new_path = os.path.join(directory, new_filename) # here we create a enw path for the new file we created\n",
    "\n",
    "os.rename(filename, new_filename)"
   ]
  }
 ],
 "metadata": {
  "kernelspec": {
   "display_name": "Python 3 (ipykernel)",
   "language": "python",
   "name": "python3"
  },
  "language_info": {
   "codemirror_mode": {
    "name": "ipython",
    "version": 3
   },
   "file_extension": ".py",
   "mimetype": "text/x-python",
   "name": "python",
   "nbconvert_exporter": "python",
   "pygments_lexer": "ipython3",
   "version": "3.12.1"
  },
  "toc": {
   "base_numbering": 1,
   "nav_menu": {},
   "number_sections": true,
   "sideBar": true,
   "skip_h1_title": false,
   "title_cell": "Table of Contents",
   "title_sidebar": "Contents",
   "toc_cell": false,
   "toc_position": {},
   "toc_section_display": true,
   "toc_window_display": false
  },
  "vscode": {
   "interpreter": {
    "hash": "31f2aee4e71d21fbe5cf8b01ff0e069b9275f58929596ceb00d14d90e3e16cd6"
   }
  }
 },
 "nbformat": 4,
 "nbformat_minor": 5
}
