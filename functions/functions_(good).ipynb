{
 "cells": [
  {
   "attachments": {},
   "cell_type": "markdown",
   "id": "123456",
   "metadata": {},
   "source": [
    "<div style=\"text-align:left;font-size:2em\"><span style=\"font-weight:bolder;font-size:1.25em\">SP2273 | Learning Portfolio</span><br><br><span style=\"font-weight:bold;color:darkred\">Functions (Good)</span></div>"
   ]
  },
  {
   "attachments": {},
   "cell_type": "markdown",
   "id": "7e8c2418",
   "metadata": {},
   "source": [
    "# What to expect in this chapter"
   ]
  },
  {
   "cell_type": "markdown",
   "id": "39610faa-3a37-4487-9cb2-f31bcd6e66c4",
   "metadata": {},
   "source": [
    "you will know the difference between positional, keyword, and default arguments of functions. You can also write code that checks and handles potential problems.\n",
    "\n",
    "There are two standard ways Python allows us to incorporate checks: **assert** and **try-except**."
   ]
  },
  {
   "attachments": {},
   "cell_type": "markdown",
   "id": "987e3db6",
   "metadata": {},
   "source": [
    "# 1 Checks, balances, and contingencies"
   ]
  },
  {
   "cell_type": "markdown",
   "id": "e3abe54c-5006-45c2-ae95-1c502fbbf31e",
   "metadata": {},
   "source": [
    "You cannot think of everything that can go run. So, have functions that can check errors for us."
   ]
  },
  {
   "attachments": {},
   "cell_type": "markdown",
   "id": "33905b2b",
   "metadata": {},
   "source": [
    "## 1.1 assert"
   ]
  },
  {
   "cell_type": "markdown",
   "id": "a546766b-3dcd-4af8-bb2a-67619148944c",
   "metadata": {},
   "source": [
    "Python has a command called **assert** that can **check a condition and halt execution if necessary**. It also gives the option of printing a message."
   ]
  },
  {
   "cell_type": "markdown",
   "id": "3eaca01d-38ee-4fc3-8bf3-9036e422cd20",
   "metadata": {},
   "source": [
    "Basic syntax: `assert condition-to-check, message` Assert will stop the flow if this condition failed."
   ]
  },
  {
   "cell_type": "code",
   "execution_count": 1,
   "id": "d3f564f2-5e66-40d5-b805-f10dae4ec4d3",
   "metadata": {},
   "outputs": [],
   "source": [
    "x = 10\n",
    "assert x >= 0, \"x is becoming negative!\""
   ]
  },
  {
   "cell_type": "code",
   "execution_count": 2,
   "id": "584cfce9-356f-463c-9865-af8343a04e54",
   "metadata": {},
   "outputs": [
    {
     "ename": "AssertionError",
     "evalue": "x is becoming negative!",
     "output_type": "error",
     "traceback": [
      "\u001b[1;31m---------------------------------------------------------------------------\u001b[0m",
      "\u001b[1;31mAssertionError\u001b[0m                            Traceback (most recent call last)",
      "Cell \u001b[1;32mIn[2], line 2\u001b[0m\n\u001b[0;32m      1\u001b[0m x \u001b[38;5;241m=\u001b[39m \u001b[38;5;241m-\u001b[39m\u001b[38;5;241m1\u001b[39m\n\u001b[1;32m----> 2\u001b[0m \u001b[38;5;28;01massert\u001b[39;00m x \u001b[38;5;241m>\u001b[39m\u001b[38;5;241m=\u001b[39m \u001b[38;5;241m0\u001b[39m, \u001b[38;5;124m\"\u001b[39m\u001b[38;5;124mx is becoming negative!\u001b[39m\u001b[38;5;124m\"\u001b[39m\n",
      "\u001b[1;31mAssertionError\u001b[0m: x is becoming negative!"
     ]
    }
   ],
   "source": [
    "x = -1\n",
    "assert x >= 0, \"x is becoming negative!\"    \n",
    "# an assertation error will be raised and the message is given."
   ]
  },
  {
   "attachments": {},
   "cell_type": "markdown",
   "id": "9cf889ef",
   "metadata": {},
   "source": [
    "## 1.2 try-except"
   ]
  },
  {
   "cell_type": "markdown",
   "id": "4d5c3600-aaa1-40a7-ad98-50857c9cf299",
   "metadata": {},
   "source": [
    "Normally when there is a problem, python will raise the problem and stop the flow. "
   ]
  },
  {
   "cell_type": "code",
   "execution_count": 3,
   "id": "784e595b-2829-4212-bd16-daf4dd987a1b",
   "metadata": {},
   "outputs": [
    {
     "name": "stdin",
     "output_type": "stream",
     "text": [
      "Give me a number and I will calculate its square. a\n"
     ]
    },
    {
     "ename": "ValueError",
     "evalue": "invalid literal for int() with base 10: 'a'",
     "output_type": "error",
     "traceback": [
      "\u001b[1;31m---------------------------------------------------------------------------\u001b[0m",
      "\u001b[1;31mValueError\u001b[0m                                Traceback (most recent call last)",
      "Cell \u001b[1;32mIn[3], line 2\u001b[0m\n\u001b[0;32m      1\u001b[0m number\u001b[38;5;241m=\u001b[39m\u001b[38;5;28minput\u001b[39m(\u001b[38;5;124m\"\u001b[39m\u001b[38;5;124mGive me a number and I will calculate its square.\u001b[39m\u001b[38;5;124m\"\u001b[39m)\n\u001b[1;32m----> 2\u001b[0m square\u001b[38;5;241m=\u001b[39m\u001b[38;5;28;43mint\u001b[39;49m\u001b[43m(\u001b[49m\u001b[43mnumber\u001b[49m\u001b[43m)\u001b[49m\u001b[38;5;241m*\u001b[39m\u001b[38;5;241m*\u001b[39m\u001b[38;5;241m2\u001b[39m              \u001b[38;5;66;03m# Convert English to number\u001b[39;00m\n\u001b[0;32m      3\u001b[0m \u001b[38;5;28mprint\u001b[39m(\u001b[38;5;124mf\u001b[39m\u001b[38;5;124m'\u001b[39m\u001b[38;5;124mThe square of \u001b[39m\u001b[38;5;132;01m{\u001b[39;00mnumber\u001b[38;5;132;01m}\u001b[39;00m\u001b[38;5;124m is \u001b[39m\u001b[38;5;132;01m{\u001b[39;00msquare\u001b[38;5;132;01m}\u001b[39;00m\u001b[38;5;124m!\u001b[39m\u001b[38;5;124m'\u001b[39m)\n",
      "\u001b[1;31mValueError\u001b[0m: invalid literal for int() with base 10: 'a'"
     ]
    }
   ],
   "source": [
    "number=input(\"Give me a number and I will calculate its square.\")\n",
    "square=int(number)**2              # Convert English to number\n",
    "print(f'The square of {number} is {square}!')   # Note that when entering a string, there is a valueerror."
   ]
  },
  {
   "cell_type": "code",
   "execution_count": 4,
   "id": "4f4e7215-f822-4171-815b-8e6b7bb6ddd7",
   "metadata": {},
   "outputs": [
    {
     "name": "stdin",
     "output_type": "stream",
     "text": [
      "Give me a number and I will calculate its square. a\n"
     ]
    },
    {
     "name": "stdout",
     "output_type": "stream",
     "text": [
      "Oh oh! I cannot square a!\n"
     ]
    }
   ],
   "source": [
    "try:\n",
    "    number=input(\"Give me a number and I will calculate its square.\")\n",
    "    square=int(number)**2\n",
    "    print(f'The square of {number} is {square}!')\n",
    "except:\n",
    "    print(f\"Oh oh! I cannot square {number}!\")   # Therefore, we use a try except block to solve this\n",
    "# If try does not work, python will go to except instead."
   ]
  },
  {
   "attachments": {},
   "cell_type": "markdown",
   "id": "988cb357",
   "metadata": {},
   "source": [
    "## 1.3 A simple suggestion"
   ]
  },
  {
   "cell_type": "markdown",
   "id": "f56b407c-0158-4b28-b65f-197a0d013664",
   "metadata": {},
   "source": [
    "When starting out with some code, it is always good for your code to signal to the outside world that it has finished certain milestones. A ‘soft’ way to do this is to include ‘print()’ statements here and there to let the outside world know what is happening in the innards of your program. Otherwise, you will stare at a blank cell, wondering what is happening."
   ]
  },
  {
   "attachments": {},
   "cell_type": "markdown",
   "id": "f03a24ee",
   "metadata": {},
   "source": [
    "# 2 Some loose ends"
   ]
  },
  {
   "attachments": {},
   "cell_type": "markdown",
   "id": "3add0ab8",
   "metadata": {},
   "source": [
    "## 2.1 Positional, keyword and default arguments"
   ]
  },
  {
   "cell_type": "markdown",
   "id": "1bbd2915-210c-4300-bda7-4412ed6ac59b",
   "metadata": {},
   "source": [
    "In the last chapter, we have two ways of entering argument for greetings.\n",
    "\n",
    "- greeting('Super Man')\n",
    "- greeting(name='Super Man')\n",
    "\n",
    "There are three ‘ways’ to pass a value to an argument. I will call them **positional**, **keyword** or **default**."
   ]
  },
  {
   "cell_type": "code",
   "execution_count": 5,
   "id": "c9932d9a-32d0-4578-88c2-bb465000f990",
   "metadata": {},
   "outputs": [],
   "source": [
    "def side_by_side(a, b, c=42):\n",
    "    return f'{a: 2d}|{b: 2d}|{c: 2d}'"
   ]
  },
  {
   "cell_type": "markdown",
   "id": "59f10ed6-57b1-47f7-9f7a-98e3bd29343d",
   "metadata": {},
   "source": [
    "- positional"
   ]
  },
  {
   "cell_type": "code",
   "execution_count": 7,
   "id": "adb5b523-35f4-47c4-9dcb-a15cf9c64d9d",
   "metadata": {},
   "outputs": [
    {
     "data": {
      "text/plain": [
       "' 1| 2| 3'"
      ]
     },
     "execution_count": 7,
     "metadata": {},
     "output_type": "execute_result"
    }
   ],
   "source": [
    "side_by_side(1, 2, 3) #Here, I am telling Python to assign 1, 2, 3 to a, b, c using the positional order of the arguments."
   ]
  },
  {
   "cell_type": "markdown",
   "id": "d038a858-b6a2-4a15-814e-dca0e9b20ec3",
   "metadata": {},
   "source": [
    "- keywords"
   ]
  },
  {
   "cell_type": "code",
   "execution_count": 9,
   "id": "3f43f54b-ccd6-43b1-a8f1-c31e2e1662c8",
   "metadata": {},
   "outputs": [
    {
     "data": {
      "text/plain": [
       "' 2| 1| 3'"
      ]
     },
     "execution_count": 9,
     "metadata": {},
     "output_type": "execute_result"
    }
   ],
   "source": [
    "side_by_side(c=3, b=1, a=2) #Here, I explicitly specify the keyword to assign the values to each of a, b, c. (No, the order does not matter)"
   ]
  },
  {
   "cell_type": "markdown",
   "id": "3c6e9965-8319-4d69-b945-fc53cf4bdd35",
   "metadata": {},
   "source": [
    "- default"
   ]
  },
  {
   "cell_type": "code",
   "execution_count": 11,
   "id": "ce72a170-0a44-44d7-87b5-173eb63c1338",
   "metadata": {},
   "outputs": [
    {
     "data": {
      "text/plain": [
       "' 1| 2| 42'"
      ]
     },
     "execution_count": 11,
     "metadata": {},
     "output_type": "execute_result"
    }
   ],
   "source": [
    "side_by_side(1, b=2)  # Note that the default of c is 42. Here is using positional to define a, keyword to define b and default to define c"
   ]
  },
  {
   "cell_type": "markdown",
   "id": "d43c0d84-bd83-4ac5-a8a0-267e52494ecc",
   "metadata": {},
   "source": [
    "- examples"
   ]
  },
  {
   "cell_type": "code",
   "execution_count": 13,
   "id": "48b5a143-a364-48ed-9469-c61ba1522d35",
   "metadata": {},
   "outputs": [
    {
     "data": {
      "text/plain": [
       "' 1| 2| 42'"
      ]
     },
     "execution_count": 13,
     "metadata": {},
     "output_type": "execute_result"
    }
   ],
   "source": [
    "side_by_side(1, 2)           # Two positional, 1 default\n",
    "## ' 1| 2| 42'\n",
    "side_by_side(1, 2, 3)        # Three positional\n",
    "## ' 1| 2| 3'\n",
    "side_by_side(a=1, b=2)       # Two keyword, 1 default\n",
    "## ' 1| 2| 42'\n",
    "side_by_side(c=3, b=1, a=2)  # Three keyword\n",
    "## ' 2| 1| 3'\n",
    "side_by_side(1, c=3, b=2)    # One positional, 2 keyword\n",
    "## ' 1| 2| 3'\n",
    "side_by_side(1, b=2)         # One positional, 1 keyword, 1 default\n",
    "## ' 1| 2| 42'"
   ]
  },
  {
   "cell_type": "markdown",
   "id": "7e037f40-2de3-441a-8178-2b4429c46916",
   "metadata": {},
   "source": [
    "- problem"
   ]
  },
  {
   "cell_type": "markdown",
   "id": "5bece646-8235-49db-b3c7-1eb907722d4a",
   "metadata": {},
   "source": [
    "**Keyword cannot be followed by positional argument!!!!!**\n",
    "\n",
    "**`side_by_side(a=2, 1)` wont work**\n",
    "\n",
    "Python cannot unambiguously determine the position of 1?"
   ]
  },
  {
   "attachments": {},
   "cell_type": "markdown",
   "id": "e4bd0e61",
   "metadata": {},
   "source": [
    "## 2.2 Docstrings"
   ]
  },
  {
   "cell_type": "markdown",
   "id": "444c4a27-3c4d-492a-906f-0adaae4078ee",
   "metadata": {},
   "source": [
    "Python has a docstring feature that allows us to **document** what a function does inside the function. This documentation (i.e., the docstring) is displayed when we ask Python to show us the help info using `help()`."
   ]
  },
  {
   "cell_type": "code",
   "execution_count": 15,
   "id": "2e9275b3-cf04-4e1b-9a41-64485ec6581d",
   "metadata": {},
   "outputs": [],
   "source": [
    "def side_by_side(a, b, c=42):\n",
    "    '''\n",
    "    A test function to demonstrate how \n",
    "    positional, keyword and default arguments \n",
    "    work.\n",
    "    '''\n",
    "    return f'{a: 2d}|{b: 2d}|{c: 2d}'   #A docstring needs to be sandwiched between a pair of '''"
   ]
  },
  {
   "cell_type": "code",
   "execution_count": 17,
   "id": "90a43f3d-1802-4e00-a290-b7c8a20090b9",
   "metadata": {},
   "outputs": [
    {
     "name": "stdout",
     "output_type": "stream",
     "text": [
      "Help on function side_by_side in module __main__:\n",
      "\n",
      "side_by_side(a, b, c=42)\n",
      "    A test function to demonstrate how\n",
      "    positional, keyword and default arguments\n",
      "    work.\n",
      "\n"
     ]
    }
   ],
   "source": [
    "help(side_by_side)  #Docstrings can be used for writing multiline comments"
   ]
  },
  {
   "attachments": {},
   "cell_type": "markdown",
   "id": "961745ac",
   "metadata": {},
   "source": [
    "## 2.3 Function are first-class citizens"
   ]
  },
  {
   "cell_type": "markdown",
   "id": "fadb3fe2-f957-4f73-9a91-38e493b44270",
   "metadata": {},
   "source": [
    "Functions have same privilige than variables. This means that we can use functions as an **argument** for another function!"
   ]
  },
  {
   "cell_type": "code",
   "execution_count": 20,
   "id": "73315007-bd46-4f4b-aab3-5420fe48edf3",
   "metadata": {},
   "outputs": [
    {
     "data": {
      "text/plain": [
       "-1.0"
      ]
     },
     "execution_count": 20,
     "metadata": {},
     "output_type": "execute_result"
    }
   ],
   "source": [
    "import numpy as np\n",
    "def my_function(angle, trig_function):  # Note that here, there is no () for function\n",
    "        return trig_function(angle)\n",
    "\n",
    "# Let's use the function\n",
    "my_function(np.pi/2, np.sin)        # This is doing sin(pi/2)\n",
    "## 1.0\n",
    "my_function(np.pi/2, np.cos)        \n",
    "## 6.123233995736766e-17\n",
    "my_function(np.pi/2, lambda x: np.cos(2*x))  # x is the argument and cos(2*x) is the expression\n",
    "## -1.0"
   ]
  },
  {
   "cell_type": "code",
   "execution_count": 22,
   "id": "22bdc1bf-de33-4ed0-a786-7dacd3ec8965",
   "metadata": {},
   "outputs": [
    {
     "data": {
      "text/plain": [
       "1.0"
      ]
     },
     "execution_count": 22,
     "metadata": {},
     "output_type": "execute_result"
    }
   ],
   "source": [
    "def my_function(a,b):   # Note that you can name it anything u want. my_function accept two arguments\n",
    "        return b(a)    # However, note here that you must make sure the function work properly\n",
    "\n",
    "# Let's use the function\n",
    "my_function(np.pi/2, np.sin)        "
   ]
  },
  {
   "cell_type": "markdown",
   "id": "b74b1f5f-4b08-47ba-bd0b-84c367197f81",
   "metadata": {},
   "source": [
    "**When we pass a function as an argument, we do not include the parenthesis ().**"
   ]
  },
  {
   "attachments": {},
   "cell_type": "markdown",
   "id": "04250495",
   "metadata": {},
   "source": [
    "## 2.4 More about unpacking"
   ]
  },
  {
   "cell_type": "markdown",
   "id": "91fd9272-4018-49c3-8261-a94682140949",
   "metadata": {},
   "source": [
    "unpacking can make extracting information from lists and arrays a breeze."
   ]
  },
  {
   "cell_type": "code",
   "execution_count": 29,
   "id": "40d75fd2-c410-4e1e-ad23-c86003da365d",
   "metadata": {},
   "outputs": [
    {
     "data": {
      "text/plain": [
       "(1, 2, 3)"
      ]
     },
     "execution_count": 29,
     "metadata": {},
     "output_type": "execute_result"
    }
   ],
   "source": [
    "x, y, z = [1, 2, 3] # we define x as 1, y as 2 , z as 3\n",
    "x, y, z"
   ]
  },
  {
   "cell_type": "code",
   "execution_count": 31,
   "id": "ae467684-4b6f-48fc-962a-85c013bc11a7",
   "metadata": {},
   "outputs": [
    {
     "data": {
      "text/plain": [
       "(1, 2, 3)"
      ]
     },
     "execution_count": 31,
     "metadata": {},
     "output_type": "execute_result"
    }
   ],
   "source": [
    "x, y, z = np.array([1, 2, 3])  \n",
    "x, y, z"
   ]
  },
  {
   "cell_type": "code",
   "execution_count": 32,
   "id": "5d527494-2e13-4643-a931-b83692b99ef1",
   "metadata": {},
   "outputs": [
    {
     "data": {
      "text/plain": [
       "(1, [2, 3, 4], 5)"
      ]
     },
     "execution_count": 32,
     "metadata": {},
     "output_type": "execute_result"
    }
   ],
   "source": [
    "x, *y, z = np.array([1, 2, 3, 4, 5])  # This means that x is the first element, z is the last element. Whatever in between will be y\n",
    "x, y, z"
   ]
  },
  {
   "cell_type": "code",
   "execution_count": 37,
   "id": "f4c83502-4370-477b-b2a2-5f5e97d463f0",
   "metadata": {},
   "outputs": [
    {
     "data": {
      "text/plain": [
       "[2, 3, 4]"
      ]
     },
     "execution_count": 37,
     "metadata": {},
     "output_type": "execute_result"
    }
   ],
   "source": [
    "x, *_, y = [1, 2, 3, 4, 5]  # Similar as above. Note that you must use a *\n",
    "_"
   ]
  }
 ],
 "metadata": {
  "kernelspec": {
   "display_name": "Python 3 (ipykernel)",
   "language": "python",
   "name": "python3"
  },
  "language_info": {
   "codemirror_mode": {
    "name": "ipython",
    "version": 3
   },
   "file_extension": ".py",
   "mimetype": "text/x-python",
   "name": "python",
   "nbconvert_exporter": "python",
   "pygments_lexer": "ipython3",
   "version": "3.12.1"
  },
  "toc": {
   "base_numbering": 1,
   "nav_menu": {},
   "number_sections": true,
   "sideBar": true,
   "skip_h1_title": false,
   "title_cell": "Table of Contents",
   "title_sidebar": "Contents",
   "toc_cell": false,
   "toc_position": {},
   "toc_section_display": true,
   "toc_window_display": false
  },
  "vscode": {
   "interpreter": {
    "hash": "31f2aee4e71d21fbe5cf8b01ff0e069b9275f58929596ceb00d14d90e3e16cd6"
   }
  }
 },
 "nbformat": 4,
 "nbformat_minor": 5
}
