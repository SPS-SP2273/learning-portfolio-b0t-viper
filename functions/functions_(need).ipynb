{
 "cells": [
  {
   "attachments": {},
   "cell_type": "markdown",
   "id": "123456",
   "metadata": {},
   "source": [
    "<div style=\"text-align:left;font-size:2em\"><span style=\"font-weight:bolder;font-size:1.25em\">SP2273 | Learning Portfolio</span><br><br><span style=\"font-weight:bold;color:darkred\">Functions (Need)</span></div>"
   ]
  },
  {
   "attachments": {},
   "cell_type": "markdown",
   "id": "bf2ced93",
   "metadata": {},
   "source": [
    "# What to expect in this chapter"
   ]
  },
  {
   "cell_type": "markdown",
   "id": "f94f4530-f90e-4dc4-89ac-adbf1f57988e",
   "metadata": {},
   "source": [
    "how to craft your own functions. In addition to its practicality, the modularity of functions prompts us to think of solutions about modular solutions to problems."
   ]
  },
  {
   "attachments": {},
   "cell_type": "markdown",
   "id": "4c5e7b54",
   "metadata": {},
   "source": [
    "# 1 User-defined functions"
   ]
  },
  {
   "cell_type": "markdown",
   "id": "a27c3334-ffa8-432d-93c6-24be1d8b0ebe",
   "metadata": {},
   "source": [
    "`print()` is an example of an **internal function in Python**. You can also create your **own functions**. There are two ways to do this: **named** and **anonymous**"
   ]
  },
  {
   "attachments": {},
   "cell_type": "markdown",
   "id": "0d67858b",
   "metadata": {},
   "source": [
    "## 1.1 Named Functions"
   ]
  },
  {
   "cell_type": "markdown",
   "id": "c957058c-098d-4ade-8e04-1174a12a720a",
   "metadata": {},
   "source": [
    " Let us see how return works. What is the difference between retuen and print."
   ]
  },
  {
   "cell_type": "code",
   "execution_count": 25,
   "id": "44b071d6-52fd-4fb0-9d82-72f87e883deb",
   "metadata": {},
   "outputs": [],
   "source": [
    "def plus(x,y):# Return will give plus(x,y) a defination. plus(x,y) will be defined as x+y\n",
    "    print(x+y)\n",
    "    return x+y\n",
    "\n",
    "def plus2(x,y):  # Here, since there is no return, plus2(x,y) will not have an defination. It will be defined as none\n",
    "    print(x+y)\n",
    "    return"
   ]
  },
  {
   "cell_type": "code",
   "execution_count": 27,
   "id": "e0017136-83f3-4e6f-87ca-72731128849d",
   "metadata": {},
   "outputs": [
    {
     "name": "stdout",
     "output_type": "stream",
     "text": [
      "3\n",
      "3\n"
     ]
    }
   ],
   "source": [
    "x = plus(1,2) # here, the function is ran. It will print first to give the first 3 then give x a defination of 1+2\n",
    "print(x)  # we print x and it will give us 3"
   ]
  },
  {
   "cell_type": "code",
   "execution_count": 31,
   "id": "c833a642-68b3-4452-946a-4d9fcf0c3ac9",
   "metadata": {},
   "outputs": [
    {
     "name": "stdout",
     "output_type": "stream",
     "text": [
      "3\n",
      "None\n"
     ]
    }
   ],
   "source": [
    "y = plus2(1,2)  # here, the function is ran. It will print first to give the first 3 then give y the defination of none\n",
    "print(y) # we print y and it will give us none"
   ]
  },
  {
   "attachments": {},
   "cell_type": "markdown",
   "id": "53192fbb",
   "metadata": {},
   "source": [
    "- ### Named functions that return"
   ]
  },
  {
   "cell_type": "code",
   "execution_count": 1,
   "id": "1fcb5c34",
   "metadata": {},
   "outputs": [],
   "source": [
    "def greeting(name):  # We define the function by using the keyword def\n",
    "                    #The function’s name is greeting and it accepts a single argument\n",
    "    if name == 'Batman':   \n",
    "        return 'Hello Batman! So, nice to meet you!'  \n",
    "    else:\n",
    "        return f'Hello {name}!'"
   ]
  },
  {
   "cell_type": "code",
   "execution_count": 2,
   "id": "f8f0b638-f6a2-464a-bfc8-566981eca78e",
   "metadata": {},
   "outputs": [
    {
     "data": {
      "text/plain": [
       "'Hello Super Man!'"
      ]
     },
     "execution_count": 2,
     "metadata": {},
     "output_type": "execute_result"
    }
   ],
   "source": [
    "greeting(\"Super Man\")"
   ]
  },
  {
   "cell_type": "code",
   "execution_count": 32,
   "id": "ce7f4f33-84e8-4fd6-b95e-3df9dc379539",
   "metadata": {},
   "outputs": [
    {
     "data": {
      "text/plain": [
       "'Hello Super Man!'"
      ]
     },
     "execution_count": 32,
     "metadata": {},
     "output_type": "execute_result"
    }
   ],
   "source": [
    "greeting(name=\"Super Man\")"
   ]
  },
  {
   "cell_type": "markdown",
   "id": "d0bf9714-e661-444d-a7e6-f9f764e0c3f8",
   "metadata": {},
   "source": [
    "- **Take note of the :, the indentations**\n",
    "- **When Python sees a return keyword it jumps out of the function with the return value.**"
   ]
  },
  {
   "cell_type": "markdown",
   "id": "4ee7ff20-4c48-40c3-b1c7-b52882ae7a98",
   "metadata": {},
   "source": [
    "You can pick up the returned value by assigning it to a variable or even use it directly like:"
   ]
  },
  {
   "cell_type": "code",
   "execution_count": 34,
   "id": "d818fc8e-c640-49d1-ab82-b06c2db6d540",
   "metadata": {},
   "outputs": [
    {
     "name": "stdout",
     "output_type": "stream",
     "text": [
      "Hello Super Man!\n"
     ]
    }
   ],
   "source": [
    "greet=greeting(name='Super Man')  #we define greet as the output of the function\n",
    "print(greet)"
   ]
  },
  {
   "cell_type": "code",
   "execution_count": 35,
   "id": "ee275f7e-89ae-4158-a4b6-29e428baa6d1",
   "metadata": {},
   "outputs": [
    {
     "name": "stdout",
     "output_type": "stream",
     "text": [
      "Hello Super Man!\n"
     ]
    }
   ],
   "source": [
    "print(greeting(name='Super Man'))"
   ]
  },
  {
   "cell_type": "markdown",
   "id": "ca447b42-9c87-41d7-821b-6dc7ab183cd9",
   "metadata": {},
   "source": [
    "I also like to point out that you can return almost anything! Here is an example of a function that accepts a list and returns the maximum, minimum and mean."
   ]
  },
  {
   "cell_type": "code",
   "execution_count": 36,
   "id": "d7d5bd67-e4af-4c5b-8f3b-709db3b400f8",
   "metadata": {},
   "outputs": [],
   "source": [
    "import numpy as np\n",
    "def basic_stats(numbers):\n",
    "    np_numbers = np.array(numbers)  # first we make the input into an array\n",
    "    my_min = np_numbers.min()   # we here define 3 variables that extract the min max and mean\n",
    "    my_max = np_numbers.max()\n",
    "    my_mean = np_numbers.mean()\n",
    "    return my_max, my_min, my_mean  # we define our function as max min and mean"
   ]
  },
  {
   "cell_type": "code",
   "execution_count": 37,
   "id": "d4d76b2b-64d6-4294-b98a-0faa81cd61b7",
   "metadata": {},
   "outputs": [
    {
     "data": {
      "text/plain": [
       "(5, 1, 3.0)"
      ]
     },
     "execution_count": 37,
     "metadata": {},
     "output_type": "execute_result"
    }
   ],
   "source": [
    "basic_stats([1, 2, 3, 4, 5])  # This will give us max min and mean"
   ]
  },
  {
   "cell_type": "code",
   "execution_count": 38,
   "id": "1d6c04ae-fa1d-4281-b332-45052cb0b1c2",
   "metadata": {},
   "outputs": [],
   "source": [
    "list_min, list_max, list_mean = basic_stats([1, 2, 3, 4, 5])  # u can then define those three values"
   ]
  },
  {
   "attachments": {},
   "cell_type": "markdown",
   "id": "961ded3e",
   "metadata": {},
   "source": [
    "- ### Named functions that don’t return"
   ]
  },
  {
   "cell_type": "markdown",
   "id": "14e17703-2776-4c19-bef5-aaa50634c83c",
   "metadata": {},
   "source": [
    "A function does not have to return anything. A good example is `print()`, which does something but does not return a value. You will often also need functions like these, for instance, to save data to a file. I will show you a few of such functions in later chapters."
   ]
  },
  {
   "attachments": {},
   "cell_type": "markdown",
   "id": "484d5c35",
   "metadata": {},
   "source": [
    " ## 1.2 Anonymous functions"
   ]
  },
  {
   "cell_type": "markdown",
   "id": "2ff9b037-36f0-4a52-9959-cca930322145",
   "metadata": {},
   "source": [
    "**Anonymous or lambda** functions are suitable for short one-liners"
   ]
  },
  {
   "cell_type": "code",
   "execution_count": 41,
   "id": "241f7341-a1bd-4686-8e2f-ff2e8f933ad0",
   "metadata": {},
   "outputs": [],
   "source": [
    "my_short_function = lambda name: f\"Hello {name}!\"  # this function accepts a single argument called name which is shown after the lambda\n",
    "                             # whatever that is behin the : is to tell what this function is about"
   ]
  },
  {
   "cell_type": "code",
   "execution_count": 43,
   "id": "d2c1920c-357a-4eb7-8f12-57055ca33a2b",
   "metadata": {},
   "outputs": [
    {
     "data": {
      "text/plain": [
       "'Hello yo!'"
      ]
     },
     "execution_count": 43,
     "metadata": {},
     "output_type": "execute_result"
    }
   ],
   "source": [
    "my_short_function('yo')  # by entering the argument yo here, it will show the definition."
   ]
  },
  {
   "cell_type": "code",
   "execution_count": 40,
   "id": "d6ad3abc-eccd-4a8e-aac6-69dfff201086",
   "metadata": {},
   "outputs": [
    {
     "data": {
      "text/plain": [
       "'Hello Super Man!'"
      ]
     },
     "execution_count": 40,
     "metadata": {},
     "output_type": "execute_result"
    }
   ],
   "source": [
    "my_short_function(name=\"Super Man\")"
   ]
  },
  {
   "attachments": {},
   "cell_type": "markdown",
   "id": "5eabe760",
   "metadata": {},
   "source": [
    "## 1.3 Optional arguments"
   ]
  },
  {
   "attachments": {},
   "cell_type": "markdown",
   "id": "5dc7ae50",
   "metadata": {},
   "source": [
    "## 1.4 The importance of functions?"
   ]
  },
  {
   "attachments": {},
   "cell_type": "markdown",
   "id": "55fe509b",
   "metadata": {},
   "source": [
    "### An argument for functions"
   ]
  },
  {
   "cell_type": "code",
   "execution_count": null,
   "id": "f5c0657b",
   "metadata": {},
   "outputs": [],
   "source": [
    "\n",
    "# Your code here\n"
   ]
  },
  {
   "attachments": {},
   "cell_type": "markdown",
   "id": "e42ac1db",
   "metadata": {},
   "source": [
    "### A word of caution"
   ]
  },
  {
   "cell_type": "code",
   "execution_count": null,
   "id": "23463df9",
   "metadata": {},
   "outputs": [],
   "source": [
    "\n",
    "# Your code here\n"
   ]
  }
 ],
 "metadata": {
  "kernelspec": {
   "display_name": "Python 3 (ipykernel)",
   "language": "python",
   "name": "python3"
  },
  "language_info": {
   "codemirror_mode": {
    "name": "ipython",
    "version": 3
   },
   "file_extension": ".py",
   "mimetype": "text/x-python",
   "name": "python",
   "nbconvert_exporter": "python",
   "pygments_lexer": "ipython3",
   "version": "3.12.1"
  },
  "toc": {
   "base_numbering": 1,
   "nav_menu": {},
   "number_sections": true,
   "sideBar": true,
   "skip_h1_title": false,
   "title_cell": "Table of Contents",
   "title_sidebar": "Contents",
   "toc_cell": false,
   "toc_position": {},
   "toc_section_display": true,
   "toc_window_display": false
  },
  "vscode": {
   "interpreter": {
    "hash": "31f2aee4e71d21fbe5cf8b01ff0e069b9275f58929596ceb00d14d90e3e16cd6"
   }
  }
 },
 "nbformat": 4,
 "nbformat_minor": 5
}
