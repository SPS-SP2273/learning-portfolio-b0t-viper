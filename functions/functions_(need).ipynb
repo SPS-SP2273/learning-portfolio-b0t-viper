{
 "cells": [
  {
   "attachments": {},
   "cell_type": "markdown",
   "id": "123456",
   "metadata": {},
   "source": [
    "<div style=\"text-align:left;font-size:2em\"><span style=\"font-weight:bolder;font-size:1.25em\">SP2273 | Learning Portfolio</span><br><br><span style=\"font-weight:bold;color:darkred\">Functions (Need)</span></div>"
   ]
  },
  {
   "attachments": {},
   "cell_type": "markdown",
   "id": "bf2ced93",
   "metadata": {},
   "source": [
    "# What to expect in this chapter"
   ]
  },
  {
   "cell_type": "markdown",
   "id": "f94f4530-f90e-4dc4-89ac-adbf1f57988e",
   "metadata": {},
   "source": [
    "how to craft your own functions. In addition to its practicality, the modularity of functions prompts us to think of solutions about modular solutions to problems."
   ]
  },
  {
   "attachments": {},
   "cell_type": "markdown",
   "id": "4c5e7b54",
   "metadata": {},
   "source": [
    "# 1 User-defined functions"
   ]
  },
  {
   "cell_type": "markdown",
   "id": "a27c3334-ffa8-432d-93c6-24be1d8b0ebe",
   "metadata": {},
   "source": [
    "`print()` is an example of an **internal function in Python**. You can also create your **own functions**. There are two ways to do this: **named** and **anonymous**"
   ]
  },
  {
   "attachments": {},
   "cell_type": "markdown",
   "id": "0d67858b",
   "metadata": {},
   "source": [
    "## 1.1 Named Functions"
   ]
  },
  {
   "cell_type": "markdown",
   "id": "c957058c-098d-4ade-8e04-1174a12a720a",
   "metadata": {},
   "source": [
    " Let us see how return works. What is the difference between retuen and print."
   ]
  },
  {
   "cell_type": "code",
   "execution_count": 25,
   "id": "44b071d6-52fd-4fb0-9d82-72f87e883deb",
   "metadata": {},
   "outputs": [],
   "source": [
    "def plus(x,y):# Return will give plus(x,y) a defination. plus(x,y) will be defined as x+y\n",
    "    print(x+y)\n",
    "    return x+y\n",
    "\n",
    "def plus2(x,y):  # Here, since there is no return, plus2(x,y) will not have an defination. It will be defined as none\n",
    "    print(x+y)\n",
    "    return"
   ]
  },
  {
   "cell_type": "code",
   "execution_count": 27,
   "id": "e0017136-83f3-4e6f-87ca-72731128849d",
   "metadata": {},
   "outputs": [
    {
     "name": "stdout",
     "output_type": "stream",
     "text": [
      "3\n",
      "3\n"
     ]
    }
   ],
   "source": [
    "x = plus(1,2) # here, the function is ran. It will print first to give the first 3 then give x a defination of 1+2\n",
    "print(x)  # we print x and it will give us 3"
   ]
  },
  {
   "cell_type": "code",
   "execution_count": 31,
   "id": "c833a642-68b3-4452-946a-4d9fcf0c3ac9",
   "metadata": {},
   "outputs": [
    {
     "name": "stdout",
     "output_type": "stream",
     "text": [
      "3\n",
      "None\n"
     ]
    }
   ],
   "source": [
    "y = plus2(1,2)  # here, the function is ran. It will print first to give the first 3 then give y the defination of none\n",
    "print(y) # we print y and it will give us none"
   ]
  },
  {
   "attachments": {},
   "cell_type": "markdown",
   "id": "53192fbb",
   "metadata": {},
   "source": [
    "- ### Named functions that return"
   ]
  },
  {
   "cell_type": "code",
   "execution_count": 1,
   "id": "1fcb5c34",
   "metadata": {},
   "outputs": [],
   "source": [
    "def greeting(name):  # We define the function by using the keyword def\n",
    "                    #The function’s name is greeting and it accepts a single argument\n",
    "    if name == 'Batman':   \n",
    "        return 'Hello Batman! So, nice to meet you!'  \n",
    "    else:\n",
    "        return f'Hello {name}!'"
   ]
  },
  {
   "cell_type": "code",
   "execution_count": 2,
   "id": "f8f0b638-f6a2-464a-bfc8-566981eca78e",
   "metadata": {},
   "outputs": [
    {
     "data": {
      "text/plain": [
       "'Hello Super Man!'"
      ]
     },
     "execution_count": 2,
     "metadata": {},
     "output_type": "execute_result"
    }
   ],
   "source": [
    "greeting(\"Super Man\")"
   ]
  },
  {
   "cell_type": "code",
   "execution_count": 32,
   "id": "ce7f4f33-84e8-4fd6-b95e-3df9dc379539",
   "metadata": {},
   "outputs": [
    {
     "data": {
      "text/plain": [
       "'Hello Super Man!'"
      ]
     },
     "execution_count": 32,
     "metadata": {},
     "output_type": "execute_result"
    }
   ],
   "source": [
    "greeting(name=\"Super Man\")"
   ]
  },
  {
   "cell_type": "markdown",
   "id": "d0bf9714-e661-444d-a7e6-f9f764e0c3f8",
   "metadata": {},
   "source": [
    "- **Take note of the :, the indentations**\n",
    "- **When Python sees a return keyword it jumps out of the function with the return value.**"
   ]
  },
  {
   "cell_type": "markdown",
   "id": "4ee7ff20-4c48-40c3-b1c7-b52882ae7a98",
   "metadata": {},
   "source": [
    "You can pick up the returned value by assigning it to a variable or even use it directly like:"
   ]
  },
  {
   "cell_type": "code",
   "execution_count": 34,
   "id": "d818fc8e-c640-49d1-ab82-b06c2db6d540",
   "metadata": {},
   "outputs": [
    {
     "name": "stdout",
     "output_type": "stream",
     "text": [
      "Hello Super Man!\n"
     ]
    }
   ],
   "source": [
    "greet=greeting(name='Super Man')  #we define greet as the output of the function\n",
    "print(greet)"
   ]
  },
  {
   "cell_type": "code",
   "execution_count": 35,
   "id": "ee275f7e-89ae-4158-a4b6-29e428baa6d1",
   "metadata": {},
   "outputs": [
    {
     "name": "stdout",
     "output_type": "stream",
     "text": [
      "Hello Super Man!\n"
     ]
    }
   ],
   "source": [
    "print(greeting(name='Super Man'))"
   ]
  },
  {
   "cell_type": "markdown",
   "id": "ca447b42-9c87-41d7-821b-6dc7ab183cd9",
   "metadata": {},
   "source": [
    "I also like to point out that you can return almost anything! Here is an example of a function that accepts a list and returns the maximum, minimum and mean."
   ]
  },
  {
   "cell_type": "code",
   "execution_count": 36,
   "id": "d7d5bd67-e4af-4c5b-8f3b-709db3b400f8",
   "metadata": {},
   "outputs": [],
   "source": [
    "import numpy as np\n",
    "def basic_stats(numbers):\n",
    "    np_numbers = np.array(numbers)  # first we make the input into an array\n",
    "    my_min = np_numbers.min()   # we here define 3 variables that extract the min max and mean\n",
    "    my_max = np_numbers.max()\n",
    "    my_mean = np_numbers.mean()\n",
    "    return my_max, my_min, my_mean  # we define our function as max min and mean"
   ]
  },
  {
   "cell_type": "code",
   "execution_count": 37,
   "id": "d4d76b2b-64d6-4294-b98a-0faa81cd61b7",
   "metadata": {},
   "outputs": [
    {
     "data": {
      "text/plain": [
       "(5, 1, 3.0)"
      ]
     },
     "execution_count": 37,
     "metadata": {},
     "output_type": "execute_result"
    }
   ],
   "source": [
    "basic_stats([1, 2, 3, 4, 5])  # This will give us max min and mean"
   ]
  },
  {
   "cell_type": "code",
   "execution_count": 38,
   "id": "1d6c04ae-fa1d-4281-b332-45052cb0b1c2",
   "metadata": {},
   "outputs": [],
   "source": [
    "list_min, list_max, list_mean = basic_stats([1, 2, 3, 4, 5])  # u can then define those three values"
   ]
  },
  {
   "attachments": {},
   "cell_type": "markdown",
   "id": "961ded3e",
   "metadata": {},
   "source": [
    "- ### Named functions that don’t return"
   ]
  },
  {
   "cell_type": "markdown",
   "id": "14e17703-2776-4c19-bef5-aaa50634c83c",
   "metadata": {},
   "source": [
    "A function does not have to return anything. A good example is `print()`, which does something but does not return a value. You will often also need functions like these, for instance, to save data to a file. I will show you a few of such functions in later chapters."
   ]
  },
  {
   "attachments": {},
   "cell_type": "markdown",
   "id": "484d5c35",
   "metadata": {},
   "source": [
    " ## 1.2 Anonymous functions"
   ]
  },
  {
   "cell_type": "markdown",
   "id": "2ff9b037-36f0-4a52-9959-cca930322145",
   "metadata": {},
   "source": [
    "**Anonymous or lambda** functions are suitable for short one-liners.\n",
    "\n",
    "**They are used to create functions without giving them a name**"
   ]
  },
  {
   "cell_type": "markdown",
   "id": "6c889e41-6f30-470b-b78b-d43c615e8d49",
   "metadata": {},
   "source": [
    "- The syntax is `lambda arguments: expression`"
   ]
  },
  {
   "cell_type": "code",
   "execution_count": 44,
   "id": "460fa554-c7a7-4f93-874e-9d7aceba9b26",
   "metadata": {},
   "outputs": [
    {
     "name": "stdout",
     "output_type": "stream",
     "text": [
      "5\n",
      "5\n"
     ]
    }
   ],
   "source": [
    "#Demonstration of difference\n",
    "\n",
    "# Regular function to add two numbers\n",
    "def add(x, y):\n",
    "    return x + y\n",
    "\n",
    "# Equivalent lambda function\n",
    "add_lambda = lambda x, y: x + y\n",
    "\n",
    "print(add(2, 3))        # Output: 5\n",
    "print(add_lambda(2, 3))  # Output: 5\n"
   ]
  },
  {
   "cell_type": "code",
   "execution_count": 41,
   "id": "241f7341-a1bd-4686-8e2f-ff2e8f933ad0",
   "metadata": {},
   "outputs": [],
   "source": [
    "my_short_function = lambda name: f\"Hello {name}!\"  # this function accepts a single argument called name which is shown after the lambda\n",
    "                             # whatever that is behin the : is to tell what this function is about"
   ]
  },
  {
   "cell_type": "code",
   "execution_count": 43,
   "id": "d2c1920c-357a-4eb7-8f12-57055ca33a2b",
   "metadata": {},
   "outputs": [
    {
     "data": {
      "text/plain": [
       "'Hello yo!'"
      ]
     },
     "execution_count": 43,
     "metadata": {},
     "output_type": "execute_result"
    }
   ],
   "source": [
    "my_short_function('yo')  # by entering the argument yo here, it will show the definition."
   ]
  },
  {
   "cell_type": "code",
   "execution_count": 40,
   "id": "d6ad3abc-eccd-4a8e-aac6-69dfff201086",
   "metadata": {},
   "outputs": [
    {
     "data": {
      "text/plain": [
       "'Hello Super Man!'"
      ]
     },
     "execution_count": 40,
     "metadata": {},
     "output_type": "execute_result"
    }
   ],
   "source": [
    "my_short_function(name=\"Super Man\")  #A lambda function always returns the value of the last statement."
   ]
  },
  {
   "cell_type": "markdown",
   "id": "6f3004b8-12cd-4ef6-b1b0-a80f0c79c117",
   "metadata": {},
   "source": [
    "- Another good example that is truly anonymous:"
   ]
  },
  {
   "cell_type": "code",
   "execution_count": 45,
   "id": "afe7f07b-b239-43bf-8e4b-e780c4fde847",
   "metadata": {},
   "outputs": [],
   "source": [
    "numbers=[[9, 0, -10],\n",
    "         [8, 1, -11],\n",
    "         [7, 2, -12],\n",
    "         [6, 3, -13],\n",
    "         [5, 4, -14],\n",
    "         [4, 5, -15],\n",
    "         [3, 6, -16],\n",
    "         [2, 7, -17],\n",
    "         [1, 8, -18],\n",
    "         [0, 9, -19]]  #I can use the sorted() function for this."
   ]
  },
  {
   "cell_type": "markdown",
   "id": "efd60d95-876f-4860-adb5-6341e67f455c",
   "metadata": {},
   "source": [
    "Sorting with default key"
   ]
  },
  {
   "cell_type": "code",
   "execution_count": 46,
   "id": "6ddf5d49-bee6-4f5e-b44a-114e6a7dff62",
   "metadata": {},
   "outputs": [
    {
     "data": {
      "text/plain": [
       "[[0, 9, -19],\n",
       " [1, 8, -18],\n",
       " [2, 7, -17],\n",
       " [3, 6, -16],\n",
       " [4, 5, -15],\n",
       " [5, 4, -14],\n",
       " [6, 3, -13],\n",
       " [7, 2, -12],\n",
       " [8, 1, -11],\n",
       " [9, 0, -10]]"
      ]
     },
     "execution_count": 46,
     "metadata": {},
     "output_type": "execute_result"
    }
   ],
   "source": [
    "sorted(numbers) # Sort by comparing the default key which is the first element of the sublist"
   ]
  },
  {
   "cell_type": "markdown",
   "id": "65f85ae6-10b0-434d-9c6f-56e8982c37f1",
   "metadata": {},
   "source": [
    "**the sorted() function iterates over the elements of the numbers list and applies the key function to each element for comparison during sorting.**"
   ]
  },
  {
   "cell_type": "markdown",
   "id": "528ee8eb-6070-4bf9-aede-170225d757e7",
   "metadata": {},
   "source": [
    "Sorting with custom key"
   ]
  },
  {
   "cell_type": "code",
   "execution_count": 47,
   "id": "5c7cde71-e795-40aa-983f-d8a3ca5f780e",
   "metadata": {},
   "outputs": [
    {
     "data": {
      "text/plain": [
       "[[9, 0, -10],\n",
       " [8, 1, -11],\n",
       " [7, 2, -12],\n",
       " [6, 3, -13],\n",
       " [5, 4, -14],\n",
       " [4, 5, -15],\n",
       " [3, 6, -16],\n",
       " [2, 7, -17],\n",
       " [1, 8, -18],\n",
       " [0, 9, -19]]"
      ]
     },
     "execution_count": 47,
     "metadata": {},
     "output_type": "execute_result"
    }
   ],
   "source": [
    "sorted(numbers, key=lambda x: x[1]) # Sort by comparing a custom key that uses the 2nd element (index=1)\n",
    "# we can change the ket to change the sorting criteria. Here, the key is changed to a lambda function.\n",
    "# The funcion has an argument of x and an output of x[1]"
   ]
  },
  {
   "cell_type": "markdown",
   "id": "733e7991-dd4e-474a-b822-8c823559a19a",
   "metadata": {},
   "source": [
    "**Note that Here, x represents each inner list in numbers, and `x[1]` represents the second element of each inner list**"
   ]
  },
  {
   "cell_type": "code",
   "execution_count": 50,
   "id": "f0ff6108-3470-4fc4-82a2-3f84ed5deda4",
   "metadata": {},
   "outputs": [
    {
     "data": {
      "text/plain": [
       "[[0, 9, -19],\n",
       " [1, 8, -18],\n",
       " [2, 7, -17],\n",
       " [3, 6, -16],\n",
       " [4, 5, -15],\n",
       " [5, 4, -14],\n",
       " [6, 3, -13],\n",
       " [7, 2, -12],\n",
       " [8, 1, -11],\n",
       " [9, 0, -10]]"
      ]
     },
     "execution_count": 50,
     "metadata": {},
     "output_type": "execute_result"
    }
   ],
   "source": [
    "sorted(numbers, key=lambda x: sum(x))  #sort according to the sum from smallest to biggest"
   ]
  },
  {
   "cell_type": "markdown",
   "id": "6bf975cd-4f90-41db-8316-ed609905f0ff",
   "metadata": {},
   "source": [
    "**This is really powerful as I can specify almost any criterion I like.**"
   ]
  },
  {
   "attachments": {},
   "cell_type": "markdown",
   "id": "5eabe760",
   "metadata": {},
   "source": [
    "## 1.3 Optional arguments"
   ]
  },
  {
   "cell_type": "markdown",
   "id": "b23ef6f3-fed4-4867-bc95-52e3cc26703a",
   "metadata": {},
   "source": [
    "- Python allows us to make arguments to our function **optional**.\n",
    "- we need to give the argument a **default value**. When no argument given, default will be run."
   ]
  },
  {
   "cell_type": "markdown",
   "id": "0768bc78-95fe-4ea6-a47b-522d19be8dc2",
   "metadata": {},
   "source": [
    "**EXAMPLE 1**"
   ]
  },
  {
   "cell_type": "code",
   "execution_count": 51,
   "id": "c1ffec4f-0648-4858-815b-5189c2f36240",
   "metadata": {},
   "outputs": [],
   "source": [
    "def greeting(name='no one'):\n",
    "    if name == 'Batman':\n",
    "        return 'Hello Batman! So, nice to meet you!'\n",
    "    else:\n",
    "        return f'Hello {name}!'\n",
    "\n",
    "# the parameter name is given a default value of 'no one'. This means that if the greeting function \n",
    "# is called without providing any arguments, it will default to using 'no one' as the value for name."
   ]
  },
  {
   "cell_type": "code",
   "execution_count": 52,
   "id": "bf71f49e-995d-4f9d-9b24-1bb881e497c4",
   "metadata": {},
   "outputs": [
    {
     "data": {
      "text/plain": [
       "'Hello no one!'"
      ]
     },
     "execution_count": 52,
     "metadata": {},
     "output_type": "execute_result"
    }
   ],
   "source": [
    "greeting()"
   ]
  },
  {
   "cell_type": "markdown",
   "id": "ea90c21c-0fd2-437a-ad8b-96b743db0817",
   "metadata": {},
   "source": [
    "**EXAMPLE 2**"
   ]
  },
  {
   "cell_type": "code",
   "execution_count": 56,
   "id": "51b1381e-9a02-48cb-a1ca-8c746e935261",
   "metadata": {},
   "outputs": [
    {
     "data": {
      "text/plain": [
       "\u001b[1;31mSignature:\u001b[0m \u001b[0mprint\u001b[0m\u001b[1;33m(\u001b[0m\u001b[1;33m*\u001b[0m\u001b[0margs\u001b[0m\u001b[1;33m,\u001b[0m \u001b[0msep\u001b[0m\u001b[1;33m=\u001b[0m\u001b[1;34m' '\u001b[0m\u001b[1;33m,\u001b[0m \u001b[0mend\u001b[0m\u001b[1;33m=\u001b[0m\u001b[1;34m'\\n'\u001b[0m\u001b[1;33m,\u001b[0m \u001b[0mfile\u001b[0m\u001b[1;33m=\u001b[0m\u001b[1;32mNone\u001b[0m\u001b[1;33m,\u001b[0m \u001b[0mflush\u001b[0m\u001b[1;33m=\u001b[0m\u001b[1;32mFalse\u001b[0m\u001b[1;33m)\u001b[0m\u001b[1;33m\u001b[0m\u001b[1;33m\u001b[0m\u001b[0m\n",
       "\u001b[1;31mDocstring:\u001b[0m\n",
       "Prints the values to a stream, or to sys.stdout by default.\n",
       "\n",
       "sep\n",
       "  string inserted between values, default a space.\n",
       "end\n",
       "  string appended after the last value, default a newline.\n",
       "file\n",
       "  a file-like object (stream); defaults to the current sys.stdout.\n",
       "flush\n",
       "  whether to forcibly flush the stream.\n",
       "\u001b[1;31mType:\u001b[0m      builtin_function_or_method"
      ]
     },
     "metadata": {},
     "output_type": "display_data"
    }
   ],
   "source": [
    "?print "
   ]
  },
  {
   "cell_type": "markdown",
   "id": "19fa5c3e-4d4a-48c0-a570-804c4dc8db43",
   "metadata": {},
   "source": [
    "You see that print() can accept other arguments that are optional with default values. However, we can specify them if we like;"
   ]
  },
  {
   "cell_type": "code",
   "execution_count": 57,
   "id": "2d07180b-e341-41dc-a51e-870324de7f80",
   "metadata": {},
   "outputs": [
    {
     "name": "stdout",
     "output_type": "stream",
     "text": [
      "I am Batman!\n"
     ]
    }
   ],
   "source": [
    "# Using default values\n",
    "print('I', 'am', 'Batman!')"
   ]
  },
  {
   "cell_type": "code",
   "execution_count": 58,
   "id": "2f2eb787-2876-4f7b-9158-7314f808c9be",
   "metadata": {},
   "outputs": [
    {
     "name": "stdout",
     "output_type": "stream",
     "text": [
      "I---am---Batman!\n"
     ]
    }
   ],
   "source": [
    "# Specifying an optional argument\n",
    "print('I', 'am', 'Batman!', sep='---')  "
   ]
  },
  {
   "cell_type": "markdown",
   "id": "334c534f-c9ae-462b-bb14-36322f9d6b23",
   "metadata": {},
   "source": [
    "Remember:\n",
    "\n",
    "- you can define your own functions,\n",
    "- functions can have optional arguments,\n",
    "- functions **don’t always** have to return anything."
   ]
  },
  {
   "attachments": {},
   "cell_type": "markdown",
   "id": "5dc7ae50",
   "metadata": {},
   "source": [
    "## 1.4 The importance of functions?"
   ]
  },
  {
   "attachments": {},
   "cell_type": "markdown",
   "id": "55fe509b",
   "metadata": {},
   "source": [
    "### An argument for functions"
   ]
  },
  {
   "cell_type": "markdown",
   "id": "d1025b40-d417-4731-b716-542831a88e8f",
   "metadata": {},
   "source": [
    "- **Abstraction of details**  If you break up a complicated solution into modular chunks (i.e., functions), it becomes easier to think about it because you are not dealing with all the details all at once. This hiding of ‘stuff’ is called **abstraction** in computer science lingo.\n",
    "    - real life example: You do not need to know the engine’s details (e.g. electric, petrol, diesel, guineapig) to use it. You can use the engine of almost any car because you are not required to know what happens inside.\n",
    "\n",
    "- **Reusability of code**  If you encapsulate a chunk of code in a function, it becomes straightforward to reuse it instead of copying and pasting at different places. This means your code will be shorter and more compact.\n",
    "- **Maintainability of code** With functions, your code is easier to change and maintain because you need only make changes in one place, at the function definition.\n"
   ]
  },
  {
   "attachments": {},
   "cell_type": "markdown",
   "id": "e42ac1db",
   "metadata": {},
   "source": [
    "### A word of caution"
   ]
  },
  {
   "cell_type": "markdown",
   "id": "6a8c1701-7725-433c-95ca-d35a659f653d",
   "metadata": {},
   "source": [
    "Don't abuse functions!!! Don't go create a lot of function and a lot of arguments that the code is hard to read."
   ]
  }
 ],
 "metadata": {
  "kernelspec": {
   "display_name": "Python 3 (ipykernel)",
   "language": "python",
   "name": "python3"
  },
  "language_info": {
   "codemirror_mode": {
    "name": "ipython",
    "version": 3
   },
   "file_extension": ".py",
   "mimetype": "text/x-python",
   "name": "python",
   "nbconvert_exporter": "python",
   "pygments_lexer": "ipython3",
   "version": "3.12.1"
  },
  "toc": {
   "base_numbering": 1,
   "nav_menu": {},
   "number_sections": true,
   "sideBar": true,
   "skip_h1_title": false,
   "title_cell": "Table of Contents",
   "title_sidebar": "Contents",
   "toc_cell": false,
   "toc_position": {},
   "toc_section_display": true,
   "toc_window_display": false
  },
  "vscode": {
   "interpreter": {
    "hash": "31f2aee4e71d21fbe5cf8b01ff0e069b9275f58929596ceb00d14d90e3e16cd6"
   }
  }
 },
 "nbformat": 4,
 "nbformat_minor": 5
}
