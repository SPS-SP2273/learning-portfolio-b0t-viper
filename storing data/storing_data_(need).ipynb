{
 "cells": [
  {
   "attachments": {},
   "cell_type": "markdown",
   "id": "123456",
   "metadata": {},
   "source": [
    "<div style=\"text-align:left;font-size:2em\"><span style=\"font-weight:bolder;font-size:1.25em\">SP2273 | Learning Portfolio</span><br><br><span style=\"font-weight:bold;color:darkred\">Storing Data (Need)</span></div>"
   ]
  },
  {
   "attachments": {},
   "cell_type": "markdown",
   "id": "ea9ed208",
   "metadata": {},
   "source": [
    "# What to expect in this chapter"
   ]
  },
  {
   "cell_type": "markdown",
   "id": "d29d621b-f9d0-4613-a47e-b94144ce1a04",
   "metadata": {},
   "source": [
    "This chapter will introduce many ways to store information."
   ]
  },
  {
   "attachments": {},
   "cell_type": "markdown",
   "id": "a89b64c3",
   "metadata": {},
   "source": [
    "# 1 Lists, Arrays & Dictionaries"
   ]
  },
  {
   "attachments": {},
   "cell_type": "markdown",
   "id": "10368119",
   "metadata": {},
   "source": [
    "## 1.1 Let’s compare"
   ]
  },
  {
   "cell_type": "markdown",
   "id": "6fff2e30-7a9e-477e-8ad6-5b06790cd1fd",
   "metadata": {},
   "source": [
    "**python list**"
   ]
  },
  {
   "cell_type": "code",
   "execution_count": 2,
   "id": "3b7dbc85-8b59-459f-825f-f508dbf92700",
   "metadata": {},
   "outputs": [],
   "source": [
    "py_super_names = [\"Black Widow\", \"Iron Man\", \"Doctor Strange\"]\n",
    "py_real_names = [\"Natasha Romanoff\", \"Tony Stark\", \"Stephen Strange\"]  # Learnt in previous chapters, list can use [] to create"
   ]
  },
  {
   "cell_type": "markdown",
   "id": "e26b9892-073a-4197-9767-94c6b1a1abee",
   "metadata": {},
   "source": [
    "**numpy array**\n"
   ]
  },
  {
   "cell_type": "code",
   "execution_count": 28,
   "id": "92002b11-8812-4c8f-bfad-a8dd5fd98ebe",
   "metadata": {},
   "outputs": [],
   "source": [
    "import numpy as np\n",
    "np_super_names = np.array([\"Black Widow\", \"Iron Man\", \"Doctor Strange\"])         #.array() is a property of numpy\n",
    "np_real_names = np.array([\"Natasha Romanoff\", \"Tony Stark\", \"Stephen Strange\"])"
   ]
  },
  {
   "cell_type": "markdown",
   "id": "9888eeb7-1ddb-4cd6-aefd-275e467c2c3e",
   "metadata": {},
   "source": [
    "**dictionary**"
   ]
  },
  {
   "cell_type": "code",
   "execution_count": 5,
   "id": "12eba9a6-8114-4c5f-9034-c7e671cb66b5",
   "metadata": {},
   "outputs": [],
   "source": [
    "superhero_info = {\n",
    "    \"Natasha Romanoff\": \"Black Widow\",\n",
    "    \"Tony Stark\": \"Iron Man\",\n",
    "    \"Stephen Strange\": \"Doctor Strange\"\n",
    "}    # As learnt before. The thing before : is called a key and the string after the : is called a value."
   ]
  },
  {
   "cell_type": "markdown",
   "id": "d8c42be5-9cce-4a3d-8146-4da94d06a260",
   "metadata": {},
   "source": [
    "Two things to note:\n",
    "\n",
    "- Dictionary elegantly holds the key and value together. However, it actually performs slower than a list(if there are way too many things inside the dictionary)\n",
    "- For lists and arrays, **the order matters**. I.e. ‘Iron Man’ must be in the same position as ‘Tony Stark’ for things to work."
   ]
  },
  {
   "cell_type": "markdown",
   "id": "fb3c212f-4ea5-40c9-8134-6b0b563ec8b9",
   "metadata": {},
   "source": [
    "List and arrays actually have a lot of features that dictionaries don't have. See below."
   ]
  },
  {
   "attachments": {},
   "cell_type": "markdown",
   "id": "db5ebfa5",
   "metadata": {},
   "source": [
    "## 1.2 Accessing data from a list (or array)"
   ]
  },
  {
   "cell_type": "markdown",
   "id": "f00fc206-568d-46c9-87a7-54becf58625f",
   "metadata": {},
   "source": [
    "![](https://sps.nus.edu.sg/sp2273/docs/python_basics/03_storing-data/python-zero-indexed-counting.png)"
   ]
  },
  {
   "cell_type": "markdown",
   "id": "7a609759-1303-4776-bf09-dcf6e29da5ac",
   "metadata": {},
   "source": [
    "- **Remeber that python start with zero**"
   ]
  },
  {
   "cell_type": "code",
   "execution_count": 2,
   "id": "b6e31e7f-f57e-4f23-ac9e-aac6432303d9",
   "metadata": {},
   "outputs": [],
   "source": [
    "py_super_names = [\"Black Widow\", \"Iron Man\", \"Doctor Strange\"]\n",
    "py_real_names = [\"Natasha Romanoff\", \"Tony Stark\", \"Stephen Strange\"]"
   ]
  },
  {
   "cell_type": "code",
   "execution_count": 8,
   "id": "3f70df4a-a3fa-4f89-8ad6-056a97707788",
   "metadata": {},
   "outputs": [
    {
     "data": {
      "text/plain": [
       "'Natasha Romanoff'"
      ]
     },
     "execution_count": 8,
     "metadata": {},
     "output_type": "execute_result"
    }
   ],
   "source": [
    "py_real_names[0]"
   ]
  },
  {
   "cell_type": "code",
   "execution_count": 9,
   "id": "20729915-631a-402d-a0a1-a16b8359581e",
   "metadata": {},
   "outputs": [
    {
     "data": {
      "text/plain": [
       "'Black Widow'"
      ]
     },
     "execution_count": 9,
     "metadata": {},
     "output_type": "execute_result"
    }
   ],
   "source": [
    "py_super_names[0]"
   ]
  },
  {
   "cell_type": "code",
   "execution_count": 10,
   "id": "3ec27f0a-c6c7-4b2d-bccb-02ddb07b4c6b",
   "metadata": {},
   "outputs": [
    {
     "name": "stdout",
     "output_type": "stream",
     "text": [
      "Natasha Romanoff is Black Widow\n"
     ]
    }
   ],
   "source": [
    "i=0   # The lecturer did this. O well take a look.\n",
    "print(py_real_names[i], 'is', py_super_names[i]) # remember the comma to separate the string and variable"
   ]
  },
  {
   "cell_type": "markdown",
   "id": "48c47ef9-6d5a-4877-bf4f-0cb2c38222ed",
   "metadata": {},
   "source": [
    "- **Reverse index**"
   ]
  },
  {
   "cell_type": "code",
   "execution_count": 12,
   "id": "e88a1647-5f60-49bd-b322-d919b99fd74b",
   "metadata": {},
   "outputs": [
    {
     "data": {
      "text/plain": [
       "'Doctor Strange'"
      ]
     },
     "execution_count": 12,
     "metadata": {},
     "output_type": "execute_result"
    }
   ],
   "source": [
    "py_super_names[-1]   # Reverse indexing is counting from behind to the front. -1 is the last one in the list."
   ]
  },
  {
   "cell_type": "markdown",
   "id": "5e542a3b-790f-4aaa-bffd-2b87ae777dc6",
   "metadata": {},
   "source": [
    "**Data in lists (and arrays) must be accessed using a zero-based index.**"
   ]
  },
  {
   "attachments": {},
   "cell_type": "markdown",
   "id": "f15c7368",
   "metadata": {},
   "source": [
    "## 1.3 Accessing data from a dictionary"
   ]
  },
  {
   "cell_type": "markdown",
   "id": "a741b814-bfc7-467b-96ad-50918187fd13",
   "metadata": {},
   "source": [
    "**Dictionary have a key-value structure. You can access the value using the key.**\n",
    "\n",
    "Dictionary cannot use index!!!"
   ]
  },
  {
   "cell_type": "code",
   "execution_count": 5,
   "id": "30708384-62b5-4795-916f-adff86af7071",
   "metadata": {},
   "outputs": [],
   "source": [
    "superhero_info = {\n",
    "    \"Natasha Romanoff\": \"Black Widow\",\n",
    "    \"Tony Stark\": \"Iron Man\",\n",
    "    \"Stephen Strange\": \"Doctor Strange\"\n",
    "}                  "
   ]
  },
  {
   "cell_type": "code",
   "execution_count": 13,
   "id": "486526d1-4cce-44c8-a1fe-f40536c9b2ec",
   "metadata": {},
   "outputs": [
    {
     "data": {
      "text/plain": [
       "'Black Widow'"
      ]
     },
     "execution_count": 13,
     "metadata": {},
     "output_type": "execute_result"
    }
   ],
   "source": [
    "superhero_info[\"Natasha Romanoff\"]"
   ]
  },
  {
   "cell_type": "code",
   "execution_count": 14,
   "id": "4b4b1cc6-9149-4841-8980-529d8ed2cb30",
   "metadata": {},
   "outputs": [
    {
     "data": {
      "text/plain": [
       "dict_keys(['Natasha Romanoff', 'Tony Stark', 'Stephen Strange'])"
      ]
     },
     "execution_count": 14,
     "metadata": {},
     "output_type": "execute_result"
    }
   ],
   "source": [
    "superhero_info.keys() # .key is an sttribute of the dictionary to give all keys"
   ]
  },
  {
   "cell_type": "code",
   "execution_count": 16,
   "id": "acb6e45b-9397-4e74-8fbd-3f9004f43f25",
   "metadata": {},
   "outputs": [
    {
     "data": {
      "text/plain": [
       "dict_values(['Black Widow', 'Iron Man', 'Doctor Strange'])"
      ]
     },
     "execution_count": 16,
     "metadata": {},
     "output_type": "execute_result"
    }
   ],
   "source": [
    "superhero_info.values() #. value is an attribute of the dictionary to give all values"
   ]
  },
  {
   "attachments": {},
   "cell_type": "markdown",
   "id": "8eda0ff3",
   "metadata": {},
   "source": [
    "## 1.4 Higher dimensional lists"
   ]
  },
  {
   "cell_type": "markdown",
   "id": "f8289386-83c7-42b2-b9da-3cc1d54c3905",
   "metadata": {},
   "source": [
    "`2D list is like: [[]   []   []   []]`\n",
    "\n",
    "`3D list is like: [   [[]   []]      [[]   []]      [[]   []]   ]`"
   ]
  },
  {
   "cell_type": "code",
   "execution_count": 20,
   "id": "f86157ae-7ac4-4dab-b529-b9d7fdbe53c9",
   "metadata": {},
   "outputs": [],
   "source": [
    "py_superhero_info = [['Natasha Romanoff', 'Black Widow'],\n",
    "                     ['Tony Stark', 'Iron Man'],    \n",
    "                     ['Stephen Strange', 'Doctor Strange']]    "
   ]
  },
  {
   "cell_type": "code",
   "execution_count": 19,
   "id": "6759572b-dba7-4744-804e-d7d11271ef5a",
   "metadata": {},
   "outputs": [
    {
     "name": "stdout",
     "output_type": "stream",
     "text": [
      "['Tony Stark', 'Iron Man']\n"
     ]
    }
   ],
   "source": [
    "print(py_superhero_info[1])   "
   ]
  },
  {
   "attachments": {},
   "cell_type": "markdown",
   "id": "ad0538c9",
   "metadata": {},
   "source": [
    "# 2 Lists vs. Arrays"
   ]
  },
  {
   "cell_type": "markdown",
   "id": "fce3fd8b-f58a-4611-aa91-b54935b8aa8e",
   "metadata": {},
   "source": [
    "Lists and arrays have some similarities but more differences."
   ]
  },
  {
   "attachments": {},
   "cell_type": "markdown",
   "id": "d810d5ff",
   "metadata": {},
   "source": [
    "## 2.1 Size"
   ]
  },
  {
   "cell_type": "markdown",
   "id": "6aefe716-3191-4725-ad57-7d50e286c5e2",
   "metadata": {},
   "source": [
    "Both list and array can use len() to see how many elements."
   ]
  },
  {
   "cell_type": "code",
   "execution_count": 21,
   "id": "ea9070f5-bcd8-4e54-9a4f-173813e25c6f",
   "metadata": {},
   "outputs": [],
   "source": [
    "import numpy as np"
   ]
  },
  {
   "cell_type": "code",
   "execution_count": 22,
   "id": "5e42c8e6-0120-4801-a607-19b944c3c85e",
   "metadata": {},
   "outputs": [],
   "source": [
    "py_list_2d = [[1, \"A\"], [2, \"B\"], [3, \"C\"], [4, \"D\"],\n",
    "              [5, \"E\"], [6, \"F\"], [7, \"G\"], [8, \"H\"],    #list is viewing as an entity, a box of whole things, array is viewing as many different boxes of things inside one\n",
    "              [9, \"I\"], [10, \"J\"]]\n",
    "\n",
    "np_array_2d = np.array(py_list_2d)      # Reusing the Python list   # the reason why we use array is because np has array whereas python got no array\n",
    "                                        # to create a NEW  # we can use np functions to change the array, but not python itself\n",
    "                                        # NumPy array"
   ]
  },
  {
   "cell_type": "code",
   "execution_count": 15,
   "id": "ea241b69-1c2c-4962-834d-8f0a56cf080a",
   "metadata": {},
   "outputs": [
    {
     "data": {
      "text/plain": [
       "10"
      ]
     },
     "execution_count": 15,
     "metadata": {},
     "output_type": "execute_result"
    }
   ],
   "source": [
    "len(py_list_2d)  #len is used to tell u how many things are inside this list"
   ]
  },
  {
   "cell_type": "code",
   "execution_count": 16,
   "id": "75e0bd50-df97-47db-b94c-d1d7092f6531",
   "metadata": {},
   "outputs": [
    {
     "data": {
      "text/plain": [
       "10"
      ]
     },
     "execution_count": 16,
     "metadata": {},
     "output_type": "execute_result"
    }
   ],
   "source": [
    "len(np_array_2d)"
   ]
  },
  {
   "cell_type": "code",
   "execution_count": 24,
   "id": "946ad924-a6f6-4bdd-a4a8-6ac224f4018e",
   "metadata": {},
   "outputs": [
    {
     "data": {
      "text/plain": [
       "(10, 2)"
      ]
     },
     "execution_count": 24,
     "metadata": {},
     "output_type": "execute_result"
    }
   ],
   "source": [
    "np_array_2d.shape   # 10 is the number of things inside the list/array. 2 is the dimension. In this case it is 2D.\n",
    "                    # shape is not a function!! don't use bracket."
   ]
  },
  {
   "attachments": {},
   "cell_type": "markdown",
   "id": "02f31543",
   "metadata": {},
   "source": [
    "## 2.2 Arrays are fussy about type"
   ]
  },
  {
   "cell_type": "markdown",
   "id": "521ea004-1309-4a66-94f0-7058ebd367ad",
   "metadata": {},
   "source": [
    "One prominent difference between lists and arrays is that **arrays insist on having only a single data type**; lists are more accommodating."
   ]
  },
  {
   "cell_type": "code",
   "execution_count": 25,
   "id": "b78711a6-1268-43b4-b292-95b12a9b2f3a",
   "metadata": {},
   "outputs": [],
   "source": [
    "py_list = [1, 1.5, 'A']\n",
    "np_array = np.array(py_list)"
   ]
  },
  {
   "cell_type": "code",
   "execution_count": 26,
   "id": "db7002d8-b103-455d-9f6d-c3dfb36cb314",
   "metadata": {},
   "outputs": [
    {
     "data": {
      "text/plain": [
       "[1, 1.5, 'A']"
      ]
     },
     "execution_count": 26,
     "metadata": {},
     "output_type": "execute_result"
    }
   ],
   "source": [
    "py_list  # Note that list can store both a numeric and a string here"
   ]
  },
  {
   "cell_type": "code",
   "execution_count": 27,
   "id": "9f31bcac-3970-497b-b38c-cede13c08d01",
   "metadata": {},
   "outputs": [
    {
     "data": {
      "text/plain": [
       "array(['1', '1.5', 'A'], dtype='<U32')"
      ]
     },
     "execution_count": 27,
     "metadata": {},
     "output_type": "execute_result"
    }
   ],
   "source": [
    "np_array  # Note that np array convert everything to a string!! It can only store one same data type."
   ]
  },
  {
   "cell_type": "markdown",
   "id": "bb45dec3-38c4-4432-bd84-3043e356223f",
   "metadata": {},
   "source": [
    "we can easily **change type (typecast)** using the ‘hidden’ function **astypes()**. More about this in a later chapter."
   ]
  },
  {
   "attachments": {},
   "cell_type": "markdown",
   "id": "44509a04",
   "metadata": {},
   "source": [
    "## 2.3 Adding a number"
   ]
  },
  {
   "cell_type": "markdown",
   "id": "0ec170c4-506b-4c97-93ab-8da115058f02",
   "metadata": {},
   "source": [
    "Numpy array has this function whereas list doesn't."
   ]
  },
  {
   "cell_type": "code",
   "execution_count": 18,
   "id": "13bc7ebe-f0b8-42c0-9e05-03697e346339",
   "metadata": {},
   "outputs": [],
   "source": [
    "py_list = [1, 2, 3, 4, 5]\n",
    "np_array = np.array(py_list)         # Reusing the Python list\n",
    "                                     # to create a NEW\n",
    "                                     # NumPy array"
   ]
  },
  {
   "cell_type": "code",
   "execution_count": 19,
   "id": "97339f5f-8327-4b76-b14b-ac814dd590c6",
   "metadata": {},
   "outputs": [
    {
     "ename": "TypeError",
     "evalue": "can only concatenate list (not \"int\") to list",
     "output_type": "error",
     "traceback": [
      "\u001b[1;31m---------------------------------------------------------------------------\u001b[0m",
      "\u001b[1;31mTypeError\u001b[0m                                 Traceback (most recent call last)",
      "Cell \u001b[1;32mIn[19], line 1\u001b[0m\n\u001b[1;32m----> 1\u001b[0m \u001b[43mpy_list\u001b[49m\u001b[43m \u001b[49m\u001b[38;5;241;43m+\u001b[39;49m\u001b[43m \u001b[49m\u001b[38;5;241;43m10\u001b[39;49m        \u001b[38;5;66;03m# Won't work!\u001b[39;00m\n",
      "\u001b[1;31mTypeError\u001b[0m: can only concatenate list (not \"int\") to list"
     ]
    }
   ],
   "source": [
    "py_list + 10        # Won't work!"
   ]
  },
  {
   "cell_type": "code",
   "execution_count": 20,
   "id": "f4e39126-ba12-4789-b81e-32d3dafd1004",
   "metadata": {},
   "outputs": [
    {
     "data": {
      "text/plain": [
       "array([11, 12, 13, 14, 15])"
      ]
     },
     "execution_count": 20,
     "metadata": {},
     "output_type": "execute_result"
    }
   ],
   "source": [
    "np_array + 10  # Numpy array allow ddition of numbers"
   ]
  },
  {
   "attachments": {},
   "cell_type": "markdown",
   "id": "098e5500",
   "metadata": {},
   "source": [
    "## 2.4 Adding another list"
   ]
  },
  {
   "cell_type": "markdown",
   "id": "e6bbb6a2-15fa-4dbe-8afa-c2206d629ac8",
   "metadata": {},
   "source": [
    "**DIFFERENT FEATURE!!!**"
   ]
  },
  {
   "cell_type": "code",
   "execution_count": 29,
   "id": "5e032016-0054-4e0b-9cd4-756fb5d75064",
   "metadata": {},
   "outputs": [],
   "source": [
    "py_list_1 = [1, 2, 3, 4, 5]\n",
    "py_list_2 = [10, 20, 30, 40, 50]\n",
    "\n",
    "np_array_1 = np.array(py_list_1)\n",
    "np_array_2 = np.array(py_list_2)"
   ]
  },
  {
   "cell_type": "code",
   "execution_count": 30,
   "id": "05acb82f-acc0-4b60-99e3-478025a37f7a",
   "metadata": {},
   "outputs": [
    {
     "data": {
      "text/plain": [
       "[1, 2, 3, 4, 5, 10, 20, 30, 40, 50]"
      ]
     },
     "execution_count": 30,
     "metadata": {},
     "output_type": "execute_result"
    }
   ],
   "source": [
    "py_list_1 + py_list_2    # When adding two list together, you combine their components"
   ]
  },
  {
   "cell_type": "code",
   "execution_count": 31,
   "id": "1e5e412e-0770-4c04-aad6-900b4430648b",
   "metadata": {},
   "outputs": [
    {
     "data": {
      "text/plain": [
       "array([11, 22, 33, 44, 55])"
      ]
     },
     "execution_count": 31,
     "metadata": {},
     "output_type": "execute_result"
    }
   ],
   "source": [
    "np_array_1 + np_array_2  # I view numpy as very mathematical. When adding two numpy, they are added mathematically, with the first number of each array adding each other and so on"
   ]
  },
  {
   "attachments": {},
   "cell_type": "markdown",
   "id": "5312e7bd",
   "metadata": {},
   "source": [
    "## 2.5 Multiplying by a Number"
   ]
  },
  {
   "cell_type": "code",
   "execution_count": 32,
   "id": "d01e512f-801c-4ea8-9845-12e67399aed4",
   "metadata": {},
   "outputs": [],
   "source": [
    "py_list = [1, 2, 3, 4, 5]\n",
    "np_array = np.array(py_list)         "
   ]
  },
  {
   "cell_type": "code",
   "execution_count": 39,
   "id": "248885df-eda7-48be-a56e-32de8266c264",
   "metadata": {},
   "outputs": [
    {
     "data": {
      "text/plain": [
       "[1, 2, 3, 4, 5, 1, 2, 3, 4, 5]"
      ]
     },
     "execution_count": 39,
     "metadata": {},
     "output_type": "execute_result"
    }
   ],
   "source": [
    "py_list*2  # Note that list can be multiplied by creating copies of its element. I don't like to understand it as math. \n",
    "#Instead, it is like copy and paste. "
   ]
  },
  {
   "cell_type": "code",
   "execution_count": 34,
   "id": "6bcfc524-4ccf-4709-9e69-2308a17b063c",
   "metadata": {},
   "outputs": [
    {
     "data": {
      "text/plain": [
       "array([ 2,  4,  6,  8, 10])"
      ]
     },
     "execution_count": 34,
     "metadata": {},
     "output_type": "execute_result"
    }
   ],
   "source": [
    "np_array*2  # I view numpy as math"
   ]
  },
  {
   "attachments": {},
   "cell_type": "markdown",
   "id": "cf50f6ce",
   "metadata": {},
   "source": [
    "## 2.6 Squaring"
   ]
  },
  {
   "cell_type": "code",
   "execution_count": 35,
   "id": "26c1737b-2d82-446d-ac6c-211d7a349504",
   "metadata": {},
   "outputs": [],
   "source": [
    "py_list = [1, 2, 3, 4, 5]\n",
    "np_array = np.array(py_list)"
   ]
  },
  {
   "cell_type": "code",
   "execution_count": 36,
   "id": "129e4359-3881-4b96-bfb2-1cb9cffe62a2",
   "metadata": {},
   "outputs": [
    {
     "ename": "TypeError",
     "evalue": "unsupported operand type(s) for ** or pow(): 'list' and 'int'",
     "output_type": "error",
     "traceback": [
      "\u001b[1;31m---------------------------------------------------------------------------\u001b[0m",
      "\u001b[1;31mTypeError\u001b[0m                                 Traceback (most recent call last)",
      "Cell \u001b[1;32mIn[36], line 1\u001b[0m\n\u001b[1;32m----> 1\u001b[0m \u001b[43mpy_list\u001b[49m\u001b[38;5;241;43m*\u001b[39;49m\u001b[38;5;241;43m*\u001b[39;49m\u001b[38;5;241;43m2\u001b[39;49m                      \u001b[38;5;66;03m# Won't work!  \u001b[39;00m\n",
      "\u001b[1;31mTypeError\u001b[0m: unsupported operand type(s) for ** or pow(): 'list' and 'int'"
     ]
    }
   ],
   "source": [
    "py_list**2                      # Won't work!  "
   ]
  },
  {
   "cell_type": "code",
   "execution_count": 38,
   "id": "dad81756-aa82-4938-a374-23d331d93cfa",
   "metadata": {},
   "outputs": [
    {
     "data": {
      "text/plain": [
       "array([ 1,  4,  9, 16, 25])"
      ]
     },
     "execution_count": 38,
     "metadata": {},
     "output_type": "execute_result"
    }
   ],
   "source": [
    "np_array**2   # Ok, at this rate, array is really like math. Afterall numpy is a math program."
   ]
  },
  {
   "attachments": {},
   "cell_type": "markdown",
   "id": "c2fe7a39",
   "metadata": {},
   "source": [
    "## 2.7 Asking questions"
   ]
  },
  {
   "cell_type": "code",
   "execution_count": 40,
   "id": "d5c872e3-8478-48c6-ba1d-b809bcf36231",
   "metadata": {},
   "outputs": [],
   "source": [
    "py_list = [1, 2, 3, 4, 5]\n",
    "np_array = np.array(py_list)         "
   ]
  },
  {
   "cell_type": "code",
   "execution_count": 41,
   "id": "723607cc-910d-4bb8-9f76-532bd2513dad",
   "metadata": {},
   "outputs": [
    {
     "data": {
      "text/plain": [
       "False"
      ]
     },
     "execution_count": 41,
     "metadata": {},
     "output_type": "execute_result"
    }
   ],
   "source": [
    "py_list == 3     # I think here is asking whether this list is defined as 3. Which is not the question we wanna ask actually."
   ]
  },
  {
   "cell_type": "code",
   "execution_count": 42,
   "id": "b583d0d8-2c2e-4bbd-85dd-3a238c2096b3",
   "metadata": {},
   "outputs": [
    {
     "data": {
      "text/plain": [
       "array([False, False,  True, False, False])"
      ]
     },
     "execution_count": 42,
     "metadata": {},
     "output_type": "execute_result"
    }
   ],
   "source": [
    "np_array == 3  # Array however, answer whether each element is 3."
   ]
  },
  {
   "cell_type": "code",
   "execution_count": 43,
   "id": "627a9b94-c528-4ccb-8e4c-04023cbad70e",
   "metadata": {},
   "outputs": [
    {
     "ename": "TypeError",
     "evalue": "'>' not supported between instances of 'list' and 'int'",
     "output_type": "error",
     "traceback": [
      "\u001b[1;31m---------------------------------------------------------------------------\u001b[0m",
      "\u001b[1;31mTypeError\u001b[0m                                 Traceback (most recent call last)",
      "Cell \u001b[1;32mIn[43], line 1\u001b[0m\n\u001b[1;32m----> 1\u001b[0m \u001b[43mpy_list\u001b[49m\u001b[43m \u001b[49m\u001b[38;5;241;43m>\u001b[39;49m\u001b[43m \u001b[49m\u001b[38;5;241;43m3\u001b[39;49m      \u001b[38;5;66;03m# Won't work!\u001b[39;00m\n",
      "\u001b[1;31mTypeError\u001b[0m: '>' not supported between instances of 'list' and 'int'"
     ]
    }
   ],
   "source": [
    "py_list > 3      # Won't work!"
   ]
  },
  {
   "cell_type": "code",
   "execution_count": 44,
   "id": "c2323c59-cf1f-460d-aa50-b0060186a14b",
   "metadata": {},
   "outputs": [
    {
     "data": {
      "text/plain": [
       "array([False, False, False,  True,  True])"
      ]
     },
     "execution_count": 44,
     "metadata": {},
     "output_type": "execute_result"
    }
   ],
   "source": [
    "np_array > 3    # Similar to previous explaination"
   ]
  },
  {
   "attachments": {},
   "cell_type": "markdown",
   "id": "9719b0f8",
   "metadata": {},
   "source": [
    "## 2.8 Mathematics"
   ]
  },
  {
   "cell_type": "code",
   "execution_count": 45,
   "id": "6c81b454-2990-4da7-91bb-2e454b17492d",
   "metadata": {},
   "outputs": [],
   "source": [
    "py_list = [1, 2, 3, 4, 5]\n",
    "np_array = np.array(py_list)         "
   ]
  },
  {
   "cell_type": "code",
   "execution_count": 46,
   "id": "e16b2671-210e-4ed9-9b79-62b00f81ba6b",
   "metadata": {},
   "outputs": [
    {
     "data": {
      "text/plain": [
       "15"
      ]
     },
     "execution_count": 46,
     "metadata": {},
     "output_type": "execute_result"
    }
   ],
   "source": [
    "sum(py_list)     # sum() is a base Python function"
   ]
  },
  {
   "cell_type": "code",
   "execution_count": 51,
   "id": "9b488728-550b-4b11-a2e5-9fe9051b34bc",
   "metadata": {},
   "outputs": [
    {
     "data": {
      "text/plain": [
       "15"
      ]
     },
     "execution_count": 51,
     "metadata": {},
     "output_type": "execute_result"
    }
   ],
   "source": [
    "np_array.sum()  # Note the difference! In list, sum is a function, in array, sum is a property of numpy"
   ]
  },
  {
   "cell_type": "code",
   "execution_count": 48,
   "id": "a969368b-2488-459c-929e-8acd8bdf1d77",
   "metadata": {},
   "outputs": [
    {
     "data": {
      "text/plain": [
       "5"
      ]
     },
     "execution_count": 48,
     "metadata": {},
     "output_type": "execute_result"
    }
   ],
   "source": [
    "max(py_list)     # max() is a base Python function that gives you the maximum number within the list"
   ]
  },
  {
   "cell_type": "code",
   "execution_count": 50,
   "id": "6cd9892f-07a9-401b-b0cc-524fb8c3714e",
   "metadata": {},
   "outputs": [
    {
     "data": {
      "text/plain": [
       "5"
      ]
     },
     "execution_count": 50,
     "metadata": {},
     "output_type": "execute_result"
    }
   ],
   "source": [
    "np_array.max()  # Note the difference! In list, max is a function, in array, max is a property of numpy"
   ]
  },
  {
   "cell_type": "code",
   "execution_count": 53,
   "id": "8e1601af-856a-4a70-b9fa-f5988641186c",
   "metadata": {},
   "outputs": [
    {
     "data": {
      "text/plain": [
       "1"
      ]
     },
     "execution_count": 53,
     "metadata": {},
     "output_type": "execute_result"
    }
   ],
   "source": [
    "min(py_list)     # min() is a base Python function that gives the smallest number"
   ]
  },
  {
   "cell_type": "code",
   "execution_count": 55,
   "id": "ce7f7fb6-395b-41bd-8dbd-b01f5cad6862",
   "metadata": {},
   "outputs": [
    {
     "data": {
      "text/plain": [
       "1"
      ]
     },
     "execution_count": 55,
     "metadata": {},
     "output_type": "execute_result"
    }
   ],
   "source": [
    "np_array.min()  # Note the difference! In list, min is a function, in array, min is a property of numpy"
   ]
  },
  {
   "cell_type": "code",
   "execution_count": 56,
   "id": "3200b4da-fc78-447f-8013-6ab9b7d4e6eb",
   "metadata": {},
   "outputs": [
    {
     "data": {
      "text/plain": [
       "3.0"
      ]
     },
     "execution_count": 56,
     "metadata": {},
     "output_type": "execute_result"
    }
   ],
   "source": [
    "np_array.mean()  # get the mean"
   ]
  },
  {
   "cell_type": "code",
   "execution_count": 58,
   "id": "486c0741-dd67-484c-8a16-cb0ac0d2b6bc",
   "metadata": {},
   "outputs": [
    {
     "data": {
      "text/plain": [
       "1.4142135623730951"
      ]
     },
     "execution_count": 58,
     "metadata": {},
     "output_type": "execute_result"
    }
   ],
   "source": [
    "np_array.std()  # get the sd"
   ]
  },
  {
   "cell_type": "markdown",
   "id": "61fa3ff8-96e1-4411-b2c1-9a481d27313b",
   "metadata": {},
   "source": [
    "**(roughly speaking) an operation on a list works on the whole list. In contrast, an operation on an array works on the individual elements of the array.**"
   ]
  },
  {
   "attachments": {},
   "cell_type": "markdown",
   "id": "b7504bda",
   "metadata": {},
   "source": [
    "# Exercises & Self-Assessment"
   ]
  },
  {
   "cell_type": "code",
   "execution_count": null,
   "id": "3756017d",
   "metadata": {},
   "outputs": [],
   "source": [
    "\n",
    "\n",
    "\n",
    "# Your solution here\n",
    "\n",
    "\n"
   ]
  },
  {
   "attachments": {},
   "cell_type": "markdown",
   "id": "1e3a4d81",
   "metadata": {},
   "source": [
    "## Footnotes"
   ]
  }
 ],
 "metadata": {
  "kernelspec": {
   "display_name": "Python 3 (ipykernel)",
   "language": "python",
   "name": "python3"
  },
  "language_info": {
   "codemirror_mode": {
    "name": "ipython",
    "version": 3
   },
   "file_extension": ".py",
   "mimetype": "text/x-python",
   "name": "python",
   "nbconvert_exporter": "python",
   "pygments_lexer": "ipython3",
   "version": "3.12.1"
  },
  "toc": {
   "base_numbering": 1,
   "nav_menu": {},
   "number_sections": true,
   "sideBar": true,
   "skip_h1_title": false,
   "title_cell": "Table of Contents",
   "title_sidebar": "Contents",
   "toc_cell": false,
   "toc_position": {},
   "toc_section_display": true,
   "toc_window_display": false
  },
  "vscode": {
   "interpreter": {
    "hash": "31f2aee4e71d21fbe5cf8b01ff0e069b9275f58929596ceb00d14d90e3e16cd6"
   }
  }
 },
 "nbformat": 4,
 "nbformat_minor": 5
}
