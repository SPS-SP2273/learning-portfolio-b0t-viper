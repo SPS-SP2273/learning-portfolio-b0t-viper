{
 "cells": [
  {
   "attachments": {},
   "cell_type": "markdown",
   "id": "123456",
   "metadata": {},
   "source": [
    "<div style=\"text-align:left;font-size:2em\"><span style=\"font-weight:bolder;font-size:1.25em\">SP2273 | Learning Portfolio</span><br><br><span style=\"font-weight:bold;color:darkred\">Storing Data (Good)</span></div>"
   ]
  },
  {
   "attachments": {},
   "cell_type": "markdown",
   "id": "d29aa270",
   "metadata": {},
   "source": [
    "# What to expect in this chapter"
   ]
  },
  {
   "cell_type": "markdown",
   "id": "a7b94043-cff9-418c-9334-4fc4b2b3da56",
   "metadata": {},
   "source": [
    "How to change and access the lists arrays or dictionaries.\n"
   ]
  },
  {
   "attachments": {},
   "cell_type": "markdown",
   "id": "bf6f0178",
   "metadata": {},
   "source": [
    "# 1 Subsetting: Indexing and Slicing"
   ]
  },
  {
   "cell_type": "markdown",
   "id": "c02ba620-4475-4059-8f42-b95a2f91f0ed",
   "metadata": {},
   "source": [
    "Subsetting is to select date, such as indexing and slicing.\n",
    "\n",
    "Indexing: picking a single element out of a list/array\n",
    "\n",
    "slicing: picking a range of elements out of a list/array"
   ]
  },
  {
   "attachments": {},
   "cell_type": "markdown",
   "id": "4788dea8",
   "metadata": {},
   "source": [
    "## 1.1 Lists & Arrays in 1D | Subsetting & Indexing"
   ]
  },
  {
   "cell_type": "markdown",
   "id": "ed9c6f38-8230-405e-98f9-f4c05ea20992",
   "metadata": {},
   "source": [
    "Since slicing gives us a range of elements, we must specify two indices to indicate where to start and end."
   ]
  },
  {
   "cell_type": "code",
   "execution_count": 3,
   "id": "28693953-ea8a-4eae-a547-5bbe486a2e3a",
   "metadata": {},
   "outputs": [],
   "source": [
    "import numpy as np"
   ]
  },
  {
   "cell_type": "code",
   "execution_count": 6,
   "id": "9c2ee52b-6465-47e2-b534-adbd31438fdb",
   "metadata": {},
   "outputs": [],
   "source": [
    "py_list=[\"a1\", \"b2\", \"c3\", \"d4\", \"e5\",\n",
    "         \"f6\", \"g7\", \"h8\", \"i9\", \"j10\"]\n",
    "np_array=np.array(py_list)     #This applies to both lists and arrays\n",
    "\n",
    "\n",
    "x = py_list  \n",
    "y = np_array"
   ]
  },
  {
   "cell_type": "markdown",
   "id": "7aaf4b60-3448-4d81-9489-669028f5cc2c",
   "metadata": {},
   "source": [
    "|Syntax|\tResult\t|\tObserved Result|\n",
    "|-----|-----|--------------|\n",
    "|`x[0]`\t|First element|\t'a1'|\t\n",
    "|`x[-1]`|\tLast element|\t'j10'|\t\n",
    "|`x[0:3]`|\tIndex 0 to 2|\t`['a1','b2','c3']`|\t\n",
    "|`x[1:6]`|\tIndex 1 to 5\t|`['b2','c3','d4','e5','f6']`|\n",
    "|`x[1:6:2]`\t|Index 1 to 5 in steps of 2|\t`['b2','d4','f6']`|\t\n",
    "|`x[5:]`|\tIndex 5 to the end|\t`['f6','g7','h8','i9','j10']`|\n",
    "|`x[:5]`|\tIndex 0 to 5|\t`['a1','b2','c3','d4','e5']`|\n",
    "|`x[5:2:-1]`|\tIndex 5 to 3 (i.e., in reverse)|\t`['f6','e5','d4']`|\n",
    "|`x[::-1]`\t|Reverses the list\t|`['j10','i9','h8',...,'b2','a1']`|"
   ]
  },
  {
   "cell_type": "markdown",
   "id": "6725933b-a6ae-478d-967c-ae22c99a85f2",
   "metadata": {},
   "source": [
    "**Syntax reasoning:**\n",
    "\n",
    "[] within this bracket, there are three components A:B:C.\n",
    "\n",
    "A: This is the starting slicing element\n",
    "\n",
    "B: This is the ending slicing element\n",
    "\n",
    "C: This is the slicing interval\n",
    "\n",
    "- If A and B are **left open**, it means slice from end of the list.\n",
    "- If C is -1, it means that slice from back to front."
   ]
  },
  {
   "cell_type": "markdown",
   "id": "4a35326a-649b-4034-99a9-41f1ed4d6a60",
   "metadata": {},
   "source": [
    "**Remember slicing in Python can be a bit tricky.**\n",
    "\r\n",
    "If you slice with` [i:j`], the slice will start at i and end at j-1, giving you a total of j-i elements."
   ]
  },
  {
   "attachments": {},
   "cell_type": "markdown",
   "id": "205558f4",
   "metadata": {},
   "source": [
    "## 1.2 Arrays only | Subsetting by masking"
   ]
  },
  {
   "cell_type": "markdown",
   "id": "9ab113d7-cec3-4846-8767-745c61e2785d",
   "metadata": {},
   "source": [
    "**Masking only work with numpy arrays!!**"
   ]
  },
  {
   "cell_type": "code",
   "execution_count": 8,
   "id": "1da5afab-0a78-46f7-8dc3-b8d555eeb1a7",
   "metadata": {},
   "outputs": [
    {
     "data": {
      "text/plain": [
       "array([False, False, False,  True,  True,  True,  True,  True,  True,\n",
       "        True])"
      ]
     },
     "execution_count": 8,
     "metadata": {},
     "output_type": "execute_result"
    }
   ],
   "source": [
    "import numpy as np\n",
    "np_array = np.array([1, 2, 3, 4, 5, 6, 7, 8, 9, 10])   # Use masking to subset\n",
    "my_mask = np_array > 3\n",
    "my_mask"
   ]
  },
  {
   "cell_type": "code",
   "execution_count": 12,
   "id": "a40ee7ac-196a-4f23-b92d-7cafe6f2b3b1",
   "metadata": {},
   "outputs": [
    {
     "data": {
      "text/plain": [
       "array([ 4,  5,  6,  7,  8,  9, 10])"
      ]
     },
     "execution_count": 12,
     "metadata": {},
     "output_type": "execute_result"
    }
   ],
   "source": [
    "np_array[my_mask]  #ask NumPy to show me only those that are True by\n",
    "                   # Remember that this is extracting an element from the list. \n",
    "                   # We can extract by using index or extract a subset like my_mask"
   ]
  },
  {
   "cell_type": "code",
   "execution_count": 13,
   "id": "8554309f-bcd1-4520-9544-2f5d61426e9d",
   "metadata": {},
   "outputs": [
    {
     "data": {
      "text/plain": [
       "array([ 4,  5,  6,  7,  8,  9, 10])"
      ]
     },
     "execution_count": 13,
     "metadata": {},
     "output_type": "execute_result"
    }
   ],
   "source": [
    "np_array[np_array > 3] # We can also use this to make everything easier"
   ]
  },
  {
   "cell_type": "markdown",
   "id": "69532a19-df04-4cb9-a8d6-fe2c723f7f83",
   "metadata": {},
   "source": [
    "**Interesting examples**"
   ]
  },
  {
   "cell_type": "code",
   "execution_count": 14,
   "id": "33b823ee-3947-457c-bc89-88941621f85a",
   "metadata": {},
   "outputs": [
    {
     "data": {
      "text/plain": [
       "array([1, 2, 3])"
      ]
     },
     "execution_count": 14,
     "metadata": {},
     "output_type": "execute_result"
    }
   ],
   "source": [
    "np_array[~(np_array > 3)]                 # '~' means 'NOT'. It is a bitwise not operator\n",
    "                                         # This is to invert our mask by getting elements that are masked"
   ]
  },
  {
   "cell_type": "code",
   "execution_count": 15,
   "id": "aa5fb253-4f81-477b-b39d-a2ee12f58208",
   "metadata": {},
   "outputs": [
    {
     "data": {
      "text/plain": [
       "array([4, 5, 6, 7])"
      ]
     },
     "execution_count": 15,
     "metadata": {},
     "output_type": "execute_result"
    }
   ],
   "source": [
    "np_array[(np_array > 3) & (np_array < 8)]     # '&' means 'AND'. We can combine one mask with another\n",
    "                                             # AND will show something only if both masks are true."
   ]
  },
  {
   "cell_type": "code",
   "execution_count": 16,
   "id": "6207856e-3fa7-45bb-b20a-0edb9d4e2770",
   "metadata": {},
   "outputs": [
    {
     "data": {
      "text/plain": [
       "array([], dtype=int32)"
      ]
     },
     "execution_count": 16,
     "metadata": {},
     "output_type": "execute_result"
    }
   ],
   "source": [
    "np_array[(np_array < 3) & (np_array > 8)]   # Note that AND works like a AND gate!! Only if both conditions are true, it gives output."
   ]
  },
  {
   "cell_type": "code",
   "execution_count": 17,
   "id": "f613a8f2-c39e-49ae-91bd-58067935abd9",
   "metadata": {},
   "outputs": [
    {
     "data": {
      "text/plain": [
       "array([ 1,  2,  9, 10])"
      ]
     },
     "execution_count": 17,
     "metadata": {},
     "output_type": "execute_result"
    }
   ],
   "source": [
    "np_array[(np_array < 3) | (np_array > 8)]    # '|' means 'OR'   \n",
    "                                             # Or gate. "
   ]
  },
  {
   "cell_type": "markdown",
   "id": "c5188c73-05d7-4d2a-89e2-7d2513d68cc6",
   "metadata": {},
   "source": [
    "- Always use the Bitwise NOT(~), Bitwise OR(|) and Bitwise AND(&) when combining masks with NumPy.\n",
    "- \r",
    "- \n",
    "Always use  **brackets**s   to clarify what you are asking the mask to do."
   ]
  },
  {
   "attachments": {},
   "cell_type": "markdown",
   "id": "ef54da03",
   "metadata": {},
   "source": [
    "## 1.3 Lists & Arrays in 2D | Indexing & Slicing"
   ]
  },
  {
   "cell_type": "markdown",
   "id": "52dc3dd3-1ff5-4bfa-85ac-cd65a8a4f7e8",
   "metadata": {},
   "source": [
    "The differences between lists and arrays become even more apparent with higher dimensional lists and arrays. Especially when you try indexing and slicing in higher dimensions."
   ]
  },
  {
   "cell_type": "code",
   "execution_count": 18,
   "id": "d321b160-8ff3-4c0c-9af0-a9b5d6a7db5c",
   "metadata": {},
   "outputs": [],
   "source": [
    "py_list_2d = [[1, \"A\"], [2, \"B\"], [3, \"C\"], [4, \"D\"],\n",
    "              [5, \"E\"], [6, \"F\"], [7, \"G\"], [8, \"H\"],\n",
    "              [9, \"I\"], [10, \"J\"]]\n",
    "\n",
    "np_array_2d = np.array(py_list_2d)"
   ]
  },
  {
   "cell_type": "markdown",
   "id": "3d77b207-9114-40d8-b8d1-52589e3a583c",
   "metadata": {},
   "source": [
    "**To get a position**"
   ]
  },
  {
   "cell_type": "code",
   "execution_count": 20,
   "id": "a253e208-3efe-4fe9-b54c-9554867e897a",
   "metadata": {},
   "outputs": [
    {
     "data": {
      "text/plain": [
       "[4, 'D']"
      ]
     },
     "execution_count": 20,
     "metadata": {},
     "output_type": "execute_result"
    }
   ],
   "source": [
    "py_list_2d[3]"
   ]
  },
  {
   "cell_type": "code",
   "execution_count": 19,
   "id": "56528de1-9d09-4d93-b8a2-74fa81e3e0ad",
   "metadata": {},
   "outputs": [
    {
     "data": {
      "text/plain": [
       "array(['4', 'D'], dtype='<U11')"
      ]
     },
     "execution_count": 19,
     "metadata": {},
     "output_type": "execute_result"
    }
   ],
   "source": [
    "np_array_2d[3]"
   ]
  },
  {
   "cell_type": "markdown",
   "id": "b2deffd2-097b-4d48-be96-1e889f16bbc0",
   "metadata": {},
   "source": [
    "**To get an element of a position**"
   ]
  },
  {
   "cell_type": "code",
   "execution_count": 21,
   "id": "810d3163-8577-4d92-8030-5adbff2a58e4",
   "metadata": {},
   "outputs": [
    {
     "data": {
      "text/plain": [
       "4"
      ]
     },
     "execution_count": 21,
     "metadata": {},
     "output_type": "execute_result"
    }
   ],
   "source": [
    "py_list_2d[3][0]   # Note the syntax differences"
   ]
  },
  {
   "cell_type": "code",
   "execution_count": 22,
   "id": "4c76d8c5-2499-40b9-a0ee-284a81490a07",
   "metadata": {},
   "outputs": [
    {
     "data": {
      "text/plain": [
       "'4'"
      ]
     },
     "execution_count": 22,
     "metadata": {},
     "output_type": "execute_result"
    }
   ],
   "source": [
    "np_array_2d[3, 0]"
   ]
  },
  {
   "cell_type": "markdown",
   "id": "7a63d5e0-2c18-4ae7-90a0-4628808e0d1b",
   "metadata": {},
   "source": [
    "**Slicing**"
   ]
  },
  {
   "cell_type": "code",
   "execution_count": 23,
   "id": "5af093ea-7eb6-4fb4-a8aa-7219ca297537",
   "metadata": {},
   "outputs": [
    {
     "data": {
      "text/plain": [
       "[[1, 'A'], [2, 'B'], [3, 'C']]"
      ]
     },
     "execution_count": 23,
     "metadata": {},
     "output_type": "execute_result"
    }
   ],
   "source": [
    "py_list_2d[:3]"
   ]
  },
  {
   "cell_type": "code",
   "execution_count": 24,
   "id": "48db77bb-769f-48cd-9b6e-55a1aa0d209d",
   "metadata": {},
   "outputs": [
    {
     "data": {
      "text/plain": [
       "array([['1', 'A'],\n",
       "       ['2', 'B'],\n",
       "       ['3', 'C']], dtype='<U11')"
      ]
     },
     "execution_count": 24,
     "metadata": {},
     "output_type": "execute_result"
    }
   ],
   "source": [
    "np_array_2d[:3]"
   ]
  },
  {
   "cell_type": "markdown",
   "id": "b3407939-02d8-4936-bb43-8a128678fae9",
   "metadata": {},
   "source": [
    "**Huge difference!!**"
   ]
  },
  {
   "cell_type": "code",
   "execution_count": 25,
   "id": "7cd6d33f-bd52-49ed-b2ad-d98b954f07ad",
   "metadata": {},
   "outputs": [
    {
     "data": {
      "text/plain": [
       "[1, 'A']"
      ]
     },
     "execution_count": 25,
     "metadata": {},
     "output_type": "execute_result"
    }
   ],
   "source": [
    "py_list_2d[:3][0]   # For list, it is like you create another list of the first 3 element and then index this new list to get the first element."
   ]
  },
  {
   "cell_type": "code",
   "execution_count": 26,
   "id": "0bbfce3e-2e6a-4474-ab31-02d258cbf4aa",
   "metadata": {},
   "outputs": [
    {
     "data": {
      "text/plain": [
       "array(['1', '2', '3'], dtype='<U11')"
      ]
     },
     "execution_count": 26,
     "metadata": {},
     "output_type": "execute_result"
    }
   ],
   "source": [
    "np_array_2d[:3, 0]  # For array, it is getting the first element of the first three element and placing them into new array"
   ]
  },
  {
   "cell_type": "code",
   "execution_count": 27,
   "id": "57fd3fb8-7dee-42ee-81e0-816f6d4bb80d",
   "metadata": {},
   "outputs": [
    {
     "data": {
      "text/plain": [
       "[4, 'D']"
      ]
     },
     "execution_count": 27,
     "metadata": {},
     "output_type": "execute_result"
    }
   ],
   "source": [
    "py_list_2d[3:6][0]`"
   ]
  },
  {
   "cell_type": "code",
   "execution_count": 28,
   "id": "e4fabf7a-5579-4a0b-a510-723c60158e35",
   "metadata": {},
   "outputs": [
    {
     "data": {
      "text/plain": [
       "array(['4', '5', '6'], dtype='<U11')"
      ]
     },
     "execution_count": 28,
     "metadata": {},
     "output_type": "execute_result"
    }
   ],
   "source": [
    "np_array_2d[3:6, 0]"
   ]
  },
  {
   "cell_type": "code",
   "execution_count": 29,
   "id": "e60d3fb9-0ee1-4ad0-95ee-7450563eb8e6",
   "metadata": {},
   "outputs": [
    {
     "data": {
      "text/plain": [
       "array(['1', '2', '3', '4', '5', '6', '7', '8', '9', '10'], dtype='<U11')"
      ]
     },
     "execution_count": 29,
     "metadata": {},
     "output_type": "execute_result"
    }
   ],
   "source": [
    "np_array_2d[:, 0]  # If you want all the first element of all elements"
   ]
  },
  {
   "attachments": {},
   "cell_type": "markdown",
   "id": "ee6718f7",
   "metadata": {},
   "source": [
    "## 1.4 Growing lists"
   ]
  },
  {
   "cell_type": "markdown",
   "id": "3e30d359-dd71-452e-a0cd-6494dd5af539",
   "metadata": {},
   "source": [
    "**One advantage of lists is their ease and efficiency in growing**. \n",
    "\n",
    "NumPy arrays are fantastic for fast math operations, **provided you do not change their size.**"
   ]
  },
  {
   "cell_type": "code",
   "execution_count": 30,
   "id": "233189fd-b4d4-4db6-a7f6-2bd3e6625e12",
   "metadata": {},
   "outputs": [
    {
     "data": {
      "text/plain": [
       "[1, 2, 1, 2, 1, 2, 1, 2, 1, 2]"
      ]
     },
     "execution_count": 30,
     "metadata": {},
     "output_type": "execute_result"
    }
   ],
   "source": [
    "x=[1, 2]*5\n",
    "x"
   ]
  },
  {
   "cell_type": "code",
   "execution_count": 32,
   "id": "9f4a20a0-f41b-44f5-90eb-f73707841176",
   "metadata": {},
   "outputs": [
    {
     "data": {
      "text/plain": [
       "[1, 2, 3, 4]"
      ]
     },
     "execution_count": 32,
     "metadata": {},
     "output_type": "execute_result"
    }
   ],
   "source": [
    "x=[1]\n",
    "x= x + [2]\n",
    "x= x + [3]\n",
    "x= x + [4]\n",
    "x"
   ]
  },
  {
   "cell_type": "code",
   "execution_count": 33,
   "id": "c4009932-6564-4ba2-bb32-b65fc92f6541",
   "metadata": {},
   "outputs": [
    {
     "data": {
      "text/plain": [
       "[1, 2, 3, 4]"
      ]
     },
     "execution_count": 33,
     "metadata": {},
     "output_type": "execute_result"
    }
   ],
   "source": [
    "x=[1]\n",
    "x+= [2]    # Recall that += is actually just plus, then equal.\n",
    "x+= [3]\n",
    "x+= [4]\n",
    "x"
   ]
  },
  {
   "cell_type": "code",
   "execution_count": 31,
   "id": "30ff6b18-cc29-4cf5-a1a1-edb2616a754f",
   "metadata": {},
   "outputs": [
    {
     "data": {
      "text/plain": [
       "[1, 2, 3, 4]"
      ]
     },
     "execution_count": 31,
     "metadata": {},
     "output_type": "execute_result"
    }
   ],
   "source": [
    "x=[1]\n",
    "x.append(2)\n",
    "x.append(3)\n",
    "x.append(4)\n",
    "x    # This is good because it runs exteremely fast"
   ]
  },
  {
   "cell_type": "markdown",
   "id": "e10833a3-2de9-492e-988f-6af2e62e2114",
   "metadata": {},
   "source": [
    "**Note that append glue exactly what you entered!! (read below)**"
   ]
  },
  {
   "cell_type": "code",
   "execution_count": 38,
   "id": "7de49b32-221c-48dd-a9f8-b7fef3bc4326",
   "metadata": {},
   "outputs": [
    {
     "data": {
      "text/plain": [
       "[10, 1]"
      ]
     },
     "execution_count": 38,
     "metadata": {},
     "output_type": "execute_result"
    }
   ],
   "source": [
    "x=[1]\n",
    "x.insert(0,10)\n",
    "x   # Not taught in lecture but this is interesting.\n",
    "    # insert have two arguments (A,B)\n",
    "    # A is the position that you wanna add to (zero index)\n",
    "    # B is the thing that you wanna add into the list"
   ]
  },
  {
   "cell_type": "markdown",
   "id": "3cb2b40e-0d98-48b3-90f1-f350dcab0eef",
   "metadata": {},
   "source": [
    "**For multiple element**"
   ]
  },
  {
   "cell_type": "code",
   "execution_count": 39,
   "id": "ebd4f594-5679-4a01-8c50-f7b08e7958a4",
   "metadata": {},
   "outputs": [
    {
     "data": {
      "text/plain": [
       "[1, 2, 3, 4, 5, 6]"
      ]
     },
     "execution_count": 39,
     "metadata": {},
     "output_type": "execute_result"
    }
   ],
   "source": [
    "x = [1, 2, 3]\n",
    "x += [4, 5, 6]   # Normal\n",
    "x"
   ]
  },
  {
   "cell_type": "code",
   "execution_count": 40,
   "id": "25693000-16c4-4e6d-9d34-dab275104860",
   "metadata": {},
   "outputs": [
    {
     "data": {
      "text/plain": [
       "[1, 2, 3, 4, 5, 6]"
      ]
     },
     "execution_count": 40,
     "metadata": {},
     "output_type": "execute_result"
    }
   ],
   "source": [
    "x=[1, 2, 3]\n",
    "x.extend([4, 5, 6])   # Note that extend is like adding elements from one list to this existing list\n",
    "x"
   ]
  },
  {
   "cell_type": "code",
   "execution_count": 41,
   "id": "08847927-9701-4dba-aa63-2b398481faf5",
   "metadata": {},
   "outputs": [
    {
     "data": {
      "text/plain": [
       "[1, 2, 3, [4, 5, 6]]"
      ]
     },
     "execution_count": 41,
     "metadata": {},
     "output_type": "execute_result"
    }
   ],
   "source": [
    "x=[1, 2, 3]\n",
    "x.append([4, 5, 6])  # However, as mentioned. Append glue exactly what you entered into the exising listy\n",
    "x"
   ]
  },
  {
   "attachments": {},
   "cell_type": "markdown",
   "id": "bdc1b15b",
   "metadata": {},
   "source": [
    "# Some loose ends"
   ]
  },
  {
   "attachments": {},
   "cell_type": "markdown",
   "id": "f11542ee",
   "metadata": {},
   "source": [
    "## 1.5 Tuples"
   ]
  },
  {
   "cell_type": "markdown",
   "id": "63235665-b670-428f-952c-736c41261a06",
   "metadata": {},
   "source": [
    "Tuples is another data storage structure.\n",
    "\n",
    "- Truples use () instead of []\n",
    "- They **cannot be changed** after creation!! (immutable)"
   ]
  },
  {
   "cell_type": "code",
   "execution_count": 42,
   "id": "fa05332e-94c9-4863-92ad-6e7cc1de8dd5",
   "metadata": {},
   "outputs": [
    {
     "name": "stdout",
     "output_type": "stream",
     "text": [
      "1\n"
     ]
    }
   ],
   "source": [
    "a=(1, 2, 3)     # Define tuple\n",
    "print(a[0])    # Access data"
   ]
  },
  {
   "cell_type": "markdown",
   "id": "e925cadd-39e2-4441-8a50-1c294bf27ffe",
   "metadata": {},
   "source": [
    "**The following will NOT work**\n",
    "\n",
    "`a[0]=-1`\n",
    "\n",
    "`a[0]+= [10]`   \n",
    "\n",
    "**Tuples cannot be changed or added any elements or lists**"
   ]
  },
  {
   "attachments": {},
   "cell_type": "markdown",
   "id": "89ce6842",
   "metadata": {},
   "source": [
    "## 1.6 Be VERY careful when copying"
   ]
  },
  {
   "cell_type": "markdown",
   "id": "05441764-e410-458e-9f58-a4842609ed3b",
   "metadata": {},
   "source": [
    "You should be particularly mindful when making copies of lists and arrays."
   ]
  },
  {
   "cell_type": "markdown",
   "id": "119f65fa-4458-4e6e-9b5c-2a32e82f1aed",
   "metadata": {},
   "source": [
    "- For example, you wanna copya list"
   ]
  },
  {
   "cell_type": "code",
   "execution_count": 44,
   "id": "b511ee46-ce2c-4892-9562-e2f97012bc49",
   "metadata": {},
   "outputs": [],
   "source": [
    "x=[1, 2, 3]\n",
    "y=x           # DON'T do this!   \n",
    "z=x           # DON'T do this!\n",
    "             # This is bad because you are just defining x y z as the same list!="
   ]
  },
  {
   "cell_type": "code",
   "execution_count": 46,
   "id": "a46d242e-77a7-41c6-aa1c-00f99135ae82",
   "metadata": {},
   "outputs": [],
   "source": [
    "x=[1, 2, 3]\n",
    "y=x.copy()\n",
    "z=x.copy()  # Instead, make a copy to ensure it become a new list."
   ]
  },
  {
   "cell_type": "markdown",
   "id": "f25ea3d9-70ee-4f97-aa5c-4d6c11dd7160",
   "metadata": {},
   "source": [
    "- Note that list is a mutable. Hence by using copy it can create a new list with same content.\n",
    "\n",
    "-  Note that for tuple, it is immutable. Hence just by defining the typle as another variable, it **automatically** create a new tuple. no need use copy."
   ]
  },
  {
   "attachments": {},
   "cell_type": "markdown",
   "id": "642b7760",
   "metadata": {},
   "source": [
    "# Exercises & Self-Assessment"
   ]
  },
  {
   "cell_type": "code",
   "execution_count": null,
   "id": "3594cc49",
   "metadata": {},
   "outputs": [],
   "source": [
    "\n",
    "\n",
    "\n",
    "# Your solution here\n",
    "\n",
    "\n"
   ]
  },
  {
   "attachments": {},
   "cell_type": "markdown",
   "id": "72c5782d",
   "metadata": {},
   "source": [
    "## Footnotes"
   ]
  }
 ],
 "metadata": {
  "kernelspec": {
   "display_name": "Python 3 (ipykernel)",
   "language": "python",
   "name": "python3"
  },
  "language_info": {
   "codemirror_mode": {
    "name": "ipython",
    "version": 3
   },
   "file_extension": ".py",
   "mimetype": "text/x-python",
   "name": "python",
   "nbconvert_exporter": "python",
   "pygments_lexer": "ipython3",
   "version": "3.12.1"
  },
  "toc": {
   "base_numbering": 1,
   "nav_menu": {},
   "number_sections": true,
   "sideBar": true,
   "skip_h1_title": false,
   "title_cell": "Table of Contents",
   "title_sidebar": "Contents",
   "toc_cell": false,
   "toc_position": {},
   "toc_section_display": true,
   "toc_window_display": false
  },
  "vscode": {
   "interpreter": {
    "hash": "31f2aee4e71d21fbe5cf8b01ff0e069b9275f58929596ceb00d14d90e3e16cd6"
   }
  }
 },
 "nbformat": 4,
 "nbformat_minor": 5
}
