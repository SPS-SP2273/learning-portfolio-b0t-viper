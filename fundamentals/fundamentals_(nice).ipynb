{
 "cells": [
  {
   "attachments": {},
   "cell_type": "markdown",
   "id": "123456",
   "metadata": {},
   "source": [
    "<div style=\"text-align:left;font-size:2em\"><span style=\"font-weight:bolder;font-size:1.25em\">SP2273 | Learning Portfolio</span><br><br><span style=\"font-weight:bold;color:darkred\">Fundamentals (Nice)</span></div>"
   ]
  },
  {
   "attachments": {},
   "cell_type": "markdown",
   "id": "2d74e29b",
   "metadata": {},
   "source": [
    "# 1 If if is not enough"
   ]
  },
  {
   "cell_type": "markdown",
   "id": "f61017a8-af2b-4716-8296-1efd4bc7db59",
   "metadata": {},
   "source": [
    "Sometimes you have multiple conditions you want to check. For such situations, the if-elif-else statements can be cumbersome. Since Python 3.10, you can use a match-case statement that goes like this:"
   ]
  },
  {
   "cell_type": "code",
   "execution_count": 1,
   "id": "06fbfc4c-659c-4838-a8fb-db11c5bd1c5c",
   "metadata": {},
   "outputs": [
    {
     "name": "stdout",
     "output_type": "stream",
     "text": [
      "Hello Hero | Batman!\n"
     ]
    }
   ],
   "source": [
    "name = 'Batman'\n",
    "\n",
    "match name:                     # this can be ysed when if elif else is not enough, when you have much more cases.\n",
    "    case 'Batman':\n",
    "        print('Hello Hero | Batman!')\n",
    "    case 'Robin':\n",
    "        print('Hello Sidekick | Robin!')\n",
    "    case _:\n",
    "        print('Hello World!')"
   ]
  },
  {
   "attachments": {},
   "cell_type": "markdown",
   "id": "dd248c90",
   "metadata": {},
   "source": [
    "# 2 Ternary operators or Conditional Statements"
   ]
  },
  {
   "cell_type": "markdown",
   "id": "529203c8-4381-49c8-9aee-7c2ce391be7f",
   "metadata": {},
   "source": [
    "Python offers ternary operators (containing three parts) that can be useful to make your code more readable and less verbose.\n"
   ]
  },
  {
   "cell_type": "code",
   "execution_count": 5,
   "id": "eb3a2bae-ebb1-4076-8a57-e2a47a267a3d",
   "metadata": {},
   "outputs": [
    {
     "name": "stdout",
     "output_type": "stream",
     "text": [
      "Bonjour!\n"
     ]
    }
   ],
   "source": [
    "nationality = 'French'\n",
    "if nationality == 'French':\n",
    "    greeting = \"Bonjour!\"      # this is what we have learnt\n",
    "else:\n",
    "    greeting = \"Hello!\"\n",
    "print(greeting)"
   ]
  },
  {
   "cell_type": "code",
   "execution_count": 6,
   "id": "8a87da0a-1347-444a-bb0d-1af372d9a48c",
   "metadata": {},
   "outputs": [],
   "source": [
    "greeting = \"Bonjour!\" if nationality == 'French' else \"Hello!\""
   ]
  },
  {
   "attachments": {},
   "cell_type": "markdown",
   "id": "9fd9b78e",
   "metadata": {},
   "source": [
    "# 3 Swapping values"
   ]
  },
  {
   "attachments": {},
   "cell_type": "markdown",
   "id": "e2f02889",
   "metadata": {},
   "source": [
    "# 4 There are more types"
   ]
  },
  {
   "attachments": {},
   "cell_type": "markdown",
   "id": "d0865527",
   "metadata": {},
   "source": [
    "# 5 Operator precedance"
   ]
  },
  {
   "attachments": {},
   "cell_type": "markdown",
   "id": "520e561e",
   "metadata": {},
   "source": [
    "# 6 Variables in Python are just names"
   ]
  },
  {
   "attachments": {},
   "cell_type": "markdown",
   "id": "71f1fa56",
   "metadata": {},
   "source": [
    "## 6.1 The Problem"
   ]
  },
  {
   "attachments": {},
   "cell_type": "markdown",
   "id": "d47f18d0",
   "metadata": {},
   "source": [
    "## 6.2 An explanation"
   ]
  },
  {
   "attachments": {},
   "cell_type": "markdown",
   "id": "974510ab",
   "metadata": {},
   "source": [
    "## 6.3 A solution"
   ]
  },
  {
   "attachments": {},
   "cell_type": "markdown",
   "id": "3e94c504",
   "metadata": {},
   "source": [
    "# 7 == is not the same as is"
   ]
  },
  {
   "attachments": {},
   "cell_type": "markdown",
   "id": "c2e16656",
   "metadata": {},
   "source": [
    "## Footnotes"
   ]
  }
 ],
 "metadata": {
  "kernelspec": {
   "display_name": "Python 3 (ipykernel)",
   "language": "python",
   "name": "python3"
  },
  "language_info": {
   "codemirror_mode": {
    "name": "ipython",
    "version": 3
   },
   "file_extension": ".py",
   "mimetype": "text/x-python",
   "name": "python",
   "nbconvert_exporter": "python",
   "pygments_lexer": "ipython3",
   "version": "3.12.1"
  },
  "toc": {
   "base_numbering": 1,
   "nav_menu": {},
   "number_sections": true,
   "sideBar": true,
   "skip_h1_title": false,
   "title_cell": "Table of Contents",
   "title_sidebar": "Contents",
   "toc_cell": false,
   "toc_position": {},
   "toc_section_display": true,
   "toc_window_display": false
  },
  "vscode": {
   "interpreter": {
    "hash": "31f2aee4e71d21fbe5cf8b01ff0e069b9275f58929596ceb00d14d90e3e16cd6"
   }
  }
 },
 "nbformat": 4,
 "nbformat_minor": 5
}
