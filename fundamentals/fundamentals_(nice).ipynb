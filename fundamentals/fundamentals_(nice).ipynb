{
 "cells": [
  {
   "attachments": {},
   "cell_type": "markdown",
   "id": "123456",
   "metadata": {},
   "source": [
    "<div style=\"text-align:left;font-size:2em\"><span style=\"font-weight:bolder;font-size:1.25em\">SP2273 | Learning Portfolio</span><br><br><span style=\"font-weight:bold;color:darkred\">Fundamentals (Nice)</span></div>"
   ]
  },
  {
   "attachments": {},
   "cell_type": "markdown",
   "id": "2d74e29b",
   "metadata": {},
   "source": [
    "# 1 If if is not enough"
   ]
  },
  {
   "cell_type": "markdown",
   "id": "f61017a8-af2b-4716-8296-1efd4bc7db59",
   "metadata": {},
   "source": [
    "Sometimes you have multiple conditions you want to check. For such situations, the if-elif-else statements can be cumbersome. Since Python 3.10, you can use a match-case statement that goes like this:"
   ]
  },
  {
   "cell_type": "code",
   "execution_count": 1,
   "id": "06fbfc4c-659c-4838-a8fb-db11c5bd1c5c",
   "metadata": {},
   "outputs": [
    {
     "name": "stdout",
     "output_type": "stream",
     "text": [
      "Hello Hero | Batman!\n"
     ]
    }
   ],
   "source": [
    "name = 'Batman'\n",
    "\n",
    "match name:                     # this can be ysed when if elif else is not enough, when you have much more cases.\n",
    "    case 'Batman':\n",
    "        print('Hello Hero | Batman!')\n",
    "    case 'Robin':\n",
    "        print('Hello Sidekick | Robin!')\n",
    "    case _:\n",
    "        print('Hello World!')"
   ]
  },
  {
   "attachments": {},
   "cell_type": "markdown",
   "id": "dd248c90",
   "metadata": {},
   "source": [
    "# 2 Ternary operators or Conditional Statements"
   ]
  },
  {
   "cell_type": "markdown",
   "id": "529203c8-4381-49c8-9aee-7c2ce391be7f",
   "metadata": {},
   "source": [
    "Python offers ternary operators (containing three parts) that can be useful to make your code more readable and less verbose.\n"
   ]
  },
  {
   "cell_type": "code",
   "execution_count": 2,
   "id": "eb3a2bae-ebb1-4076-8a57-e2a47a267a3d",
   "metadata": {},
   "outputs": [
    {
     "name": "stdout",
     "output_type": "stream",
     "text": [
      "Bonjour!\n"
     ]
    }
   ],
   "source": [
    "nationality = 'French'\n",
    "if nationality == 'French':\n",
    "    greeting = \"Bonjour!\"      # this is what we have learnt\n",
    "else:\n",
    "    greeting = \"Hello!\"\n",
    "print(greeting)"
   ]
  },
  {
   "cell_type": "code",
   "execution_count": 6,
   "id": "8a87da0a-1347-444a-bb0d-1af372d9a48c",
   "metadata": {},
   "outputs": [],
   "source": [
    "greeting = \"Bonjour!\" if nationality == 'French' else \"Hello!\""
   ]
  },
  {
   "cell_type": "code",
   "execution_count": 3,
   "id": "a5367510-bb61-4e37-95ab-5ea9889e2daa",
   "metadata": {},
   "outputs": [
    {
     "data": {
      "text/plain": [
       "'Hello!'"
      ]
     },
     "execution_count": 3,
     "metadata": {},
     "output_type": "execute_result"
    }
   ],
   "source": [
    "(\"Bonjour!\", \"Hello!\")[nationality == 'French']"
   ]
  },
  {
   "cell_type": "code",
   "execution_count": 4,
   "id": "a93c19e8-c820-4696-abde-2c7ada3f3e3f",
   "metadata": {},
   "outputs": [],
   "source": [
    "text = None\n",
    "message = text or \"No message!\""
   ]
  },
  {
   "attachments": {},
   "cell_type": "markdown",
   "id": "9fd9b78e",
   "metadata": {},
   "source": [
    "# 3 Swapping values"
   ]
  },
  {
   "cell_type": "markdown",
   "id": "8710c644-039d-45af-92cf-88c31b93d642",
   "metadata": {},
   "source": [
    "If you want to swap the content of two variables, you can do:"
   ]
  },
  {
   "cell_type": "code",
   "execution_count": 5,
   "id": "27dcd287-2393-413d-b733-e80af8a38496",
   "metadata": {},
   "outputs": [
    {
     "name": "stdout",
     "output_type": "stream",
     "text": [
      "2 1\n"
     ]
    }
   ],
   "source": [
    "a, b = 1, 2\n",
    "a, b = b, a   £ We recreate the drfination of a,b here\n",
    "print(a, b)"
   ]
  },
  {
   "attachments": {},
   "cell_type": "markdown",
   "id": "e2f02889",
   "metadata": {},
   "source": [
    "# 4 There are more types"
   ]
  },
  {
   "cell_type": "markdown",
   "id": "0070e15f-7605-4345-9901-4e8676ce47c5",
   "metadata": {},
   "source": [
    "We know that python does not store exact floats. What if you want to do some absurdly precise calculations?"
   ]
  },
  {
   "cell_type": "code",
   "execution_count": 7,
   "id": "41d9a14a-6784-4450-a3e3-8ed10d764a0b",
   "metadata": {},
   "outputs": [],
   "source": [
    "import numpy as np"
   ]
  },
  {
   "cell_type": "code",
   "execution_count": null,
   "id": "23cc1fa4-ab11-4a2f-b397-1acb3d62e4cd",
   "metadata": {},
   "outputs": [],
   "source": [
    "my_types = [\n",
    "    float,       # Default for core Python on my machine\n",
    "    np.float16,\n",
    "    np.float32,\n",
    "    np.float64,\n",
    "    np.float128\n",
    "]\n",
    "\n",
    "for my_type in my_types:\n",
    "    print(f'{my_type.__name__:<15s}:', np.finfo(my_type).eps)"
   ]
  },
  {
   "attachments": {},
   "cell_type": "markdown",
   "id": "d0865527",
   "metadata": {},
   "source": [
    "# 5 Operator precedance"
   ]
  },
  {
   "cell_type": "markdown",
   "id": "74ae94de-ca08-4ba3-b60a-e32454db9ad9",
   "metadata": {},
   "source": [
    "There is a ‘pecking order’ among the various operators in Python. This idea is called operator precedence. Below is a quick summary of how this is set up in Python.   **BASICALLY THE SEQUENCE OF THE SYNTAXES**"
   ]
  },
  {
   "cell_type": "markdown",
   "id": "416267a3-0a9f-4757-a851-8685a96050af",
   "metadata": {},
   "source": [
    "- Highest precedence at the top, lowest at the bottom.\n",
    "- Operators in the same box evaluate left to right."
   ]
  },
  {
   "cell_type": "markdown",
   "id": "90467ba3-5e6e-4bdd-9a24-e06ce9277f72",
   "metadata": {},
   "source": [
    "|Description\t|Operator|\n",
    "|------|-----------|\n",
    "|Parentheses(grouping)|\t()|\n",
    "|Function call|\tf(args...)|\n",
    "|Slicing|\t`x[index:index]`|\n",
    "|Subscription|\t`x[index]`|\n",
    "|Attribute reference|\tx.attribute|\n",
    "|Exponentiation|\t`**`|\n",
    "|Bitwise not|\t~x|\n",
    "|Positive, negative|\t+x, -x|\n",
    "|Multiplication, division, remainder|\t*, / ,%|\n",
    "|Addition, subtraction|\t+, -|\n",
    "|Bitwise shifts\t|<<, >>|\n",
    "|Bitwise AND|\t&|\n",
    "|Bitwise XOR|\t^|\n",
    "|Bitwise OR|\t`\\|`|\n",
    "|Comparisons, membership, identity|\tin, not in, is, is not, <, <=, >, >=, <>, !=, ==|\n",
    "|Boolean NOT|\tnot x|\n",
    "|Boolean AND|\tand|\n",
    "|Boolean OR|\tor|\n",
    "|Lambda expression|\tlambda|"
   ]
  },
  {
   "attachments": {},
   "cell_type": "markdown",
   "id": "520e561e",
   "metadata": {},
   "source": [
    "# 6 Variables in Python are just names"
   ]
  },
  {
   "attachments": {},
   "cell_type": "markdown",
   "id": "71f1fa56",
   "metadata": {},
   "source": [
    "## 6.1 The Problem"
   ]
  },
  {
   "cell_type": "markdown",
   "id": "e23e7058-dd71-408e-bbaf-5661424047ce",
   "metadata": {},
   "source": [
    "How do variables work?"
   ]
  },
  {
   "cell_type": "code",
   "execution_count": 14,
   "id": "bff48fb7-f454-4e49-a84d-acd0bc1da3f0",
   "metadata": {},
   "outputs": [
    {
     "name": "stdout",
     "output_type": "stream",
     "text": [
      "x: [1, 2, 3], y: [1, 2, 3]\n"
     ]
    }
   ],
   "source": [
    "x = [1, 2]  # x is bound to a list object with a value [1 ,2]\n",
    "y = x   # y is bound to the SAME list object with a value [1 ,2]\n",
    "y.append(3) # y is used to change the value of the object from  [1, 2] to [1, 2, 3]\n",
    "\n",
    "print(f\"x: {x}, y: {y}\")"
   ]
  },
  {
   "attachments": {},
   "cell_type": "markdown",
   "id": "d47f18d0",
   "metadata": {},
   "source": [
    "## 6.2 An explanation"
   ]
  },
  {
   "cell_type": "code",
   "execution_count": 10,
   "id": "07a6a68d-c194-4603-9f9a-f216f2db8d8d",
   "metadata": {},
   "outputs": [
    {
     "name": "stdout",
     "output_type": "stream",
     "text": [
      "x: 140710485309880, y: 140710485309880, 1: 140710485309880\n"
     ]
    }
   ],
   "source": [
    "x = 1\n",
    "y = 1\n",
    "\n",
    "print(f\"x: {id(x)}, y: {id(y)}, 1: {id(1)}\")   # notice that x and y have same id with 1"
   ]
  },
  {
   "cell_type": "markdown",
   "id": "fba2a471-a46d-4c5f-9ce5-787144e418ca",
   "metadata": {},
   "source": [
    "- Before the code is run, Python has things or objects 1, 2 and a that have three properties **type, value and id**. For example, 1 can have the value 1, type int, and some id. a can have the value ‘a’, type str and some id.\n",
    "\n",
    "- After the code is run, x and y are ‘looking at’ or bound to 1. So x and y are referred to as names that are bound to 1."
   ]
  },
  {
   "cell_type": "code",
   "execution_count": 13,
   "id": "6b428be3-ac34-4aeb-b30e-739dcc02f279",
   "metadata": {},
   "outputs": [
    {
     "name": "stdout",
     "output_type": "stream",
     "text": [
      "x: 140710485309880, y: 140710485309912\n",
      "1: 140710485309880, 2: 140710485309912\n"
     ]
    }
   ],
   "source": [
    "x = 1\n",
    "y = x + 1\n",
    "\n",
    "print(f\"x: {id(x)}, y: {id(y)}\")\n",
    "print(f\"1: {id(1)}, 2: {id(2)}\")   # Notice that x is defined as 1 and it has same id as 1. Similarly, y is defined as 2 and has similar id as 2"
   ]
  },
  {
   "cell_type": "markdown",
   "id": "8696bca1-44d4-41b4-b4e2-a74b9d8f65b2",
   "metadata": {},
   "source": [
    "Since the mathematical operation requires y to have the value 2, y now gets bound to object 2. This happens because the value of object 1 cannot be changed, so the binding is changed instead."
   ]
  },
  {
   "cell_type": "markdown",
   "id": "c2579973-c16b-4eb0-8d74-b81f9e83e0a8",
   "metadata": {},
   "source": [
    "- Objects such as 1 whose values **cannot be changed** are called **immutable**. Other such immutable types are str(i.e., letters), float, bool."
   ]
  },
  {
   "cell_type": "markdown",
   "id": "084f7943-3614-4a84-b77a-b8fbe308a7e4",
   "metadata": {},
   "source": [
    "- There are also objects whose values **can** be changed. These types are called **mutable** and include `lists` and `dictionaries` and instances of `classes`. These behave differently, as highlighted in the problem above."
   ]
  },
  {
   "attachments": {},
   "cell_type": "markdown",
   "id": "974510ab",
   "metadata": {},
   "source": [
    "## 6.3 A solution"
   ]
  },
  {
   "cell_type": "markdown",
   "id": "a0401ae4-2df3-4ce5-8e58-bf22dc0f3a9c",
   "metadata": {},
   "source": [
    "`y = x.copy()` #If you really want y to have an independent copy of x, you should use"
   ]
  },
  {
   "attachments": {},
   "cell_type": "markdown",
   "id": "3e94c504",
   "metadata": {},
   "source": [
    "# 7 == is not the same as is"
   ]
  },
  {
   "cell_type": "markdown",
   "id": "f13fb867-ee7b-49f7-ba4c-308d9ee970b9",
   "metadata": {},
   "source": [
    "Python has several ways of comparing ‘items’. == and is are two examples. Here is the difference between them:"
   ]
  },
  {
   "cell_type": "markdown",
   "id": "636bace1-c52c-4542-9e09-211a399c0792",
   "metadata": {},
   "source": [
    "- `x is y` checks for **identity**. i. e., it asks if x and y are bound to the same object by comparing the **ID**.\n",
    "- `x == y` checks for **equality** by running a function that checks for equality (such as _eq_ of a class). You will understand more of this as we develop the idea of classes in later chapters."
   ]
  },
  {
   "attachments": {},
   "cell_type": "markdown",
   "id": "c2e16656",
   "metadata": {},
   "source": [
    "## Footnotes"
   ]
  }
 ],
 "metadata": {
  "kernelspec": {
   "display_name": "Python 3 (ipykernel)",
   "language": "python",
   "name": "python3"
  },
  "language_info": {
   "codemirror_mode": {
    "name": "ipython",
    "version": 3
   },
   "file_extension": ".py",
   "mimetype": "text/x-python",
   "name": "python",
   "nbconvert_exporter": "python",
   "pygments_lexer": "ipython3",
   "version": "3.12.1"
  },
  "toc": {
   "base_numbering": 1,
   "nav_menu": {},
   "number_sections": true,
   "sideBar": true,
   "skip_h1_title": false,
   "title_cell": "Table of Contents",
   "title_sidebar": "Contents",
   "toc_cell": false,
   "toc_position": {},
   "toc_section_display": true,
   "toc_window_display": false
  },
  "vscode": {
   "interpreter": {
    "hash": "31f2aee4e71d21fbe5cf8b01ff0e069b9275f58929596ceb00d14d90e3e16cd6"
   }
  }
 },
 "nbformat": 4,
 "nbformat_minor": 5
}
