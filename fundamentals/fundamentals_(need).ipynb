{
 "cells": [
  {
   "attachments": {},
   "cell_type": "markdown",
   "id": "123456",
   "metadata": {},
   "source": [
    "<div style=\"text-align:left;font-size:2em\"><span style=\"font-weight:bolder;font-size:1.25em\">SP2273 | Learning Portfolio</span><br><br><span style=\"font-weight:bold;color:darkred\">Fundamentals (Need)</span></div>"
   ]
  },
  {
   "attachments": {},
   "cell_type": "markdown",
   "id": "ba44daf2",
   "metadata": {},
   "source": [
    "# What to expect in this chapter"
   ]
  },
  {
   "cell_type": "markdown",
   "id": "0f257b45-e7fd-4c70-aa6c-43c68c050c9f",
   "metadata": {},
   "source": [
    "This chapter teaches many fundamental codes used in python to start our coding journey."
   ]
  },
  {
   "attachments": {},
   "cell_type": "markdown",
   "id": "f7a66fdb",
   "metadata": {},
   "source": [
    "# 1 Functions"
   ]
  },
  {
   "cell_type": "code",
   "execution_count": 1,
   "id": "73c9355a-7890-404b-9cc2-ac720c94faf1",
   "metadata": {},
   "outputs": [
    {
     "name": "stdout",
     "output_type": "stream",
     "text": [
      "Hello world!\n"
     ]
    }
   ],
   "source": [
    "print('Hello world!')"
   ]
  },
  {
   "cell_type": "markdown",
   "id": "e00aa029-6f58-45f7-a23f-7293081a6834",
   "metadata": {},
   "source": [
    "`print()` is a **function**. It is a command to ask python to do a specific task\n",
    "\n",
    "'Hello world!' is an **argument**. Not all functions need an argument. For example, `exit()`."
   ]
  },
  {
   "attachments": {},
   "cell_type": "markdown",
   "id": "ac50b4bf",
   "metadata": {},
   "source": [
    "# 2 Remember\n",
    "\n",
    "- A function is ‘something’ that executes a specific task. **example: print()**\n",
    "  \r",
    "- \n",
    "A function may or may not accept arguments\n",
    "- \r\n",
    "We can define our own functions."
   ]
  },
  {
   "attachments": {},
   "cell_type": "markdown",
   "id": "76fcf261",
   "metadata": {},
   "source": [
    "# 3 Python is interpreted"
   ]
  },
  {
   "cell_type": "code",
   "execution_count": 2,
   "id": "e8595ef9-079e-4bf1-9c72-e1f298d3449d",
   "metadata": {},
   "outputs": [
    {
     "name": "stdout",
     "output_type": "stream",
     "text": [
      "Hello World\n",
      "Hello World again\n"
     ]
    }
   ],
   "source": [
    "print('Hello World')\n",
    "print('Hello World again')\n"
   ]
  },
  {
   "cell_type": "markdown",
   "id": "87345498-0fe9-4075-a0af-8f618dd80a4f",
   "metadata": {},
   "source": [
    "The lecturer want to say that python read commands one line after the other. Which means python will run the first few correct lines and complains when faced with an incorrect line command. **However, it seems that python had an update and it no longer work in that way.** Below is an example:"
   ]
  },
  {
   "cell_type": "code",
   "execution_count": 2,
   "id": "757536cb-8be9-405b-bd2c-6b44eb7ae029",
   "metadata": {},
   "outputs": [
    {
     "ename": "SyntaxError",
     "evalue": "Missing parentheses in call to 'print'. Did you mean print(...)? (2276512348.py, line 2)",
     "output_type": "error",
     "traceback": [
      "\u001b[1;36m  Cell \u001b[1;32mIn[2], line 2\u001b[1;36m\u001b[0m\n\u001b[1;33m    print'hello'\u001b[0m\n\u001b[1;37m    ^\u001b[0m\n\u001b[1;31mSyntaxError\u001b[0m\u001b[1;31m:\u001b[0m Missing parentheses in call to 'print'. Did you mean print(...)?\n"
     ]
    }
   ],
   "source": [
    "print('hello')\n",
    "print'hello'"
   ]
  },
  {
   "cell_type": "markdown",
   "id": "e518eb15-4978-4fc3-b993-53cf249609a3",
   "metadata": {},
   "source": [
    "**Note that above when there is a mistake, python did not even interpret the first line.**"
   ]
  },
  {
   "attachments": {},
   "cell_type": "markdown",
   "id": "3eaa9faa",
   "metadata": {},
   "source": [
    "# 4 Python is sensitive."
   ]
  },
  {
   "cell_type": "markdown",
   "id": "ce583b34-6979-4916-af7f-d207e46832ff",
   "metadata": {},
   "source": [
    "`print('Hello World')`      # This WILL work\n",
    "\n",
    "`Print('Hello World')`      # This will NOT work as p is capitalised"
   ]
  },
  {
   "attachments": {},
   "cell_type": "markdown",
   "id": "ecb29941",
   "metadata": {},
   "source": [
    "# 5 Remember"
   ]
  },
  {
   "cell_type": "markdown",
   "id": "febab1cf-6165-4e37-b30f-8280a213a747",
   "metadata": {},
   "source": [
    "Python takes formating very seriously. **REMEBER THE SYNTAX WELL!**"
   ]
  },
  {
   "attachments": {},
   "cell_type": "markdown",
   "id": "315feb2a",
   "metadata": {},
   "source": [
    "# 6 Comments\n"
   ]
  },
  {
   "cell_type": "markdown",
   "id": "b4c49e4d-d2ff-4888-a2b7-43da9581f60c",
   "metadata": {},
   "source": [
    "- Python ignores all comments.\n",
    "- Anything **between the # and the end of the line** constitutes the comment.\n",
    "\n",
    "Below are some examples:"
   ]
  },
  {
   "cell_type": "code",
   "execution_count": 4,
   "id": "a08f0c30-ee85-4dea-8746-85e3047f08ed",
   "metadata": {},
   "outputs": [
    {
     "name": "stdout",
     "output_type": "stream",
     "text": [
      "Hello\n"
     ]
    }
   ],
   "source": [
    "print('Hello')  # add a hashtag to add comments so we know what we are doing here\n"
   ]
  },
  {
   "cell_type": "code",
   "execution_count": 7,
   "id": "cf0d7d9e-1f05-4a7a-a8f5-4198d7a80ab0",
   "metadata": {},
   "outputs": [
    {
     "data": {
      "text/plain": [
       "'\\nThis is\\na multiline\\nthing\\n'"
      ]
     },
     "execution_count": 7,
     "metadata": {},
     "output_type": "execute_result"
    }
   ],
   "source": [
    "\"\"\"\n",
    "This is\n",
    "a multiline\n",
    "thing\n",
    "\"\"\"\n",
    "\n",
    "# pls dont do this"
   ]
  },
  {
   "attachments": {},
   "cell_type": "markdown",
   "id": "02cf519d",
   "metadata": {},
   "source": [
    "# 7 Remember\n",
    "\n",
    "Use comments to emphasise the **purpose of the code** when it is **not obvious**. Do not waste time writing comments on obvious codes such as print."
   ]
  },
  {
   "attachments": {},
   "cell_type": "markdown",
   "id": "0db3c1e5",
   "metadata": {},
   "source": [
    "# 8 = is not the same as ==\n",
    "\n"
   ]
  },
  {
   "cell_type": "markdown",
   "id": "16fc9f7c-27ab-4edd-b5ab-130bdb67ecdc",
   "metadata": {},
   "source": [
    "- `=` is used to set something equal. (Actuallly it is to define something)\n",
    "- `==` is used to test whether two things are equal."
   ]
  },
  {
   "cell_type": "markdown",
   "id": "8076e172-2e94-40b3-87f6-5cb4056a42a4",
   "metadata": {},
   "source": [
    "We are able to set two things equal and by asking python to interpret the prior thing, python will give the latter as an output.\n",
    "\n",
    "**Note that this does not work the other way around**\n",
    "\n",
    "This is shown below:"
   ]
  },
  {
   "cell_type": "code",
   "execution_count": 5,
   "id": "41c7435b-9be9-44c0-a9a3-6b6bb58fdcb3",
   "metadata": {},
   "outputs": [],
   "source": [
    "name = 'Batman' # we cre defining name as Batman here"
   ]
  },
  {
   "cell_type": "code",
   "execution_count": 6,
   "id": "555ebca6-5b1b-4465-9b63-237bb8fc9399",
   "metadata": {},
   "outputs": [
    {
     "data": {
      "text/plain": [
       "'Batman'"
      ]
     },
     "execution_count": 6,
     "metadata": {},
     "output_type": "execute_result"
    }
   ],
   "source": [
    "name  #when we type the name, python gives us its defination"
   ]
  },
  {
   "cell_type": "code",
   "execution_count": 1,
   "id": "618018bf-0340-4174-b5e0-1d041b137e49",
   "metadata": {},
   "outputs": [
    {
     "data": {
      "text/plain": [
       "'Batman'"
      ]
     },
     "execution_count": 1,
     "metadata": {},
     "output_type": "execute_result"
    }
   ],
   "source": [
    "'Batman'   # this will not work as mentioned above. python only interpret the prior and give latter as an output"
   ]
  },
  {
   "cell_type": "markdown",
   "id": "6f04cb3d-6119-426a-b543-96be70b974b2",
   "metadata": {},
   "source": [
    "As mentioned above, we can use `==` to test whether two things are equal. **Similar as above, this only works one way but not the other.**"
   ]
  },
  {
   "cell_type": "code",
   "execution_count": 8,
   "id": "69a22948-58aa-4f2c-8020-db7bdce2db96",
   "metadata": {},
   "outputs": [
    {
     "data": {
      "text/plain": [
       "True"
      ]
     },
     "execution_count": 8,
     "metadata": {},
     "output_type": "execute_result"
    }
   ],
   "source": [
    "name == 'Batman' # if we type Batman, python will not give us 'name'. This is because defining only works one way but not the reverse"
   ]
  },
  {
   "cell_type": "code",
   "execution_count": 11,
   "id": "0b636f21-abf9-4f9d-9367-a55c59684ff0",
   "metadata": {},
   "outputs": [
    {
     "data": {
      "text/plain": [
       "False"
      ]
     },
     "execution_count": 11,
     "metadata": {},
     "output_type": "execute_result"
    }
   ],
   "source": [
    "name == 'batman' "
   ]
  },
  {
   "attachments": {},
   "cell_type": "markdown",
   "id": "f203352f",
   "metadata": {},
   "source": [
    "# 9 Remember"
   ]
  },
  {
   "cell_type": "markdown",
   "id": "e1b060a4-edf4-43ad-b4a0-ba621182d67d",
   "metadata": {},
   "source": [
    "- = assigns a value and\n",
    "- == asks a question.\n",
    "- **Remember to add quotation marks when defining**"
   ]
  },
  {
   "cell_type": "markdown",
   "id": "639f8746-7e48-4e2a-94dd-93642be71246",
   "metadata": {},
   "source": [
    "In fact, quotation marks are added when you want to define something as a string.\n",
    "\n",
    "If you wanna define something as a number, then no need quotation marks."
   ]
  },
  {
   "cell_type": "code",
   "execution_count": 1,
   "id": "fc22a0d3-d5b7-4448-8f56-dd2ed355c9ba",
   "metadata": {},
   "outputs": [
    {
     "name": "stdout",
     "output_type": "stream",
     "text": [
      "11\n",
      "2\n"
     ]
    }
   ],
   "source": [
    "one = '1'    # we define one as a string\n",
    "real_one = 1   # we define real one as a number\n",
    "\n",
    "print(one * 2)   #when duplicate string, it print sting two times \n",
    "print(real_one * 2)  # when duplicate number it will do math."
   ]
  },
  {
   "attachments": {},
   "cell_type": "markdown",
   "id": "40e74317",
   "metadata": {},
   "source": [
    "# 10 Use if to make decisions"
   ]
  },
  {
   "cell_type": "code",
   "execution_count": 13,
   "id": "47d15456-1e20-43cc-9e6e-13fa1de523fd",
   "metadata": {},
   "outputs": [
    {
     "name": "stdout",
     "output_type": "stream",
     "text": [
      "Hello Batman!\n"
     ]
    }
   ],
   "source": [
    "name = 'Batman'\n",
    "\n",
    "if name == 'Batman':      #note that need to have double equal sign here!   #note that the colon need to be present behind the if and else conditions\n",
    "    print('Hello Batman!')  # this is the thing python does if 'if' is true\n",
    "else:\n",
    "    print('Hello World!')  # this is the thing python does if it is false"
   ]
  },
  {
   "cell_type": "code",
   "execution_count": 15,
   "id": "b739d7a5-301e-416d-8737-219782465916",
   "metadata": {},
   "outputs": [
    {
     "name": "stdout",
     "output_type": "stream",
     "text": [
      "Hello Batman!\n",
      "yes\n"
     ]
    }
   ],
   "source": [
    "name = 'Batman'\n",
    "\n",
    "if name == 'Batman':\n",
    "    print('Hello Batman!')  # note that we need to have the same 'tab' space in front of commands to make them into same block\n",
    "    print('yes')\n",
    "else:\n",
    "    print('Hello World!')"
   ]
  },
  {
   "cell_type": "markdown",
   "id": "24ee58ed-a02c-4ddc-8b4d-36c31fda538c",
   "metadata": {},
   "source": [
    "As mentioned by the lecturer: make your life easy, use **'Tab'** don't use **'space'**"
   ]
  },
  {
   "attachments": {},
   "cell_type": "markdown",
   "id": "7eacc035",
   "metadata": {},
   "source": [
    "# 11 Remember"
   ]
  },
  {
   "cell_type": "markdown",
   "id": "4de5c5a8-88e0-4906-be11-e536c8cddfaf",
   "metadata": {},
   "source": [
    "Use if to make decisions."
   ]
  },
  {
   "attachments": {},
   "cell_type": "markdown",
   "id": "eb4169c0",
   "metadata": {},
   "source": [
    "# 12 Indentations (spaces) are sooo IMPORTANT!"
   ]
  },
  {
   "cell_type": "code",
   "execution_count": 12,
   "id": "950168a2-1f30-4a24-bcc0-3b4259e0bbc4",
   "metadata": {},
   "outputs": [
    {
     "name": "stdout",
     "output_type": "stream",
     "text": [
      "10\n"
     ]
    }
   ],
   "source": [
    "x = 10\n",
    "print(x)"
   ]
  },
  {
   "cell_type": "markdown",
   "id": "08d2ab7d-065d-47a5-b4e8-644db915dcbd",
   "metadata": {},
   "source": [
    "This works because python **interpret the two lines separately**, one after the other."
   ]
  },
  {
   "cell_type": "markdown",
   "id": "1ae8297d-9fe4-48f5-a3de-6fcb6a3a71a2",
   "metadata": {},
   "source": [
    "`x = 10`       \r",
    "    ` print(x`\n",
    "\n",
    "This will not work since a 'tab' apce in front of the print shows that print is a subset of x=10. This means that print should be working under x=10 which doesn't make sense.)"
   ]
  },
  {
   "attachments": {},
   "cell_type": "markdown",
   "id": "21e3a1d5",
   "metadata": {},
   "source": [
    "# 13 Remember"
   ]
  },
  {
   "cell_type": "markdown",
   "id": "9ff05e0c-4d93-47ad-bf58-629b7d1f52cb",
   "metadata": {},
   "source": [
    "- Indentations play a crucial role in Python; do not use them indiscriminately.\n",
    "- : is used to designate a block of code."
   ]
  },
  {
   "attachments": {},
   "cell_type": "markdown",
   "id": "2ced63c4",
   "metadata": {},
   "source": [
    "# 14 ‘age’ is English, age is a variable."
   ]
  },
  {
   "cell_type": "markdown",
   "id": "248b3322-4949-48bd-ace1-f04adca270a0",
   "metadata": {},
   "source": [
    "If you write `print(age)` without the **quotation marks** for the argument, you must **define** the argument first.\n",
    "This is because **python recognise no quotation marks as a variable**."
   ]
  },
  {
   "cell_type": "markdown",
   "id": "84fe3280-fb6f-4fb0-a377-c47f337b4ae0",
   "metadata": {},
   "source": [
    "- The reason why last time\n",
    "\n",
    "print = 'Print'\n",
    "\n",
    "you are messing up the python's print function as u define print as Print.\n",
    "\n",
    "This is why it is wrong"
   ]
  },
  {
   "cell_type": "markdown",
   "id": "34939b08-91db-40fe-86b3-6abe911d4b3d",
   "metadata": {},
   "source": [
    "- Similarly, u cannot do \n",
    "\n",
    "if = djahka\n",
    "\n",
    "for = hdkadalida\n",
    "\n",
    "176 (a number) =jhadjafh\n",
    "\n",
    "These will all mess up the function"
   ]
  },
  {
   "cell_type": "code",
   "execution_count": 16,
   "id": "6523da3e-c42b-46a3-bfcf-bb2f168c9c0a",
   "metadata": {},
   "outputs": [
    {
     "name": "stdout",
     "output_type": "stream",
     "text": [
      "apple\n"
     ]
    }
   ],
   "source": [
    "age = 'apple'   # look at this example here, without quotation marks, age is defined as appled.\n",
    "print(age)"
   ]
  },
  {
   "attachments": {},
   "cell_type": "markdown",
   "id": "784cc25d",
   "metadata": {},
   "source": [
    "# 15 Brackets\n",
    "\n"
   ]
  },
  {
   "cell_type": "code",
   "execution_count": 2,
   "id": "ae7d2036-c765-4bb4-8f3c-d7fe8c4843ec",
   "metadata": {},
   "outputs": [
    {
     "name": "stdout",
     "output_type": "stream",
     "text": [
      "Hello!\n"
     ]
    }
   ],
   "source": [
    "print('Hello!')             # In functions\n",
    "\n",
    "(1 + 2) * 5                 # For math\n",
    "\n",
    "py_list = [1, 2, 3, 4, 5]   # A 1D list\n",
    "\n",
    "py_list_2 = [               # A 2D list\n",
    "                [1, \"A\"],      \n",
    "                [2, \"B\"],\n",
    "                [3, \"C\"],\n",
    "                [4, \"D\"],\n",
    "                [5, \"E\"]\n",
    "            ]\n",
    "\n",
    "personal_info = {\n",
    "    'Names': 'Batman',\n",
    "    'Real Name': 'Bruce Wayne',\n",
    "    'Age': 55,\n",
    "    'Affiliation': 'Justice League',\n",
    "    'Universe': 'DC'\n",
    "}                             # python uses {} to store information in a dictionary. Personal info is the name of the dictionary."
   ]
  },
  {
   "cell_type": "code",
   "execution_count": 4,
   "id": "bc454e4c-c16c-476e-adcb-cf17043e4f5a",
   "metadata": {},
   "outputs": [
    {
     "data": {
      "text/plain": [
       "[1, 2, 3, 4, 5]"
      ]
     },
     "execution_count": 4,
     "metadata": {},
     "output_type": "execute_result"
    }
   ],
   "source": [
    "py_list  #after creating the list, you can always check the list by typing the name."
   ]
  },
  {
   "cell_type": "code",
   "execution_count": 5,
   "id": "e9fd7fa7-d9c6-4d45-859d-ff3991e79400",
   "metadata": {},
   "outputs": [
    {
     "data": {
      "text/plain": [
       "[[1, 'A'], [2, 'B'], [3, 'C'], [4, 'D'], [5, 'E']]"
      ]
     },
     "execution_count": 5,
     "metadata": {},
     "output_type": "execute_result"
    }
   ],
   "source": [
    "py_list_2"
   ]
  },
  {
   "cell_type": "code",
   "execution_count": 11,
   "id": "fceac38a-bf8b-40be-8449-6cb520c53b6b",
   "metadata": {},
   "outputs": [
    {
     "name": "stdout",
     "output_type": "stream",
     "text": [
      "Bruce Wayne\n"
     ]
    }
   ],
   "source": [
    "print(personal_info['Real Name'])   # note that there is no quotation marks for personal info as it is already defined\n",
    "                                    # Also note that Real name is not defined using a equal sign, hence need quotations.\n",
    "                                    # Latly, note that to print somethng under the dictionary, we have to use [] large brackets."
   ]
  },
  {
   "cell_type": "markdown",
   "id": "0899ac60-d679-4776-948b-56f37b24ca0a",
   "metadata": {},
   "source": [
    "- **You can hold 'tab' to see all the different store dictionaries and definations**\n"
   ]
  },
  {
   "cell_type": "markdown",
   "id": "3a1bde26-85ab-4ccc-9e76-3decc66cf8ba",
   "metadata": {},
   "source": [
    "- for listing, remeber to use [] instead of (). This is because listing with [] can be modified later by removing or adding to the list whereas () is set list that cannot be changed"
   ]
  },
  {
   "attachments": {},
   "cell_type": "markdown",
   "id": "519c9618",
   "metadata": {},
   "source": [
    "# 16 Giving Python superpowers with Packages"
   ]
  },
  {
   "attachments": {},
   "cell_type": "markdown",
   "id": "3a3345d8",
   "metadata": {},
   "source": [
    "## 16.1 Some Context"
   ]
  },
  {
   "cell_type": "markdown",
   "id": "9a328b3f-2bd7-4a12-a9e8-f692c531789f",
   "metadata": {},
   "source": [
    "$$\\dfrac{1*((2-3)+4)^5}{6}$$\n",
    "\n",
    "We can calculate this by:"
   ]
  },
  {
   "cell_type": "code",
   "execution_count": 2,
   "id": "1629667a-c80f-448a-b0db-35cf807662a3",
   "metadata": {},
   "outputs": [
    {
     "data": {
      "text/plain": [
       "40.5"
      ]
     },
     "execution_count": 2,
     "metadata": {},
     "output_type": "execute_result"
    }
   ],
   "source": [
    "1 * ((2 - 3) + 4) ** 5 / 6  # Note that double asterisks here acts as a power."
   ]
  },
  {
   "cell_type": "code",
   "execution_count": 3,
   "id": "8636faff-4d54-4a9f-b90e-5069d5802d60",
   "metadata": {},
   "outputs": [
    {
     "ename": "NameError",
     "evalue": "name 'sqrt' is not defined",
     "output_type": "error",
     "traceback": [
      "\u001b[1;31m---------------------------------------------------------------------------\u001b[0m",
      "\u001b[1;31mNameError\u001b[0m                                 Traceback (most recent call last)",
      "Cell \u001b[1;32mIn[3], line 1\u001b[0m\n\u001b[1;32m----> 1\u001b[0m \u001b[43msqrt\u001b[49m(\u001b[38;5;241m4\u001b[39m)\n",
      "\u001b[1;31mNameError\u001b[0m: name 'sqrt' is not defined"
     ]
    }
   ],
   "source": [
    "sqrt(4)  # This does not work as python cannot do complex math itself, it need some packages."
   ]
  },
  {
   "attachments": {},
   "cell_type": "markdown",
   "id": "6d9e0984",
   "metadata": {},
   "source": [
    "## 16.2 Importing the math package"
   ]
  },
  {
   "cell_type": "code",
   "execution_count": 6,
   "id": "6dab2038-1af5-4525-bde0-977b06c7fa50",
   "metadata": {},
   "outputs": [],
   "source": [
    "import math"
   ]
  },
  {
   "cell_type": "code",
   "execution_count": 7,
   "id": "deb49e81-6478-4146-9411-c72a4d274d32",
   "metadata": {},
   "outputs": [
    {
     "data": {
      "text/plain": [
       "2.0"
      ]
     },
     "execution_count": 7,
     "metadata": {},
     "output_type": "execute_result"
    }
   ],
   "source": [
    "math.sqrt(4)  # after importing math, python can do math!"
   ]
  },
  {
   "attachments": {},
   "cell_type": "markdown",
   "id": "17838ce5",
   "metadata": {},
   "source": [
    "## 16.3 Importing the numpy package\n",
    "\n"
   ]
  },
  {
   "cell_type": "code",
   "execution_count": 8,
   "id": "f95ccde9-e895-4536-bbb6-bc9798197de9",
   "metadata": {},
   "outputs": [],
   "source": [
    "import numpy as np # importing numpy can help to make math much easier.\n",
    "                   # Interesting that you can import packages and giving them names using 'as'"
   ]
  },
  {
   "cell_type": "code",
   "execution_count": 10,
   "id": "1a155651-9106-4f15-bd3b-55fadba52965",
   "metadata": {},
   "outputs": [
    {
     "data": {
      "text/plain": [
       "2.0"
      ]
     },
     "execution_count": 10,
     "metadata": {},
     "output_type": "execute_result"
    }
   ],
   "source": [
    "np.sqrt(4)   # see how we do not need to type numpy, but only np"
   ]
  },
  {
   "attachments": {},
   "cell_type": "markdown",
   "id": "78887d22",
   "metadata": {},
   "source": [
    "## 16.4 Why so many packages?"
   ]
  },
  {
   "cell_type": "markdown",
   "id": "3523d8cc-7b88-4f73-9fec-f58248aac971",
   "metadata": {},
   "source": [
    "There are different packages because **they have different capabilities and efficiencies**. \n",
    "\n",
    "For example, the Numpy version can handle a list of numbers:"
   ]
  },
  {
   "cell_type": "code",
   "execution_count": 12,
   "id": "d4ff5fa4-8e02-4415-9119-d91cfeec0229",
   "metadata": {},
   "outputs": [
    {
     "data": {
      "text/plain": [
       "array([2., 3., 4.])"
      ]
     },
     "execution_count": 12,
     "metadata": {},
     "output_type": "execute_result"
    }
   ],
   "source": [
    "np.sqrt([4, 9, 16])  # First, math need to use (). However, here is a list of numbers, hence we also need to close the list with []."
   ]
  },
  {
   "attachments": {},
   "cell_type": "markdown",
   "id": "01186b59",
   "metadata": {},
   "source": [
    "# 17 Remember"
   ]
  },
  {
   "cell_type": "markdown",
   "id": "bae3c802-c9f1-4eb5-9741-690cb8714d2d",
   "metadata": {},
   "source": [
    "- You can give Python ‘superpowers’ by importing packages.\n",
    "- You must import a package only once.\n",
    "- There are different ways to import packages (e.g. with or without an ‘alias’)."
   ]
  },
  {
   "attachments": {},
   "cell_type": "markdown",
   "id": "fb93bab2",
   "metadata": {},
   "source": [
    "# 18 The dot (.)"
   ]
  },
  {
   "cell_type": "markdown",
   "id": "313c9829-a81b-47ad-b3a6-316b40d398f7",
   "metadata": {},
   "source": [
    "- as seen above, there are many codes with dots that means ownerships\n",
    "\n",
    "`math.sqrt(4)` means the squareroot function under math.\n",
    "\n",
    "`np.sqrt(4)` means the squareroot function under numpy."
   ]
  },
  {
   "cell_type": "markdown",
   "id": "e5ca8630-2a34-497c-8923-02ec7bdad3c7",
   "metadata": {},
   "source": [
    "- Everything in Python (e.g., numbers, letters) has **functions and attributes** that belong to them. \n",
    "\n",
    "We can access them using the dot."
   ]
  },
  {
   "cell_type": "code",
   "execution_count": 20,
   "id": "5c0acc90-0ae8-4a86-867c-320db1455a38",
   "metadata": {},
   "outputs": [
    {
     "data": {
      "text/plain": [
       "'APPLE'"
      ]
     },
     "execution_count": 20,
     "metadata": {},
     "output_type": "execute_result"
    }
   ],
   "source": [
    "'apple'.upper()"
   ]
  },
  {
   "cell_type": "markdown",
   "id": "9ca99e4d-6880-4d8b-bfbd-26447e6d4d14",
   "metadata": {},
   "source": [
    "- **upper() does not take an argument**\n",
    "\n",
    "If we write upper('apple') it will not work\n",
    "\n",
    "You only put dots when that method is under that package. upper is default in python."
   ]
  },
  {
   "cell_type": "markdown",
   "id": "79f245f9-3a98-4f95-9ce9-b5f781145f65",
   "metadata": {},
   "source": [
    "**More examples below:**"
   ]
  },
  {
   "cell_type": "code",
   "execution_count": 25,
   "id": "8e0e88df-b904-4f19-a2dd-a549f7c5dc79",
   "metadata": {},
   "outputs": [
    {
     "data": {
      "text/plain": [
       "'Apple'"
      ]
     },
     "execution_count": 25,
     "metadata": {},
     "output_type": "execute_result"
    }
   ],
   "source": [
    "'apple'.title()"
   ]
  },
  {
   "cell_type": "code",
   "execution_count": 13,
   "id": "d6674775-2bff-4d2f-9dc1-dbf09d81dd73",
   "metadata": {},
   "outputs": [
    {
     "data": {
      "text/plain": [
       "['I', 'am', 'Batman']"
      ]
     },
     "execution_count": 13,
     "metadata": {},
     "output_type": "execute_result"
    }
   ],
   "source": [
    "\"I am Batman\".split() # split only work on words, if enter number and split, it does not make sense."
   ]
  },
  {
   "cell_type": "markdown",
   "id": "7c69e48f-c2d8-47cd-8309-ef6a3abfd6ac",
   "metadata": {},
   "source": [
    "- There can also be **attributes**, not functions."
   ]
  },
  {
   "cell_type": "code",
   "execution_count": 24,
   "id": "d58295bd-d778-4c4c-8304-ac832245b4f1",
   "metadata": {},
   "outputs": [],
   "source": [
    "x = 1j+10   #this is a complex number"
   ]
  },
  {
   "cell_type": "code",
   "execution_count": 22,
   "id": "c2d64f4e-100a-4ce0-aba3-d9a6f39ee928",
   "metadata": {},
   "outputs": [
    {
     "data": {
      "text/plain": [
       "10.0"
      ]
     },
     "execution_count": 22,
     "metadata": {},
     "output_type": "execute_result"
    }
   ],
   "source": [
    "x.real  # this is extracting the real part of x"
   ]
  },
  {
   "cell_type": "code",
   "execution_count": 23,
   "id": "071a0ba0-833a-4a08-9525-024bd620dbf7",
   "metadata": {},
   "outputs": [
    {
     "data": {
      "text/plain": [
       "1.0"
      ]
     },
     "execution_count": 23,
     "metadata": {},
     "output_type": "execute_result"
    }
   ],
   "source": [
    "x.imag # this is extracting the imaginary part of x"
   ]
  },
  {
   "cell_type": "markdown",
   "id": "7aa42eee-4e1e-4058-a2c4-27eed3ce2aea",
   "metadata": {},
   "source": [
    "**SUMMARY**\n",
    "\n",
    "There are two things you can extract using dots.\n",
    "\n",
    "**Functions and properties(attributes)**"
   ]
  },
  {
   "cell_type": "code",
   "execution_count": 26,
   "id": "3f948952-c7d1-489c-92e0-cae393e4f6e7",
   "metadata": {},
   "outputs": [
    {
     "data": {
      "text/plain": [
       "'ABBBBBBBBBB'"
      ]
     },
     "execution_count": 26,
     "metadata": {},
     "output_type": "execute_result"
    }
   ],
   "source": [
    "'A'+'B'*10"
   ]
  },
  {
   "attachments": {},
   "cell_type": "markdown",
   "id": "27696cce",
   "metadata": {},
   "source": [
    "# 19 Remember"
   ]
  },
  {
   "cell_type": "markdown",
   "id": "22cab3b3-1d54-450c-9218-09f2d60ac301",
   "metadata": {},
   "source": [
    "Dot is ownership"
   ]
  },
  {
   "attachments": {},
   "cell_type": "markdown",
   "id": "626e2988",
   "metadata": {},
   "source": [
    "## Footnotes"
   ]
  }
 ],
 "metadata": {
  "kernelspec": {
   "display_name": "Python 3 (ipykernel)",
   "language": "python",
   "name": "python3"
  },
  "language_info": {
   "codemirror_mode": {
    "name": "ipython",
    "version": 3
   },
   "file_extension": ".py",
   "mimetype": "text/x-python",
   "name": "python",
   "nbconvert_exporter": "python",
   "pygments_lexer": "ipython3",
   "version": "3.12.1"
  },
  "toc": {
   "base_numbering": 1,
   "nav_menu": {},
   "number_sections": true,
   "sideBar": true,
   "skip_h1_title": false,
   "title_cell": "Table of Contents",
   "title_sidebar": "Contents",
   "toc_cell": false,
   "toc_position": {},
   "toc_section_display": true,
   "toc_window_display": false
  },
  "vscode": {
   "interpreter": {
    "hash": "31f2aee4e71d21fbe5cf8b01ff0e069b9275f58929596ceb00d14d90e3e16cd6"
   }
  }
 },
 "nbformat": 4,
 "nbformat_minor": 5
}
