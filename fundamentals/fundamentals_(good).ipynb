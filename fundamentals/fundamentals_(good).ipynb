{
 "cells": [
  {
   "attachments": {},
   "cell_type": "markdown",
   "id": "123456",
   "metadata": {},
   "source": [
    "<div style=\"text-align:left;font-size:2em\"><span style=\"font-weight:bolder;font-size:1.25em\">SP2273 | Learning Portfolio</span><br><br><span style=\"font-weight:bold;color:darkred\">Fundamentals (Good)</span></div>"
   ]
  },
  {
   "attachments": {},
   "cell_type": "markdown",
   "id": "9a747092",
   "metadata": {},
   "source": [
    "# What to expect in this chapter"
   ]
  },
  {
   "cell_type": "markdown",
   "id": "852bf5f7-e168-4012-a0ea-3b0d5a22c583",
   "metadata": {},
   "source": [
    "Adding more details to what has already been learnt."
   ]
  },
  {
   "attachments": {},
   "cell_type": "markdown",
   "id": "635b4aaa",
   "metadata": {},
   "source": [
    "# 1 There is more to if"
   ]
  },
  {
   "cell_type": "markdown",
   "id": "fe24a7d7-c785-4755-85b2-4520820c78ce",
   "metadata": {},
   "source": [
    "If want more branches to if. We need to us elif (else if)."
   ]
  },
  {
   "cell_type": "code",
   "execution_count": 1,
   "id": "854310b3-8f96-4bc0-863c-c0d0ca97f7b1",
   "metadata": {},
   "outputs": [
    {
     "name": "stdout",
     "output_type": "stream",
     "text": [
      "Hello Batman!\n"
     ]
    }
   ],
   "source": [
    "name = 'Batman'\n",
    "\n",
    "if name == 'Batman':       # Again, note that after if and elif and else, there must be a :\n",
    "    print('Hello Batman!')\n",
    "elif name == 'Robin':\n",
    "    print('Hello Sidekick!')\n",
    "else:\n",
    "    print('Hello World!')"
   ]
  },
  {
   "attachments": {},
   "cell_type": "markdown",
   "id": "728d7e34",
   "metadata": {},
   "source": [
    "# 2 Asking questions"
   ]
  },
  {
   "cell_type": "markdown",
   "id": "f9b5b757-3b3c-4714-9618-933ba9b72371",
   "metadata": {},
   "source": [
    "Using 'if' to ask questions may be complicated sometimes. Hence, we introduce more ways to ask questions."
   ]
  },
  {
   "cell_type": "code",
   "execution_count": 3,
   "id": "fdd24351-96be-46b3-8d76-2e8dddcb49b6",
   "metadata": {},
   "outputs": [],
   "source": [
    "fruits = ['apple', 'banana', 'pineapple', 'jackfruit']\n",
    "vegetables = ['celery', 'potato', 'broccoli', 'kale']   # we create two lists"
   ]
  },
  {
   "cell_type": "code",
   "execution_count": 4,
   "id": "3683dbae-fa33-4434-bca3-d2864635a52b",
   "metadata": {},
   "outputs": [
    {
     "data": {
      "text/plain": [
       "True"
      ]
     },
     "execution_count": 4,
     "metadata": {},
     "output_type": "execute_result"
    }
   ],
   "source": [
    "'apple' in fruits  #asking whether apple is in 'fruits' list. Note that apple need quotation marks since it is not defined."
   ]
  },
  {
   "cell_type": "code",
   "execution_count": 5,
   "id": "e761b1ae-fabf-4dc4-a61b-bf153177d3fa",
   "metadata": {},
   "outputs": [
    {
     "data": {
      "text/plain": [
       "True"
      ]
     },
     "execution_count": 5,
     "metadata": {},
     "output_type": "execute_result"
    }
   ],
   "source": [
    "'peach' not in fruits  #asking whether peach is not in fruit"
   ]
  },
  {
   "cell_type": "code",
   "execution_count": 6,
   "id": "8218c09a-c206-42c4-b17d-42b8617c2b38",
   "metadata": {},
   "outputs": [
    {
     "data": {
      "text/plain": [
       "True"
      ]
     },
     "execution_count": 6,
     "metadata": {},
     "output_type": "execute_result"
    }
   ],
   "source": [
    "('apple' in fruits) and ('celery' in vegetables)    # This is using boolean logic. And gate only produce outcome true if both are true."
   ]
  },
  {
   "cell_type": "code",
   "execution_count": 7,
   "id": "3d928803-bdfc-4385-999b-d51a3e68ad70",
   "metadata": {},
   "outputs": [
    {
     "data": {
      "text/plain": [
       "True"
      ]
     },
     "execution_count": 7,
     "metadata": {},
     "output_type": "execute_result"
    }
   ],
   "source": [
    "('apple' in fruits) or ('celery' in vegetables)  # This is the or gate, produce true when either is true."
   ]
  },
  {
   "cell_type": "code",
   "execution_count": 8,
   "id": "1d0c4384-cfdd-4f98-aae2-899f78e51b9e",
   "metadata": {},
   "outputs": [
    {
     "data": {
      "text/plain": [
       "True"
      ]
     },
     "execution_count": 8,
     "metadata": {},
     "output_type": "execute_result"
    }
   ],
   "source": [
    "'app' in 'apple'  # this is kinda interesting as we can also ask whether a word is in another word"
   ]
  },
  {
   "attachments": {},
   "cell_type": "markdown",
   "id": "e93c631d",
   "metadata": {},
   "source": [
    "# 3 Remember"
   ]
  },
  {
   "cell_type": "markdown",
   "id": "1b5c8821-d03c-49e1-8c70-eef621cbbde2",
   "metadata": {},
   "source": [
    "**not**, **in**, **and**, **or** are some Python keywords that are useful in asking questions."
   ]
  },
  {
   "attachments": {},
   "cell_type": "markdown",
   "id": "fe0f3587",
   "metadata": {},
   "source": [
    "## 3.1 Asking Math questions"
   ]
  },
  {
   "cell_type": "markdown",
   "id": "f8b5cdc1-970b-4ebd-a7ac-f054174f7f78",
   "metadata": {},
   "source": [
    "- First, python can compare similar things, such as word for word or number for number."
   ]
  },
  {
   "cell_type": "code",
   "execution_count": 9,
   "id": "ae88787b-5fe7-4222-8810-f09524e85f59",
   "metadata": {},
   "outputs": [
    {
     "data": {
      "text/plain": [
       "False"
      ]
     },
     "execution_count": 9,
     "metadata": {},
     "output_type": "execute_result"
    }
   ],
   "source": [
    "3 > 5"
   ]
  },
  {
   "cell_type": "code",
   "execution_count": 12,
   "id": "06177867-8faf-4938-b403-fb832b4aceb6",
   "metadata": {},
   "outputs": [
    {
     "data": {
      "text/plain": [
       "False"
      ]
     },
     "execution_count": 12,
     "metadata": {},
     "output_type": "execute_result"
    }
   ],
   "source": [
    "'apples' > 'oranges'  # in python, english letters are interpretted as numbers. In this case a is amller than o."
   ]
  },
  {
   "cell_type": "markdown",
   "id": "703dbb71-2547-46c2-bd3d-3730c81207d4",
   "metadata": {},
   "source": [
    "- Here are osme math symbols for asking math questions."
   ]
  },
  {
   "cell_type": "markdown",
   "id": "d8d33390-d95c-4a6b-be36-f4790be7c455",
   "metadata": {},
   "source": [
    "|question|math symbol|python symbol|\n",
    "|--------|-----------|-------------|\n",
    "|equal|=|==|\n",
    "|Not equal| $\\ne$ |!=|\n",
    "|Less|$\\lt$|<|\n",
    "|greater|$\\gt$|>|\n",
    "|less or equal|$\\leq$|<=|\n",
    "|geater or equal|$\\geq$|>=|"
   ]
  },
  {
   "cell_type": "code",
   "execution_count": 13,
   "id": "d1d96b9f-d2d5-4c9d-b968-d5d4c4c4a8c7",
   "metadata": {},
   "outputs": [
    {
     "data": {
      "text/plain": [
       "True"
      ]
     },
     "execution_count": 13,
     "metadata": {},
     "output_type": "execute_result"
    }
   ],
   "source": [
    "x = 30\n",
    "x>= 25"
   ]
  },
  {
   "cell_type": "markdown",
   "id": "db82e875-009c-470f-a48b-afeba7e624fd",
   "metadata": {},
   "source": [
    "Python accept all the following syntaxes.\n",
    "\n",
    "x > 5 and x < 15\n",
    "\n",
    "(x > 5) and (x < 15)\n",
    "\n",
    "5 < x < 15"
   ]
  },
  {
   "attachments": {},
   "cell_type": "markdown",
   "id": "540bcda6",
   "metadata": {},
   "source": [
    "# 4 Python stores information in different formats or types"
   ]
  },
  {
   "cell_type": "markdown",
   "id": "07dab205-7527-43e0-81ea-4aaff205cdf9",
   "metadata": {},
   "source": [
    "- You can store information as different categories. **Using type() to ask how python store the info**.\n",
    "\n",
    "    - **int** is integer, python will only store the integer part\n",
    "\n",
    "\n",
    "    - **str** is string, which means texts. Even if u store a number, it become a text and can be printed inside ''.\n",
    "\n",
    "    - **float** means int plus decimal, if store 1 will show as 1.0\n",
    "\n",
    "    - **complex** is complex number, if store 1 will show 1+0j\n",
    "\n",
    "- for other types of storage, check [this link](https://realpython.com/python-data-types/).\n"
   ]
  },
  {
   "cell_type": "code",
   "execution_count": 17,
   "id": "9eb9751f-21c6-4fe3-b79c-13f54ce812c4",
   "metadata": {},
   "outputs": [
    {
     "name": "stdout",
     "output_type": "stream",
     "text": [
      "1 <class 'int'>\n"
     ]
    }
   ],
   "source": [
    "x = int(1.234)\n",
    "print(x, type(x))"
   ]
  },
  {
   "cell_type": "code",
   "execution_count": 16,
   "id": "9e667d93-76be-4db2-91d3-4e6cceb8299e",
   "metadata": {},
   "outputs": [
    {
     "name": "stdout",
     "output_type": "stream",
     "text": [
      "1.234 <class 'str'>\n"
     ]
    }
   ],
   "source": [
    "x = str(1.234)\n",
    "print(x, type(x))"
   ]
  },
  {
   "cell_type": "code",
   "execution_count": 15,
   "id": "6787269b-adac-4ecf-b506-22d4ab2138fc",
   "metadata": {},
   "outputs": [
    {
     "name": "stdout",
     "output_type": "stream",
     "text": [
      "1.234 <class 'float'>\n"
     ]
    }
   ],
   "source": [
    "x = float(1.234)\n",
    "print(x, type(x))"
   ]
  },
  {
   "cell_type": "code",
   "execution_count": 14,
   "id": "44494c6b-3920-4eda-8ca4-5a8e421bd32a",
   "metadata": {},
   "outputs": [
    {
     "name": "stdout",
     "output_type": "stream",
     "text": [
      "(1.234+0j) <class 'complex'>\n"
     ]
    }
   ],
   "source": [
    "x = complex(1.234)\n",
    "print(x, type(x))"
   ]
  },
  {
   "cell_type": "markdown",
   "id": "bd5c8377-3700-45ba-a6b5-6cd42482685c",
   "metadata": {},
   "source": [
    "- We often need to change the type of variable."
   ]
  },
  {
   "cell_type": "code",
   "execution_count": 18,
   "id": "89cf0c7d-4f02-4312-8809-5d46d6ca5d10",
   "metadata": {},
   "outputs": [
    {
     "name": "stdout",
     "output_type": "stream",
     "text": [
      "1.234 <class 'str'>\n"
     ]
    }
   ],
   "source": [
    "x = '1.234'        # x is a string because we use quotation marks, so 1.234 here is like english words.\n",
    "print(x, type(x))"
   ]
  },
  {
   "cell_type": "code",
   "execution_count": 19,
   "id": "4195994d-a9e6-4a89-bef9-896d755b71e2",
   "metadata": {},
   "outputs": [
    {
     "name": "stdout",
     "output_type": "stream",
     "text": [
      "1.234 <class 'float'>\n"
     ]
    }
   ],
   "source": [
    "x = float(x)       # x is now a decimal number, we have changed 1.234 english words to decimal numbers\n",
    "print(x, type(x))"
   ]
  },
  {
   "attachments": {},
   "cell_type": "markdown",
   "id": "170b1af6",
   "metadata": {},
   "source": [
    "# 5 Never compare floats directly"
   ]
  },
  {
   "attachments": {},
   "cell_type": "markdown",
   "id": "2e0ba921",
   "metadata": {},
   "source": [
    "## 5.1 The Problem"
   ]
  },
  {
   "cell_type": "markdown",
   "id": "d67c165e-5577-4a78-b77a-7c46ec27a79f",
   "metadata": {},
   "source": [
    "**Floating point numbers cannot be exactly stored in a computer3. This leads to errors called roundoff errors.**"
   ]
  },
  {
   "cell_type": "code",
   "execution_count": 22,
   "id": "542cb6dc-6d95-4f16-b84b-f2a6560b2d94",
   "metadata": {},
   "outputs": [
    {
     "data": {
      "text/plain": [
       "False"
      ]
     },
     "execution_count": 22,
     "metadata": {},
     "output_type": "execute_result"
    }
   ],
   "source": [
    "a = 0.1\n",
    "b = 0.3\n",
    "a * 3 == b  # see how this is unequel, this is because float is not stored as exact."
   ]
  },
  {
   "cell_type": "code",
   "execution_count": 23,
   "id": "719aff62-fcc0-40df-864b-64ff6983ea38",
   "metadata": {},
   "outputs": [
    {
     "data": {
      "text/plain": [
       "'0.29999999999999999'"
      ]
     },
     "execution_count": 23,
     "metadata": {},
     "output_type": "execute_result"
    }
   ],
   "source": [
    "f'{0.3:.17f}'  # this is to show the 17 decimal place for 0.3, we can see python stored 0.3 as 0.2999999999"
   ]
  },
  {
   "attachments": {},
   "cell_type": "markdown",
   "id": "c08bea59",
   "metadata": {},
   "source": [
    "## 5.2 A solution"
   ]
  },
  {
   "cell_type": "markdown",
   "id": "1384974e-a925-4bd9-bc31-2387fc1b1731",
   "metadata": {},
   "source": [
    "Therefore, instead of directly compare floats, we can check whether the variables are **close** to each other."
   ]
  },
  {
   "cell_type": "code",
   "execution_count": 2,
   "id": "51dc8f3a-3d1a-4688-be9e-60e4974ca83a",
   "metadata": {},
   "outputs": [
    {
     "data": {
      "text/plain": [
       "True"
      ]
     },
     "execution_count": 2,
     "metadata": {},
     "output_type": "execute_result"
    }
   ],
   "source": [
    "a = 0.1\n",
    "b = 0.3\n",
    "zero = 1E-10           # 10^-10 is very close to zero\n",
    "abs(a * 3 - b) < zero  # we check that this value is close to zero, meaning they are actually equal."
   ]
  },
  {
   "cell_type": "code",
   "execution_count": 3,
   "id": "108283dd-22a4-44e5-878b-111ffe877936",
   "metadata": {},
   "outputs": [
    {
     "data": {
      "text/plain": [
       "True"
      ]
     },
     "execution_count": 3,
     "metadata": {},
     "output_type": "execute_result"
    }
   ],
   "source": [
    "a = 0.1\n",
    "b = 0.3\n",
    "zero = 1E-10\n",
    "a * 3-b < zero"
   ]
  },
  {
   "cell_type": "code",
   "execution_count": 5,
   "id": "f9840b1f-4f32-4eb2-ad27-c48948ff567c",
   "metadata": {},
   "outputs": [
    {
     "data": {
      "text/plain": [
       "True"
      ]
     },
     "execution_count": 5,
     "metadata": {},
     "output_type": "execute_result"
    }
   ],
   "source": [
    "import numpy as np\n",
    "np.isclose(a * 3, b)  # or we can just use numpy to check whther the two things are close."
   ]
  },
  {
   "attachments": {},
   "cell_type": "markdown",
   "id": "1f0ead2c",
   "metadata": {},
   "source": [
    "# 6 Combining English and variables (read f string structure first)"
   ]
  },
  {
   "cell_type": "code",
   "execution_count": 1,
   "id": "05b70e04-4df8-4be9-95bb-3b36a0a3db99",
   "metadata": {},
   "outputs": [
    {
     "name": "stdout",
     "output_type": "stream",
     "text": [
      "Hello Batman!\n"
     ]
    }
   ],
   "source": [
    "name = \"Batman\"\n",
    "print(f\"Hello {name}!\")  # f in front means that to treat whatever inside as a variable\n",
    "                         # need the brackets for the variable {}\n",
    "                        # f string only recognise whatever is inside the {}. If you wanna use the f string function, it must be in {}."
   ]
  },
  {
   "cell_type": "code",
   "execution_count": 7,
   "id": "f86538c5-6618-44de-b753-28f665c5ab1e",
   "metadata": {},
   "outputs": [
    {
     "name": "stdout",
     "output_type": "stream",
     "text": [
      "Bruce Wayne is Batman.\n"
     ]
    }
   ],
   "source": [
    "text = 'Bruce Wayne is Batman.'\n",
    "print(f'{text}')"
   ]
  },
  {
   "cell_type": "code",
   "execution_count": 12,
   "id": "02719157-4ebd-40d3-a3a5-58b9936c4e04",
   "metadata": {},
   "outputs": [
    {
     "name": "stdout",
     "output_type": "stream",
     "text": [
      "        Bruce Wayne is Batman.\n"
     ]
    }
   ],
   "source": [
    "print(f'{text:>30}')      # A block of 30 characters;\n",
    "                          # aligned right"
   ]
  },
  {
   "cell_type": "code",
   "execution_count": 6,
   "id": "8bd23b8b-7d1e-4795-8771-ff5e37097c81",
   "metadata": {},
   "outputs": [
    {
     "name": "stdout",
     "output_type": "stream",
     "text": [
      "xxxxxxxxBruce Wayne is Batman.\n"
     ]
    }
   ],
   "source": [
    "print(f'{text:x>30}')      # A block of 30 characters;\n",
    "                          # aligned right\n",
    "                          # by placing something in front, it means fill up the left/right/mid with this character."
   ]
  },
  {
   "cell_type": "code",
   "execution_count": 11,
   "id": "eff8bf8b-43d5-47fd-ae53-7474f6e853f6",
   "metadata": {},
   "outputs": [
    {
     "name": "stdout",
     "output_type": "stream",
     "text": [
      "Bruce Wayne is Batman.xxxxxxxx\n"
     ]
    }
   ],
   "source": [
    "print(f'{text:x<30}') "
   ]
  },
  {
   "cell_type": "code",
   "execution_count": 9,
   "id": "8f18017d-a8bd-49da-99ca-ae4c53396447",
   "metadata": {},
   "outputs": [
    {
     "name": "stdout",
     "output_type": "stream",
     "text": [
      "xxxxBruce Wayne is Batman.xxxx\n"
     ]
    }
   ],
   "source": [
    "print(f'{text:x^30}') "
   ]
  },
  {
   "cell_type": "code",
   "execution_count": 21,
   "id": "c6517791-bf84-4f6e-a933-65e74cbdb6a9",
   "metadata": {},
   "outputs": [
    {
     "name": "stdout",
     "output_type": "stream",
     "text": [
      "The cube of pi to 6 decimal places is 31.006277\n"
     ]
    }
   ],
   "source": [
    "print(f'The cube of pi to 6 decimal places is {np.pi**3:.6f}')   "
   ]
  },
  {
   "cell_type": "code",
   "execution_count": 13,
   "id": "d687e235-a126-48f4-a36a-2b2e6660b9a6",
   "metadata": {},
   "outputs": [],
   "source": [
    "import numpy as np"
   ]
  },
  {
   "cell_type": "code",
   "execution_count": 35,
   "id": "da839734-857a-4bb9-90bf-e9cd7d819572",
   "metadata": {},
   "outputs": [
    {
     "name": "stdout",
     "output_type": "stream",
     "text": [
      "3.141593\n"
     ]
    }
   ],
   "source": [
    "print(f'{np.pi:.6f}')  # f means float here, 6f means 6 decimals\n",
    "                       # the : and everything is the structure of f string. READ BELOW THE STRUCTURE OF F STRING TO UNDERSTAND"
   ]
  },
  {
   "cell_type": "code",
   "execution_count": 22,
   "id": "c64521aa-7017-458f-838d-2cf398d914fd",
   "metadata": {},
   "outputs": [
    {
     "name": "stdout",
     "output_type": "stream",
     "text": [
      "------------3.141593\n"
     ]
    }
   ],
   "source": [
    "print(f'{np.pi:->20.6f}')"
   ]
  },
  {
   "cell_type": "code",
   "execution_count": 32,
   "id": "dadcac67-9e31-4f72-b9dd-934bde94a2cf",
   "metadata": {},
   "outputs": [
    {
     "data": {
      "text/plain": [
       "3.141593"
      ]
     },
     "execution_count": 32,
     "metadata": {},
     "output_type": "execute_result"
    }
   ],
   "source": [
    "round(np.pi, 6)  # this can round off pi to 6 decimals."
   ]
  },
  {
   "attachments": {},
   "cell_type": "markdown",
   "id": "d7802260",
   "metadata": {},
   "source": [
    "## 6.1 [Structure of f-strings](https://pyformat.info/)"
   ]
  },
  {
   "cell_type": "markdown",
   "id": "f7cc0722-d673-4214-b4fa-62bd3cd4458f",
   "metadata": {},
   "source": [
    "- Format:     **f**'blablabla **{X:0>Y.ZW}** blablabla'\n",
    "\n",
    "  f string can format whatever that is inside the large bracket.\n",
    "\n",
    "- There are three parts inside the bracket. `x:` `0>Y` `.ZW`\n",
    "    - `X` is the variable needed to be formatted, this must be followed by `:`. **NOTE THAT X MUST BE A VARIABLE AND ALR DEFINED.**\n",
    "    - `0` is the thing that you want to fill up the space, you can also change 0 to a simple 'space' to make the spacing blank.\n",
    "      \n",
    "      `>` and `<` means that you want to leave space on the opening side of the sign. `^` is leave space on both side.\n",
    "      \n",
    "      `Y` is the total number of space you want to leave.\n",
    "    - `.` here is normally attribute that you want to add, if you don't need anything, you dn the last part.\n",
    "      \n",
    "      `Z` is the number of decimal spaces if your attributes is to show the decimals.\n",
    "      \n",
    "      `W` is the type of attributes. f(float), d(integer), s(string), g(ask python to figure out)"
   ]
  },
  {
   "attachments": {},
   "cell_type": "markdown",
   "id": "ec598fef",
   "metadata": {},
   "source": [
    "# 7 Escape sequences"
   ]
  },
  {
   "cell_type": "markdown",
   "id": "60b7de07-bf87-4b57-b203-00cd577c4e3c",
   "metadata": {},
   "source": [
    "it refers to special characters we sometimes need when writing English."
   ]
  },
  {
   "cell_type": "markdown",
   "id": "e4889316-9fc1-4ba7-b06a-cffcbf0291c8",
   "metadata": {},
   "source": [
    "|Escape sequence|Meaning|\n",
    "|--------|------|\n",
    "|`\\'`| single quote|\n",
    "|\\\\|backslash|\n",
    "|\\n|new line|\n",
    "|\\t|tab|"
   ]
  },
  {
   "cell_type": "code",
   "execution_count": 25,
   "id": "81435093-ab95-4f1e-99c3-9d45d6368681",
   "metadata": {},
   "outputs": [
    {
     "name": "stdout",
     "output_type": "stream",
     "text": [
      "You're twenty years old.\n"
     ]
    }
   ],
   "source": [
    "print('You\\'re twenty years old.')  # if u dont use \\', python will complain as it doesn't know where the quote ended exactly."
   ]
  },
  {
   "cell_type": "code",
   "execution_count": 27,
   "id": "ea22ccd1-680f-4d3f-8d7c-318f3abbf959",
   "metadata": {},
   "outputs": [
    {
     "name": "stdout",
     "output_type": "stream",
     "text": [
      "A\\B\\C\n"
     ]
    }
   ],
   "source": [
    "print('A\\\\B\\\\C')"
   ]
  },
  {
   "cell_type": "code",
   "execution_count": 28,
   "id": "186e3ec9-9aa9-49d5-96d1-611f146e0d5c",
   "metadata": {},
   "outputs": [
    {
     "name": "stdout",
     "output_type": "stream",
     "text": [
      "A\n",
      "B\n",
      "C\n"
     ]
    }
   ],
   "source": [
    "print('A\\nB\\nC')"
   ]
  },
  {
   "cell_type": "code",
   "execution_count": 29,
   "id": "cddb6b45-b1d3-4907-9a47-e2d0125faa80",
   "metadata": {},
   "outputs": [
    {
     "name": "stdout",
     "output_type": "stream",
     "text": [
      "A\tB\tC\n"
     ]
    }
   ],
   "source": [
    "print('A\\tB\\tC')"
   ]
  },
  {
   "attachments": {},
   "cell_type": "markdown",
   "id": "8661c64a",
   "metadata": {},
   "source": [
    "# 8 Computers read = from Right to Left!"
   ]
  },
  {
   "cell_type": "code",
   "execution_count": 24,
   "id": "5c6d8444-e528-470f-9095-a12ee06390e9",
   "metadata": {},
   "outputs": [],
   "source": [
    "x = 40\n",
    "y = x + 2"
   ]
  },
  {
   "cell_type": "code",
   "execution_count": 25,
   "id": "885af3d6-c0e4-40c4-a968-7447a549d39d",
   "metadata": {},
   "outputs": [
    {
     "data": {
      "text/plain": [
       "42"
      ]
     },
     "execution_count": 25,
     "metadata": {},
     "output_type": "execute_result"
    }
   ],
   "source": [
    "y"
   ]
  },
  {
   "cell_type": "code",
   "execution_count": 26,
   "id": "58c6643a-92be-4522-9dc0-69e1635daddf",
   "metadata": {},
   "outputs": [
    {
     "name": "stdout",
     "output_type": "stream",
     "text": [
      "42\n"
     ]
    }
   ],
   "source": [
    "y = 40   # mathematically, this is weird. But computer read from right to left\n",
    "y = y + 2  # from right to left, it is like u redifined y again as y+2. If u read from left to right, then it should be y=38\n",
    "print(y)  # hence print y will give u 42"
   ]
  },
  {
   "cell_type": "code",
   "execution_count": 27,
   "id": "4da3998d-93d2-4cfd-af40-9d9fb921712a",
   "metadata": {},
   "outputs": [],
   "source": [
    "x = y = 10 # Python also allows the following syntax"
   ]
  },
  {
   "attachments": {},
   "cell_type": "markdown",
   "id": "eb89e1d8",
   "metadata": {},
   "source": [
    "# 9 Shorter and Cleaner Code"
   ]
  },
  {
   "cell_type": "code",
   "execution_count": 28,
   "id": "d13a4074-1b77-4b3e-80e0-179881c67660",
   "metadata": {},
   "outputs": [
    {
     "data": {
      "text/plain": [
       "42"
      ]
     },
     "execution_count": 28,
     "metadata": {},
     "output_type": "execute_result"
    }
   ],
   "source": [
    "y = 40\n",
    "y = y + 2\n",
    "y"
   ]
  },
  {
   "cell_type": "code",
   "execution_count": 29,
   "id": "1f06e93a-95b4-4b85-bd34-d8b29f10ace0",
   "metadata": {},
   "outputs": [
    {
     "data": {
      "text/plain": [
       "42"
      ]
     },
     "execution_count": 29,
     "metadata": {},
     "output_type": "execute_result"
    }
   ],
   "source": [
    "y = 40\n",
    "y += 2    # Same as y = y + 2   # += is like two commands, ask python to add first, then equal\n",
    "y         # python add 2 to y first, then make y equal to 40+2"
   ]
  },
  {
   "cell_type": "code",
   "execution_count": 30,
   "id": "73433a2c-972d-4f52-960b-341b1dbda609",
   "metadata": {},
   "outputs": [
    {
     "data": {
      "text/plain": [
       "20.0"
      ]
     },
     "execution_count": 30,
     "metadata": {},
     "output_type": "execute_result"
    }
   ],
   "source": [
    "y = 40\n",
    "y /= 2    # Same as y = y / 2\n",
    "y"
   ]
  },
  {
   "cell_type": "markdown",
   "id": "f0f7c797-cae3-474f-bbc9-4d9d039928ae",
   "metadata": {},
   "source": [
    "Addition: y+=2\n",
    "\n",
    "Subtraction: y-=2\n",
    "\n",
    "Multiply: y*=2\n",
    "\n",
    "Divide: y/=2= 2= 2"
   ]
  },
  {
   "attachments": {},
   "cell_type": "markdown",
   "id": "62cdbe00",
   "metadata": {},
   "source": [
    "# 10 Python can be a prima-donna."
   ]
  },
  {
   "cell_type": "markdown",
   "id": "3a8518f7-3052-45d5-82b4-20318ad01288",
   "metadata": {},
   "source": [
    "**scroll to the last line to see the problem**te."
   ]
  },
  {
   "cell_type": "markdown",
   "id": "5ee64b12-6419-4b5d-8e17-66630dd54c46",
   "metadata": {},
   "source": [
    "- Write programs for people, not computers.\n",
    "\n",
    "- Optimise software only after it works correctly.\n",
    "\n",
    "- Document design and purpose, not mechanics.\n",
    "\n",
    "- Collaborate."
   ]
  },
  {
   "attachments": {},
   "cell_type": "markdown",
   "id": "0fcb016f",
   "metadata": {},
   "source": [
    "# 11 Best Practices for Scientific Computing"
   ]
  },
  {
   "cell_type": "markdown",
   "id": "652b0e38-5d9d-4ca8-8707-21bf22d195c8",
   "metadata": {},
   "source": [
    "Always start simple and get something working first before making it perfect."
   ]
  },
  {
   "attachments": {},
   "cell_type": "markdown",
   "id": "32807ef3",
   "metadata": {},
   "source": [
    "# 12 Looking for help"
   ]
  },
  {
   "cell_type": "markdown",
   "id": "4c58664d-35da-4a0f-a543-e6e7292e5bf1",
   "metadata": {},
   "source": [
    "You can get help/information about Python functions from within Python. However, I do not recommend it at this stage. \n",
    "\n",
    "If ever needed in the futute, I will be adding into this list."
   ]
  },
  {
   "attachments": {},
   "cell_type": "markdown",
   "id": "58165a3a",
   "metadata": {},
   "source": [
    "## References"
   ]
  },
  {
   "attachments": {},
   "cell_type": "markdown",
   "id": "b202102c",
   "metadata": {},
   "source": [
    "## Footnotes"
   ]
  }
 ],
 "metadata": {
  "kernelspec": {
   "display_name": "Python 3 (ipykernel)",
   "language": "python",
   "name": "python3"
  },
  "language_info": {
   "codemirror_mode": {
    "name": "ipython",
    "version": 3
   },
   "file_extension": ".py",
   "mimetype": "text/x-python",
   "name": "python",
   "nbconvert_exporter": "python",
   "pygments_lexer": "ipython3",
   "version": "3.12.1"
  },
  "toc": {
   "base_numbering": 1,
   "nav_menu": {},
   "number_sections": true,
   "sideBar": true,
   "skip_h1_title": false,
   "title_cell": "Table of Contents",
   "title_sidebar": "Contents",
   "toc_cell": false,
   "toc_position": {},
   "toc_section_display": true,
   "toc_window_display": false
  },
  "vscode": {
   "interpreter": {
    "hash": "31f2aee4e71d21fbe5cf8b01ff0e069b9275f58929596ceb00d14d90e3e16cd6"
   }
  }
 },
 "nbformat": 4,
 "nbformat_minor": 5
}
