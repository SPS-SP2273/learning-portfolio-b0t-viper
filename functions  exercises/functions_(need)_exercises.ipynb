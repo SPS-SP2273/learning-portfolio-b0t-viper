{
 "cells": [
  {
   "attachments": {},
   "cell_type": "markdown",
   "id": "123456",
   "metadata": {},
   "source": [
    "<div style=\"text-align:left;font-size:2em\"><span style=\"font-weight:bolder;font-size:1.25em\">SP2273 | Learning Portfolio</span><br><br><span style=\"font-weight:bold;color:darkred\">Functions (Need) Exercises</span></div>"
   ]
  },
  {
   "cell_type": "markdown",
   "id": "d0a7f414-5361-400a-a9e6-562cd4102dc8",
   "metadata": {},
   "source": [
    "**Exercise 1**"
   ]
  },
  {
   "cell_type": "markdown",
   "id": "61dc51ba-d2ee-4602-9e22-d028cff0445c",
   "metadata": {},
   "source": [
    "The following code works as expected despite not having an else statement. Please use a Markdown cell to explain why?"
   ]
  },
  {
   "cell_type": "code",
   "execution_count": 1,
   "id": "9b1baed1-c381-4c74-8616-39e7884d091b",
   "metadata": {},
   "outputs": [],
   "source": [
    "def greeting(name):\n",
    "    if name == 'Batman':\n",
    "        return 'Hello Batman! So, nice to meet you!'\n",
    "    return f'Hello {name}!'"
   ]
  },
  {
   "cell_type": "code",
   "execution_count": 2,
   "id": "8804fd22-a4af-4dbf-b104-a44cb014bf38",
   "metadata": {},
   "outputs": [
    {
     "data": {
      "text/plain": [
       "'Hello yo!'"
      ]
     },
     "execution_count": 2,
     "metadata": {},
     "output_type": "execute_result"
    }
   ],
   "source": [
    "greeting('yo')"
   ]
  },
  {
   "cell_type": "markdown",
   "id": "0f4a0671-de0f-4be0-860e-117dfc30393b",
   "metadata": {},
   "source": [
    "Lets look at this function first. This function define greeting() as a function that returns hello(name). There is one special condition which is when the name is Batman specifically, that is when the function has another returned value. \n",
    "\n",
    "The logic of the function work in the following way:\n",
    "\n",
    "First, the function see whether the if condition is met, if met, it will be returned with the value under if.\n",
    "\n",
    "If the 'if' condition is not met, then the function will ignore the if block and get returned the normal value."
   ]
  },
  {
   "cell_type": "markdown",
   "id": "bbf451aa-bde2-4dc1-9cf8-5a37de983aca",
   "metadata": {},
   "source": [
    "**To further answer this question: If the condition name == 'Batman' evaluates to be True, the function immediately returns the string 'Hello Batman! So, nice to meet you!'. In this case, the function exits at the return statement within the if block, and no further code within the function is executed.**"
   ]
  },
  {
   "cell_type": "markdown",
   "id": "4b4461d0-465c-482d-a3b3-140e2a123425",
   "metadata": {},
   "source": [
    "**Exercise 2**"
   ]
  },
  {
   "cell_type": "code",
   "execution_count": 1,
   "id": "813d4c7b-c26e-40f0-8370-cd7464373ff3",
   "metadata": {},
   "outputs": [],
   "source": [
    "def calculate_bmi(weight, height):\n",
    "    if weight <= 0 or height <= 0:\n",
    "        return \"Invalid input as weight and height must be positive numbers\"\n",
    "    BMI= weight/(height**2)\n",
    "    if BMI<18.5:\n",
    "        return 'Underweight'\n",
    "    elif 18.5<=BMI<25:\n",
    "        return 'Normal weight'\n",
    "    elif 25<=BMI<30:\n",
    "        return 'Overweight'\n",
    "    else:\n",
    "        return 'Obesity'\n",
    "    "
   ]
  },
  {
   "cell_type": "code",
   "execution_count": 2,
   "id": "2b690fc4-075b-43c2-be60-3410f8b6e221",
   "metadata": {},
   "outputs": [
    {
     "data": {
      "text/plain": [
       "'Normal weight'"
      ]
     },
     "execution_count": 2,
     "metadata": {},
     "output_type": "execute_result"
    }
   ],
   "source": [
    "calculate_bmi(80,1.84)"
   ]
  }
 ],
 "metadata": {
  "kernelspec": {
   "display_name": "Python 3 (ipykernel)",
   "language": "python",
   "name": "python3"
  },
  "language_info": {
   "codemirror_mode": {
    "name": "ipython",
    "version": 3
   },
   "file_extension": ".py",
   "mimetype": "text/x-python",
   "name": "python",
   "nbconvert_exporter": "python",
   "pygments_lexer": "ipython3",
   "version": "3.12.1"
  },
  "toc": {
   "base_numbering": 1,
   "nav_menu": {},
   "number_sections": true,
   "sideBar": true,
   "skip_h1_title": false,
   "title_cell": "Table of Contents",
   "title_sidebar": "Contents",
   "toc_cell": false,
   "toc_position": {},
   "toc_section_display": true,
   "toc_window_display": false
  },
  "vscode": {
   "interpreter": {
    "hash": "31f2aee4e71d21fbe5cf8b01ff0e069b9275f58929596ceb00d14d90e3e16cd6"
   }
  }
 },
 "nbformat": 4,
 "nbformat_minor": 5
}
