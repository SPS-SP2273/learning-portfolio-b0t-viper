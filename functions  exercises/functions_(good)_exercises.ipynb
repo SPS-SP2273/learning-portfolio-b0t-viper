{
 "cells": [
  {
   "attachments": {},
   "cell_type": "markdown",
   "id": "123456",
   "metadata": {},
   "source": [
    "<div style=\"text-align:left;font-size:2em\"><span style=\"font-weight:bolder;font-size:1.25em\">SP2273 | Learning Portfolio</span><br><br><span style=\"font-weight:bold;color:darkred\">Functions (Good) Exercises</span></div>"
   ]
  },
  {
   "cell_type": "markdown",
   "id": "81f8bca7-6f98-4e10-8c75-e5dd377dd679",
   "metadata": {},
   "source": [
    "**Exercise 1**"
   ]
  },
  {
   "cell_type": "code",
   "execution_count": 46,
   "id": "30063bd3-8cd2-4c93-bbb0-8feeb8267f8b",
   "metadata": {},
   "outputs": [],
   "source": [
    "def convert_celsius(temperature_celsius, target_scale='F'):\n",
    "    try:\n",
    "        if target_scale=='Kelvin':\n",
    "            return temperature_celsius+273.15\n",
    "        else:\n",
    "            return temperature_celsius*1.8+32\n",
    "    except TypeError:\n",
    "        print('Please enter a correct numeric temperature')\n",
    "        return None"
   ]
  },
  {
   "cell_type": "markdown",
   "id": "f7121a07-ac94-4879-9122-c6a6720b3983",
   "metadata": {},
   "source": [
    "**Exercise 2**"
   ]
  },
  {
   "cell_type": "code",
   "execution_count": 44,
   "id": "e899fda9-6fc0-4b16-b198-a1628329558b",
   "metadata": {},
   "outputs": [],
   "source": [
    "def convert_fahrenheit(temperature_fahrenheit, target_scale='Celsius'):\n",
    "    try:\n",
    "        if target_scale == 'Kelvin':\n",
    "            return (temperature_fahrenheit - 32) * 5/9 + 273.15\n",
    "        else: \n",
    "            return (temperature_fahrenheit - 32) * 5/9\n",
    "    except TypeError:\n",
    "        print('Please enter a correct numeric temperature')\n",
    "        return None\n"
   ]
  },
  {
   "cell_type": "code",
   "execution_count": 45,
   "id": "0e106461-b9f7-46d9-bfee-df43ffa7bd64",
   "metadata": {},
   "outputs": [
    {
     "name": "stdout",
     "output_type": "stream",
     "text": [
      "Please enter a correct numeric temperature\n"
     ]
    }
   ],
   "source": [
    "convert_fahrenheit('a')"
   ]
  },
  {
   "cell_type": "markdown",
   "id": "83c91b4f-1efd-4b77-afa3-b731c1f22fc9",
   "metadata": {},
   "source": [
    "**Exercise 3**"
   ]
  },
  {
   "cell_type": "code",
   "execution_count": 48,
   "id": "644bf82c-9163-42cf-ba11-f38973de9cd1",
   "metadata": {},
   "outputs": [],
   "source": [
    "def convert_temperature(temperature, source_scale, target_scale):\n",
    "    if source_scale == 'Celsius':\n",
    "        x = temperature\n",
    "    elif source_scale == 'Fahrenheit':   # My idea is to convert everything to celsius first, no matter what source scale is inputted\n",
    "        x = (temperature - 32) * 5/9\n",
    "    elif source_scale == 'Kelvin':    # As we can see here, if source is F or K, we will all convcert it to celsius first.\n",
    "        x = temperature - 273.15\n",
    "    else:\n",
    "        print('Invalid source scale. Please choose \"Celsius\", \"Fahrenheit\", or \"Kelvin\".')\n",
    "        return None\n",
    "    \n",
    "    if target_scale == 'Celsius':\n",
    "        return x\n",
    "    elif target_scale == 'Fahrenheit':   # Since we already converted everything to celsius, we can use the celsius function that we just made to convert\n",
    "        return convert_celsius(x, 'F')\n",
    "    elif target_scale == 'Kelvin':\n",
    "        return convert_celsius(x, 'Kelvin')\n",
    "    else:\n",
    "        print('Invalid target scale. Please choose \"Celsius\", \"Fahrenheit\", or \"Kelvin\".')\n",
    "        return None\n"
   ]
  },
  {
   "cell_type": "code",
   "execution_count": 51,
   "id": "21427e7e-ffee-4bca-b3de-b7ee60d05577",
   "metadata": {},
   "outputs": [
    {
     "data": {
      "text/plain": [
       "-3.888888888888889"
      ]
     },
     "execution_count": 51,
     "metadata": {},
     "output_type": "execute_result"
    }
   ],
   "source": [
    "convert_temperature(25, 'Fahrenheit', 'Celsius')"
   ]
  }
 ],
 "metadata": {
  "kernelspec": {
   "display_name": "Python 3 (ipykernel)",
   "language": "python",
   "name": "python3"
  },
  "language_info": {
   "codemirror_mode": {
    "name": "ipython",
    "version": 3
   },
   "file_extension": ".py",
   "mimetype": "text/x-python",
   "name": "python",
   "nbconvert_exporter": "python",
   "pygments_lexer": "ipython3",
   "version": "3.12.1"
  },
  "toc": {
   "base_numbering": 1,
   "nav_menu": {},
   "number_sections": true,
   "sideBar": true,
   "skip_h1_title": false,
   "title_cell": "Table of Contents",
   "title_sidebar": "Contents",
   "toc_cell": false,
   "toc_position": {},
   "toc_section_display": true,
   "toc_window_display": false
  },
  "vscode": {
   "interpreter": {
    "hash": "31f2aee4e71d21fbe5cf8b01ff0e069b9275f58929596ceb00d14d90e3e16cd6"
   }
  }
 },
 "nbformat": 4,
 "nbformat_minor": 5
}
