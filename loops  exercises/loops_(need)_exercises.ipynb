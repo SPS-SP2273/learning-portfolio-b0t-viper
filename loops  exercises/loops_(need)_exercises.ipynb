{
 "cells": [
  {
   "attachments": {},
   "cell_type": "markdown",
   "id": "123456",
   "metadata": {},
   "source": [
    "<div style=\"text-align:left;font-size:2em\"><span style=\"font-weight:bolder;font-size:1.25em\">SP2273 | Learning Portfolio</span><br><br><span style=\"font-weight:bold;color:darkred\">Loops (Need) Exercises</span></div>"
   ]
  },
  {
   "cell_type": "markdown",
   "id": "57be8509-8fc3-4e2e-b58b-c5c228e096d5",
   "metadata": {},
   "source": [
    "**Exercise 1**"
   ]
  },
  {
   "cell_type": "code",
   "execution_count": 1,
   "id": "52041982-a4c4-4a5c-bb7f-a93f179adfa0",
   "metadata": {},
   "outputs": [],
   "source": [
    "temperatures_celsius = [\n",
    "    0, 5, 10, 15, 20, 25,\n",
    "    30, 35, 40, 45, 50\n",
    "]"
   ]
  },
  {
   "cell_type": "code",
   "execution_count": 8,
   "id": "d47c4b98-7127-4e1a-aab5-1fd83d19b4db",
   "metadata": {},
   "outputs": [
    {
     "name": "stdout",
     "output_type": "stream",
     "text": [
      "0 in fahrenheit is 32.0\n",
      "5 in fahrenheit is 41.0\n",
      "10 in fahrenheit is 50.0\n",
      "15 in fahrenheit is 59.0\n",
      "20 in fahrenheit is 68.0\n",
      "25 in fahrenheit is 77.0\n",
      "30 in fahrenheit is 86.0\n",
      "35 in fahrenheit is 95.0\n",
      "40 in fahrenheit is 104.0\n",
      "45 in fahrenheit is 113.0\n",
      "50 in fahrenheit is 122.0\n"
     ]
    }
   ],
   "source": [
    "for t in temperatures_celsius:\n",
    "    F= t*1.8+32\n",
    "    print(t, 'in fahrenheit is', F)\n"
   ]
  },
  {
   "cell_type": "markdown",
   "id": "9b3b64f9-81ce-4f6e-8fda-d06258e36c0e",
   "metadata": {},
   "source": [
    "**Exercise 2**"
   ]
  },
  {
   "cell_type": "code",
   "execution_count": 9,
   "id": "9290df2f-239e-42d2-9190-d57d06dcf8ca",
   "metadata": {},
   "outputs": [
    {
     "name": "stdout",
     "output_type": "stream",
     "text": [
      "A1\tA2\tA3\t\n",
      "\n",
      "B1\tB2\tB3\t\n",
      "\n",
      "C1\tC2\tC3\t\n",
      "\n"
     ]
    }
   ],
   "source": [
    "for letter in ['A', 'B', 'C']:\n",
    "    for number in [1, 2, 3]:  # we run the first loop with A, A will be run 3 times with diff numbers.\n",
    "        print(f'{letter}{number}', end='\\t')  #printing letter and number then separate with a tab\n",
    "    print('\\n')   # setting a new line"
   ]
  },
  {
   "cell_type": "raw",
   "id": "afd7c2fe-1b96-467d-b7ed-28166643afe0",
   "metadata": {},
   "source": [
    "Write a Python snippet that prints a multiplication table (up to 5) for numbers 1 through 5 using nested for loops. The output should be formatted as shown below:\r\n",
    "\r\n",
    "1 : 1   2   3   4   5   \r\n",
    "2 : 2   4   6   8   10  \r\n",
    "3 : 3   6   9   12  15  \r\n",
    "4 : 4   8   12  16  20  \r\n",
    "5 : 5   10  15  20  25  "
   ]
  },
  {
   "cell_type": "code",
   "execution_count": 22,
   "id": "83cbc9b0-23f0-425a-a5dc-7b619dc84b61",
   "metadata": {},
   "outputs": [
    {
     "name": "stdout",
     "output_type": "stream",
     "text": [
      "1 :1\t2\t3\t4\t5\t\n",
      "\n",
      "2 :2\t4\t6\t8\t10\t\n",
      "\n",
      "3 :3\t6\t9\t12\t15\t\n",
      "\n",
      "4 :4\t8\t12\t16\t20\t\n",
      "\n",
      "5 :5\t10\t15\t20\t25\t\n",
      "\n"
     ]
    }
   ],
   "source": [
    "for number in [1, 2, 3, 4, 5]:\n",
    "    print(number, ':', end='')\n",
    "    for multiplier in [1, 2, 3, 4, 5]:\n",
    "      print(number*multiplier, end='\\t')\n",
    "    print('\\n')"
   ]
  }
 ],
 "metadata": {
  "kernelspec": {
   "display_name": "Python 3 (ipykernel)",
   "language": "python",
   "name": "python3"
  },
  "language_info": {
   "codemirror_mode": {
    "name": "ipython",
    "version": 3
   },
   "file_extension": ".py",
   "mimetype": "text/x-python",
   "name": "python",
   "nbconvert_exporter": "python",
   "pygments_lexer": "ipython3",
   "version": "3.12.1"
  },
  "toc": {
   "base_numbering": 1,
   "nav_menu": {},
   "number_sections": true,
   "sideBar": true,
   "skip_h1_title": false,
   "title_cell": "Table of Contents",
   "title_sidebar": "Contents",
   "toc_cell": false,
   "toc_position": {},
   "toc_section_display": true,
   "toc_window_display": false
  },
  "vscode": {
   "interpreter": {
    "hash": "31f2aee4e71d21fbe5cf8b01ff0e069b9275f58929596ceb00d14d90e3e16cd6"
   }
  }
 },
 "nbformat": 4,
 "nbformat_minor": 5
}
