{
 "cells": [
  {
   "attachments": {},
   "cell_type": "markdown",
   "id": "123456",
   "metadata": {},
   "source": [
    "<div style=\"text-align:left;font-size:2em\"><span style=\"font-weight:bolder;font-size:1.25em\">SP2273 | Learning Portfolio</span><br><br><span style=\"font-weight:bold;color:darkred\">Fundamentals (Need) Exercises</span></div>"
   ]
  },
  {
   "cell_type": "markdown",
   "id": "5b28d511-7b73-4b01-800e-4c7f027878c1",
   "metadata": {},
   "source": [
    "### **Exercise 1**"
   ]
  },
  {
   "cell_type": "markdown",
   "id": "7e3365af-fffd-4dff-84e8-bc466ca63902",
   "metadata": {},
   "source": [
    "- Functions using brackets(), within the brackets is argument\n",
    "- use ()for math, [] for list, {} for disctionary.\n",
    "- can use dots to show ownership such as .function or .attributes to extract these features.\n",
    "- can import packages to make python powerful.\n",
    "- python the format is important, for a function,like print(), it cannot be Print()\n",
    "- python the indentations are important, starting fresh from a line vs having a tab in front is very different.\n",
    "- can use # to add comments\n",
    "- = is to define, == is to question whether they are the same.\n",
    "\n",
    "\n",
    "I missed the following:\n",
    "- *python is interpretted one command at a time*\n",
    "- *can use if and else to make decisions*\n",
    "- *with quotation marks is english, without is a variable.*\n",
    "  "
   ]
  },
  {
   "cell_type": "markdown",
   "id": "a246ebc7-07d8-4410-84b0-92c080b3ad30",
   "metadata": {},
   "source": [
    "### **Exercise 2**"
   ]
  },
  {
   "cell_type": "code",
   "execution_count": 13,
   "id": "4b290b1a-6018-4e14-870f-abeb2482ffee",
   "metadata": {},
   "outputs": [
    {
     "name": "stdout",
     "output_type": "stream",
     "text": [
      "3 4 5\n"
     ]
    }
   ],
   "source": [
    "import numpy as np      # First, I import numpy into python\n",
    "x=3\n",
    "y=4     # Second, i define x and y separately. I removed the indentations in front of everything(cus it is weird and obviously wrong)\n",
    "z = int(np.sqrt(x**2 + y**2))   #Third, I store z as an integer and use the np function to calculate the sqrt\n",
    "print(x , y , z)"
   ]
  },
  {
   "cell_type": "markdown",
   "id": "d9878a32-818c-4cf2-8f9a-e9a9077c377f",
   "metadata": {},
   "source": [
    "### **Exercise 3**"
   ]
  },
  {
   "cell_type": "markdown",
   "id": "cc2f3562-d56a-44b3-9bbe-b779aa65cb1c",
   "metadata": {},
   "source": [
    "|#  |\tTerm\t|Description|\n",
    "|-----|-----|-----|\n",
    "|1\t|Function|Functions are commands given to python to perform a specific task|\t\n",
    "|2\t|Arguments|Arguments are what is inside the brackets of functions. Sometimes argument not needed.|\t\n",
    "|3\t|Comments|Comments are things you write behind each code to explain what the code is about|\t\n",
    "|4\t|Indentations|It is like a tab space used when you want a code to work under a previous code instead of sstarting a new line|\t\n",
    "|5\t|Packages|DLC in games. Used to give python more abilities.|\t\n",
    "|6\t|.|Used to express ownership. A function or an attibute can be added behind the dot.|\t\n",
    "|7\t|:|To express a condition in `if` and `else`. When these are fulfilled, python will do whatever that is behind the :|\t\n",
    "|8\t|`[]`|Used to create lists|\t\n",
    "|9\t|`[[[]]]`|3D list|\t\n",
    "|10\t|`{}`|Used to create dictionary or used for f string|"
   ]
  },
  {
   "cell_type": "markdown",
   "id": "f82ba845-956b-46f3-9d3a-ce92b0ab589a",
   "metadata": {},
   "source": [
    "### **Exercise 4**"
   ]
  },
  {
   "cell_type": "code",
   "execution_count": 14,
   "id": "467f751e-20e2-4b0c-8a66-365b499eccde",
   "metadata": {},
   "outputs": [
    {
     "data": {
      "text/plain": [
       "2.5"
      ]
     },
     "execution_count": 14,
     "metadata": {},
     "output_type": "execute_result"
    }
   ],
   "source": [
    "5/2           # A normal 5 divided by 2"
   ]
  },
  {
   "cell_type": "code",
   "execution_count": 15,
   "id": "a2143ec7-4f07-4692-8c9e-0c96a0ef0ed7",
   "metadata": {},
   "outputs": [
    {
     "data": {
      "text/plain": [
       "2"
      ]
     },
     "execution_count": 15,
     "metadata": {},
     "output_type": "execute_result"
    }
   ],
   "source": [
    "5//2          # It seems like it is only yaking the integer part of the answer. int(5/2)"
   ]
  },
  {
   "cell_type": "code",
   "execution_count": 20,
   "id": "ece6a237-78aa-4ece-9f09-3a3f317e99ca",
   "metadata": {},
   "outputs": [
    {
     "data": {
      "text/plain": [
       "4"
      ]
     },
     "execution_count": 20,
     "metadata": {},
     "output_type": "execute_result"
    }
   ],
   "source": [
    "13//3   #This further proves my idea"
   ]
  },
  {
   "cell_type": "code",
   "execution_count": 16,
   "id": "878e8fcb-3598-4954-b249-ddc1724016a0",
   "metadata": {},
   "outputs": [
    {
     "data": {
      "text/plain": [
       "1"
      ]
     },
     "execution_count": 16,
     "metadata": {},
     "output_type": "execute_result"
    }
   ],
   "source": [
    "5%2           # After many trail and error below. I believe python give an output depending on whether there is a decimal in the answer\n",
    "             # If got decimal, then output is 1, if no decimal, output is 0."
   ]
  },
  {
   "cell_type": "code",
   "execution_count": 21,
   "id": "78bc4590-a14d-4238-b2d3-93145728ff62",
   "metadata": {},
   "outputs": [
    {
     "data": {
      "text/plain": [
       "0"
      ]
     },
     "execution_count": 21,
     "metadata": {},
     "output_type": "execute_result"
    }
   ],
   "source": [
    "6%2"
   ]
  },
  {
   "cell_type": "code",
   "execution_count": 22,
   "id": "bb3b8eb2-fdd8-4545-b751-3be8a996f502",
   "metadata": {},
   "outputs": [
    {
     "data": {
      "text/plain": [
       "1"
      ]
     },
     "execution_count": 22,
     "metadata": {},
     "output_type": "execute_result"
    }
   ],
   "source": [
    "11%2"
   ]
  },
  {
   "cell_type": "code",
   "execution_count": 23,
   "id": "bc3280b8-6848-42b7-af62-99e93f16d9f8",
   "metadata": {},
   "outputs": [
    {
     "data": {
      "text/plain": [
       "1"
      ]
     },
     "execution_count": 23,
     "metadata": {},
     "output_type": "execute_result"
    }
   ],
   "source": [
    "13%2"
   ]
  },
  {
   "cell_type": "code",
   "execution_count": 24,
   "id": "39e927a6-4d0b-494d-aaf9-6f7928b05938",
   "metadata": {},
   "outputs": [
    {
     "data": {
      "text/plain": [
       "0"
      ]
     },
     "execution_count": 24,
     "metadata": {},
     "output_type": "execute_result"
    }
   ],
   "source": [
    "20%2"
   ]
  },
  {
   "cell_type": "code",
   "execution_count": 25,
   "id": "e9f42880-bb7e-4149-9a55-04a895b26fff",
   "metadata": {},
   "outputs": [
    {
     "data": {
      "text/plain": [
       "0"
      ]
     },
     "execution_count": 25,
     "metadata": {},
     "output_type": "execute_result"
    }
   ],
   "source": [
    "33%3"
   ]
  },
  {
   "cell_type": "code",
   "execution_count": 26,
   "id": "99688e81-729c-4a48-a55a-7ee3715773b7",
   "metadata": {},
   "outputs": [
    {
     "data": {
      "text/plain": [
       "0"
      ]
     },
     "execution_count": 26,
     "metadata": {},
     "output_type": "execute_result"
    }
   ],
   "source": [
    "40%4"
   ]
  }
 ],
 "metadata": {
  "kernelspec": {
   "display_name": "Python 3 (ipykernel)",
   "language": "python",
   "name": "python3"
  },
  "language_info": {
   "codemirror_mode": {
    "name": "ipython",
    "version": 3
   },
   "file_extension": ".py",
   "mimetype": "text/x-python",
   "name": "python",
   "nbconvert_exporter": "python",
   "pygments_lexer": "ipython3",
   "version": "3.12.1"
  },
  "toc": {
   "base_numbering": 1,
   "nav_menu": {},
   "number_sections": true,
   "sideBar": true,
   "skip_h1_title": false,
   "title_cell": "Table of Contents",
   "title_sidebar": "Contents",
   "toc_cell": false,
   "toc_position": {},
   "toc_section_display": true,
   "toc_window_display": false
  },
  "vscode": {
   "interpreter": {
    "hash": "31f2aee4e71d21fbe5cf8b01ff0e069b9275f58929596ceb00d14d90e3e16cd6"
   }
  }
 },
 "nbformat": 4,
 "nbformat_minor": 5
}
