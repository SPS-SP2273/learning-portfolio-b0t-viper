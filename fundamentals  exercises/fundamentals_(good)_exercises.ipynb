{
 "cells": [
  {
   "attachments": {},
   "cell_type": "markdown",
   "id": "123456",
   "metadata": {},
   "source": [
    "<div style=\"text-align:left;font-size:2em\"><span style=\"font-weight:bolder;font-size:1.25em\">SP2273 | Learning Portfolio</span><br><br><span style=\"font-weight:bold;color:darkred\">Fundamentals (Good) Exercises</span></div>"
   ]
  },
  {
   "cell_type": "code",
   "execution_count": 1,
   "id": "eda1c8be-f956-45b0-9216-5d512f87f75a",
   "metadata": {},
   "outputs": [
    {
     "name": "stdin",
     "output_type": "stream",
     "text": [
      "Give me a number? 1\n"
     ]
    },
    {
     "name": "stdout",
     "output_type": "stream",
     "text": [
      "You entered 1\n"
     ]
    }
   ],
   "source": [
    "user_input = input('Give me a number?')   \n",
    "print('You entered', user_input)  #This user input here allows the user to input a number so that we can collect the inputted number.\n",
    "                                  # I guess it can be used for info collection such as surveys and stuff."
   ]
  },
  {
   "cell_type": "markdown",
   "id": "d930d05a-0687-49d2-baf2-2e62a2dba254",
   "metadata": {},
   "source": [
    "- Below is my first attempt, it has a problem though: I cannot give a response when the user input a string."
   ]
  },
  {
   "cell_type": "code",
   "execution_count": 2,
   "id": "5dd5443b-c1f2-4a21-9e2d-3dafa818129f",
   "metadata": {},
   "outputs": [
    {
     "name": "stdin",
     "output_type": "stream",
     "text": [
      "Your grade? 10\n"
     ]
    },
    {
     "name": "stdout",
     "output_type": "stream",
     "text": [
      "10 is a/an Fail grade\n"
     ]
    }
   ],
   "source": [
    "grade = input('Your grade?')\n",
    "user_input= int(grade)\n",
    "if 70<=user_input<=100 :\n",
    "    print(grade, 'is a/an A grade')\n",
    "elif 50<=user_input<=69 :\n",
    "    print(grade, 'is a/an B grade')\n",
    "elif 35<=user_input<=49 :\n",
    "    print(grade, 'is a/an C grade')\n",
    "elif 0<=user_input<=34 :\n",
    "    print(grade, 'is a/an Fail grade')\n",
    "else :\n",
    "    print('Please check and input your correct numerical grade')      "
   ]
  },
  {
   "cell_type": "code",
   "execution_count": 4,
   "id": "cebb66f9-c4de-42d7-9e98-9a4877c791b3",
   "metadata": {},
   "outputs": [
    {
     "name": "stdin",
     "output_type": "stream",
     "text": [
      "Your grade? 1000\n"
     ]
    },
    {
     "name": "stdout",
     "output_type": "stream",
     "text": [
      "Please check and input your correct numerical grade\n"
     ]
    }
   ],
   "source": [
    "grade= input('Your grade?')\n",
    "try:                           # Here I use try to have a condition. If this condition is not fulfilled (if grade inputted is a string)\n",
    "    user_input = int(grade)    # it will go to except and rint whatever is under except.\n",
    "    if 70<=user_input<=100 :\n",
    "        print(grade, 'is a/an A grade')\n",
    "    elif 50<=user_input<=69 :\n",
    "        print(grade, 'is a/an B grade')\n",
    "    elif 35<=user_input<=49 :\n",
    "        print(grade, 'is a/an C grade')\n",
    "    elif 0<=user_input<=34 :\n",
    "        print(grade, 'is a/an Fail grade')\n",
    "    else :\n",
    "        print('Please check and input your correct numerical grade') \n",
    "except: \n",
    "    print('Please enter a numeric grade')\n",
    "    "
   ]
  }
 ],
 "metadata": {
  "kernelspec": {
   "display_name": "Python 3 (ipykernel)",
   "language": "python",
   "name": "python3"
  },
  "language_info": {
   "codemirror_mode": {
    "name": "ipython",
    "version": 3
   },
   "file_extension": ".py",
   "mimetype": "text/x-python",
   "name": "python",
   "nbconvert_exporter": "python",
   "pygments_lexer": "ipython3",
   "version": "3.12.1"
  },
  "toc": {
   "base_numbering": 1,
   "nav_menu": {},
   "number_sections": true,
   "sideBar": true,
   "skip_h1_title": false,
   "title_cell": "Table of Contents",
   "title_sidebar": "Contents",
   "toc_cell": false,
   "toc_position": {},
   "toc_section_display": true,
   "toc_window_display": false
  },
  "vscode": {
   "interpreter": {
    "hash": "31f2aee4e71d21fbe5cf8b01ff0e069b9275f58929596ceb00d14d90e3e16cd6"
   }
  }
 },
 "nbformat": 4,
 "nbformat_minor": 5
}
