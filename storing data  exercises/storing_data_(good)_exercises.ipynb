{
 "cells": [
  {
   "attachments": {},
   "cell_type": "markdown",
   "id": "123456",
   "metadata": {},
   "source": [
    "<div style=\"text-align:left;font-size:2em\"><span style=\"font-weight:bolder;font-size:1.25em\">SP2273 | Learning Portfolio</span><br><br><span style=\"font-weight:bold;color:darkred\">Storing Data (Good) Exercises</span></div>"
   ]
  },
  {
   "cell_type": "markdown",
   "id": "176df4b2-0e05-41ab-9e94-1c6773747ba0",
   "metadata": {},
   "source": [
    "## **Exercise 1**"
   ]
  },
  {
   "cell_type": "markdown",
   "id": "0561f7a4-548a-421b-9393-9ac823b44926",
   "metadata": {},
   "source": [
    "|Term\t|Brief description|\n",
    "|--------|---------------|\n",
    "|Subsetting\t|Extracting some of the elemts from list/array|\n",
    "|Indexing|Extracting elements using zero index|\n",
    "|Slicing|After indexing, you can give further filter to slice the data even more.|\t\n",
    "|Masking|Arrays functions only. Can be used to subset a group of elements that fulfil a condition(>/<).|\t"
   ]
  },
  {
   "cell_type": "markdown",
   "id": "d0bc8980-ab61-4298-b2d7-1fe57945319a",
   "metadata": {},
   "source": [
    "## **Exercise 2**"
   ]
  },
  {
   "cell_type": "code",
   "execution_count": 1,
   "id": "303b06e4-45ef-44f4-9633-359d94ed054f",
   "metadata": {},
   "outputs": [],
   "source": [
    "import numpy as np\n",
    "np_array_2d = np.array([[1, \"A\"], [3, \"C\"], [2, \"B\"], [4, \"D\"],\n",
    "                        [5, \"E\"], [7, \"G\"], [6, \"F\"], [8, \"H\"],\n",
    "                        [10, \"J\"], [9, \"I\"]])\n",
    "First_element=np_array_2d[:,0]   # we subset all first element first."
   ]
  },
  {
   "cell_type": "code",
   "execution_count": 2,
   "id": "fa7fac70-e91c-4a24-a5f5-972d853d00b3",
   "metadata": {},
   "outputs": [],
   "source": [
    "x=First_element.astype(int) # We convert everything to  an integer first."
   ]
  },
  {
   "cell_type": "code",
   "execution_count": 3,
   "id": "6d478874-c2fb-49cc-b0a6-5b35d1836721",
   "metadata": {},
   "outputs": [],
   "source": [
    "y=(x%2)  # we get the remainder for division by 2"
   ]
  },
  {
   "cell_type": "code",
   "execution_count": 4,
   "id": "53e33631-f790-4c5c-9924-4d4ae92f661e",
   "metadata": {},
   "outputs": [],
   "source": [
    "z= (y == 1)  # get a true false statement byt masking and asking a question"
   ]
  },
  {
   "cell_type": "code",
   "execution_count": 11,
   "id": "117f638c-1234-404e-9712-d1467b17630a",
   "metadata": {},
   "outputs": [
    {
     "data": {
      "text/plain": [
       "array(['A', 'C', 'E', 'G', 'I'], dtype='<U11')"
      ]
     },
     "execution_count": 11,
     "metadata": {},
     "output_type": "execute_result"
    }
   ],
   "source": [
    "np_array_2d[z][:,1] # we use mask to extract the true"
   ]
  }
 ],
 "metadata": {
  "kernelspec": {
   "display_name": "Python 3 (ipykernel)",
   "language": "python",
   "name": "python3"
  },
  "language_info": {
   "codemirror_mode": {
    "name": "ipython",
    "version": 3
   },
   "file_extension": ".py",
   "mimetype": "text/x-python",
   "name": "python",
   "nbconvert_exporter": "python",
   "pygments_lexer": "ipython3",
   "version": "3.12.1"
  },
  "toc": {
   "base_numbering": 1,
   "nav_menu": {},
   "number_sections": true,
   "sideBar": true,
   "skip_h1_title": false,
   "title_cell": "Table of Contents",
   "title_sidebar": "Contents",
   "toc_cell": false,
   "toc_position": {},
   "toc_section_display": true,
   "toc_window_display": false
  },
  "vscode": {
   "interpreter": {
    "hash": "31f2aee4e71d21fbe5cf8b01ff0e069b9275f58929596ceb00d14d90e3e16cd6"
   }
  }
 },
 "nbformat": 4,
 "nbformat_minor": 5
}
