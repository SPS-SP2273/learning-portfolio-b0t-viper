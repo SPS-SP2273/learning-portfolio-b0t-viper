{
 "cells": [
  {
   "attachments": {},
   "cell_type": "markdown",
   "id": "123456",
   "metadata": {},
   "source": [
    "<div style=\"text-align:left;font-size:2em\"><span style=\"font-weight:bolder;font-size:1.25em\">SP2273 | Learning Portfolio</span><br><br><span style=\"font-weight:bold;color:darkred\">Storing Data (Need) Exercises</span></div>"
   ]
  },
  {
   "cell_type": "markdown",
   "id": "9ea03fe3-e19b-44a5-954c-62ef46d83c98",
   "metadata": {},
   "source": [
    "## **Exercise 1**"
   ]
  },
  {
   "cell_type": "markdown",
   "id": "790a19eb-eaae-468f-b0b0-904174603fdd",
   "metadata": {},
   "source": [
    "- Two similarities between lists and arrays\n",
    "    1. Both can be used to store info and they follow zero index.\n",
    "    2. Many functions such as len(), max(), sum(), min() works on both list and array.\n",
    "- Two differences between lists and arrays.\n",
    "    1. List can store multiple data types together whereas array must store same type.\n",
    "    2. List cannot do most mathematical stuff such as adding number and squaring but array can.\n",
    "- What is a dictionary?\r",
    "    - dictionary is a storage of key and values. Keys are associated with their own values.\n"
   ]
  },
  {
   "cell_type": "markdown",
   "id": "b552e485-c9ed-4d5c-b477-72847906e588",
   "metadata": {},
   "source": [
    "## **Exercise 2**"
   ]
  },
  {
   "cell_type": "code",
   "execution_count": 3,
   "id": "365f02a5-b371-49b2-92a2-717ed6c3aac6",
   "metadata": {},
   "outputs": [
    {
     "name": "stdout",
     "output_type": "stream",
     "text": [
      "a1\n",
      "c3\n",
      "e5\n",
      "g7\n",
      "i9\n"
     ]
    }
   ],
   "source": [
    "py_list = [\"a1\", \"b2\", \"c3\", \"d4\", \"e5\", \"f6\", \"g7\", \"h8\", \"i9\", \"j10\"]\n",
    "print(py_list[0])                    # Prints 'a1'\n",
    "print(py_list[2])                    # Prints 'c3'\n",
    "print(py_list[4])                    # Prints 'e5'\n",
    "print(py_list[6])                   # Prints 'g7'\n",
    "print(py_list[8])   # Prints 'i9'"
   ]
  },
  {
   "cell_type": "markdown",
   "id": "750581c3-b67b-4fb1-9934-0b5e9d9747bb",
   "metadata": {},
   "source": [
    "## **Exercise 3**"
   ]
  },
  {
   "cell_type": "code",
   "execution_count": 5,
   "id": "dda49c82-9e7b-4345-af17-db2f43a8b160",
   "metadata": {},
   "outputs": [],
   "source": [
    "elements = ['Hydrogen',\n",
    "            'Helium', 'Lithium',\n",
    "            'Beryllium', 'Boron', 'Carbon',\n",
    "            'Nitrogen', 'Oxygen',\n",
    "            'Fluorine',\n",
    "            'Neon']"
   ]
  },
  {
   "cell_type": "code",
   "execution_count": 6,
   "id": "682dbdd9-5b23-40fe-9439-d611a5dfcb01",
   "metadata": {},
   "outputs": [
    {
     "name": "stdout",
     "output_type": "stream",
     "text": [
      "Boron\n"
     ]
    }
   ],
   "source": [
    "print(elements[4])"
   ]
  },
  {
   "cell_type": "code",
   "execution_count": 7,
   "id": "3af13d92-3681-4dee-8137-a348ef8dd843",
   "metadata": {},
   "outputs": [
    {
     "name": "stdout",
     "output_type": "stream",
     "text": [
      "Boron\n"
     ]
    }
   ],
   "source": [
    "print(elements[-6])"
   ]
  },
  {
   "cell_type": "markdown",
   "id": "3adb61f8-4041-4d33-9fef-1b6854f1f052",
   "metadata": {},
   "source": [
    "## **Exercise 4**"
   ]
  },
  {
   "cell_type": "code",
   "execution_count": 14,
   "id": "82618b5e-4446-4460-a89a-7ba0f713ce25",
   "metadata": {},
   "outputs": [
    {
     "data": {
      "text/plain": [
       "9"
      ]
     },
     "execution_count": 14,
     "metadata": {},
     "output_type": "execute_result"
    }
   ],
   "source": [
    "numbers=[45, 60, 1, 30, 96, 1, 96, 57, 16, 1,\n",
    "        99, 62, 86, 43, 42, 60, 59, 1, 1, 35,\n",
    "        83, 47, 34, 28, 68, 23, 22, 92, 1, 79,\n",
    "        1, 29, 94, 72, 46, 47, 1, 74, 32, 20,\n",
    "        8, 37, 35, 1, 89, 29, 86, 19, 43, 61]   \n",
    "import numpy as np\n",
    "array=np.array(numbers)\n",
    "sum(array == 1)"
   ]
  }
 ],
 "metadata": {
  "kernelspec": {
   "display_name": "Python 3 (ipykernel)",
   "language": "python",
   "name": "python3"
  },
  "language_info": {
   "codemirror_mode": {
    "name": "ipython",
    "version": 3
   },
   "file_extension": ".py",
   "mimetype": "text/x-python",
   "name": "python",
   "nbconvert_exporter": "python",
   "pygments_lexer": "ipython3",
   "version": "3.12.1"
  },
  "toc": {
   "base_numbering": 1,
   "nav_menu": {},
   "number_sections": true,
   "sideBar": true,
   "skip_h1_title": false,
   "title_cell": "Table of Contents",
   "title_sidebar": "Contents",
   "toc_cell": false,
   "toc_position": {},
   "toc_section_display": true,
   "toc_window_display": false
  },
  "vscode": {
   "interpreter": {
    "hash": "31f2aee4e71d21fbe5cf8b01ff0e069b9275f58929596ceb00d14d90e3e16cd6"
   }
  }
 },
 "nbformat": 4,
 "nbformat_minor": 5
}
