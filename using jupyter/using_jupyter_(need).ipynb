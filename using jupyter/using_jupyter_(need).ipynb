{
 "cells": [
  {
   "attachments": {},
   "cell_type": "markdown",
   "id": "123456",
   "metadata": {},
   "source": [
    "<div style=\"text-align:left;font-size:2em\"><span style=\"font-weight:bolder;font-size:1.25em\">SP2273 | Learning Portfolio</span><br><br><span style=\"font-weight:bold;color:darkred\">Using Jupyter (Need)</span></div>"
   ]
  },
  {
   "attachments": {},
   "cell_type": "markdown",
   "id": "551313f6",
   "metadata": {},
   "source": [
    "# 1 What to expect in this chapter\n",
    "\n",
    "This chapter teaches us how to use jupyter notebook to have interactions with python. It also teaches us some easy codes to be used in a markdown cell."
   ]
  },
  {
   "attachments": {},
   "cell_type": "markdown",
   "id": "4e6025db",
   "metadata": {},
   "source": [
    "# 2 Getting ready\n",
    "\n",
    "Turn on **anaconda/terminal** and type in **'jupyter notebook'** and press 'enter' key. This allow jupyter notebook to be turned on. Browse through 'documents' and 'Github' to locate the learning portfolio.\n",
    "\n",
    "Create a new notebook with 'python 3 (ipykernel)' function selected. Rename the notebook with the project name you are doing by clicking 'untitled' at the top of the screen."
   ]
  },
  {
   "attachments": {},
   "cell_type": "markdown",
   "id": "82a07afa",
   "metadata": {},
   "source": [
    "# 3 Getting started with Jupyter\n",
    "\n"
   ]
  },
  {
   "attachments": {},
   "cell_type": "markdown",
   "id": "9020d575",
   "metadata": {},
   "source": [
    "## 3.1 It is all about running cell\n",
    "\n",
    "In a cell, we can select whether we want a code cell or a markdown cell at the top bar of the notebook. A cell ready to accept **Python** is called a code cell, while one ready for **Markdown** is called a Markdown cell. In order to run a cell, press **crtl+enter**. A cell can also be run by pressing the button run as shown below.\n",
    "\n",
    "![](https://problemsolvingwithpython.com/02-Jupyter-Notebooks/images/run_cell.png)\n",
    "\n",
    "Running a code cell will allow python to start working and processing codes.\n",
    "\n",
    "Running a markdown cell will read and present the text we typed in a prettier manner."
   ]
  },
  {
   "attachments": {},
   "cell_type": "markdown",
   "id": "e10a7302",
   "metadata": {},
   "source": [
    "## 3.2 A traditional start\n",
    "\n",
    "1. select a cell and convert it into a code cell.\n",
    "2. Type `print('Hello world!')` Note that `print( )` is a function and the format must be print with two brackets. Within the brackets, we write what we want to print within the `' '`. Python will read our command and carry out the instructions given to print the words we write within the `' '`. In this case, Hello world! will be printed.\n",
    "3. Run the cell and see how hello world is printed. Notice that on the left side on the cell the number changes. It keeps track of the history of commands we have issued.\n",
    "\n",
    "![](https://problemsolvingwithpython.com/02-Jupyter-Notebooks/images/code_cell.png)"
   ]
  },
  {
   "attachments": {},
   "cell_type": "markdown",
   "id": "61cf1b23",
   "metadata": {},
   "source": [
    "# 4 All about Markdown\n",
    "\n",
    "Markdown is a language that help us to format our writing. It is very similar to microsoft word. But in a much easier way as we format our writings using codes."
   ]
  },
  {
   "attachments": {},
   "cell_type": "markdown",
   "id": "2b32a801",
   "metadata": {},
   "source": [
    "## 4.1 Rendering Markdown cells\n",
    "\n",
    "1. Select a cell and convert it into markdown cell.\n",
    "2. Write whatever you need inside.\n",
    "3. Run the cell and we can see our writing being presented in a neat manner.\n",
    "\n",
    "Example: The ships hung in the sky in much the same way that bricks don’t."
   ]
  },
  {
   "attachments": {},
   "cell_type": "markdown",
   "id": "0a8a2ef3",
   "metadata": {},
   "source": [
    "## 4.2 Some basic syntax\n",
    "\n",
    "Simimlar to microsoft word, if we want to bold or do any formatting to our writing, we need to use syntax. The following syntaxes are the ones used the most by myself (There are other ways to do it but these syntaxes are my preferences)\n",
    "\n",
    "| Style     |   Syntax     |\n",
    "|:----------|--------:     |\n",
    "|    Bold   |`** **`|    \n",
    "| Italic | `* *` |\n",
    "| Bold and italic|`*** ***`|\n",
    "|Subscript|`<sub> </sub>`|\n",
    "|Superscript|`<sup> </sup>`|\n",
    "\n",
    "Hence, we can text `The ships *hung in the sky* in much the same way that **bricks don’t.**<sup>1</sup><sub>QUOTE</sub>`\n",
    "\n",
    "It gives us: The ships *hung in the sky* in much the same way that **bricks don’t.**<sup>1</sup><sub>QUOTE</sub>\n",
    "\n",
    "Note that I often make some **common mistakes**:\n",
    "1. Note that there should be no space in between the `** and the words we want to bold`.\n",
    "\n",
    "   `**Bold**` gives us **Bold** whereas `** Bold **` gives us ** Bold **\n",
    "\n",
    "2. Note that superscript and subscript both use '`/`' as their syntax. It is commonly mistaken with '`\\`'."
   ]
  },
  {
   "attachments": {},
   "cell_type": "markdown",
   "id": "1e812a1f",
   "metadata": {},
   "source": [
    "## 4.3 Headings\n",
    "\n",
    "Markdown uses # for headings as follows.\n",
    "\r\n",
    "`#` + heading gives the largest heading\n",
    "\n",
    "`##` + heading gives second largest\n",
    "\n",
    "`###` + heading gives third largest\n",
    "\n",
    "`####` + heading gives smallesta\n",
    "llest\n",
    "\n",
    "Extra things to note:\n",
    "1. There must be a space between `#` and your heaOtherwise it would not recognise as headings.\n",
    "   \n",
    "3. If your want to bold the headings, make sure to place the `** **` after the `#`.     eading"
   ]
  },
  {
   "attachments": {},
   "cell_type": "markdown",
   "id": "6d7cf275",
   "metadata": {},
   "source": [
    "## 4.4 Displaying Code\n",
    "\n",
    "If we want to display codes, simply place the code into (`) brackets. For example, we can type print('Hello') and it will show \n",
    "\n",
    "`print(hello)`\n"
   ]
  },
  {
   "attachments": {},
   "cell_type": "markdown",
   "id": "d8d9c7b0",
   "metadata": {},
   "source": [
    "## 4.5 Links\n",
    "\n",
    "To creat hyperlinks, we place the linking material inside [] and place the hyperlink into (). Make sure there is no space between [] and ().\n",
    "\n",
    "For example, `[SP2273](link)` will give us [SP2273](https://sps.nus.edu.sg/sp2273/docs/python_basics/01_using_jupyter/1_using-jupyter_need.html)\n",
    "\n",
    "The link must be in full, which means it must contain `https://`"
   ]
  },
  {
   "attachments": {},
   "cell_type": "markdown",
   "id": "ecbdd540",
   "metadata": {},
   "source": [
    "## 4.6 Images\n",
    "\n",
    "Inserting images follow a similar logic to links. We place the image we want to display inside [ ] and place the image link inside ().\n",
    "\n",
    "The difference is that we have to add an **!** in front of the [ ] and we shall leave inside the [ ] empty.\n",
    "\n",
    "`![](image link)`\n",
    "\n"
   ]
  },
  {
   "cell_type": "markdown",
   "id": "99080694-258b-4809-b7cd-00b028aa8163",
   "metadata": {},
   "source": [
    "## 4.7 Tables\n",
    "\n",
    "Markdown following syntax to create tables:\r",
    "```\n",
    "\r\n",
    "| A    |  B   |    C |\r\n",
    "| :--- | :--: | ---: |\r\n",
    "| a1   |  b1  |   c1 |\r\n",
    "| a2   |  b2  |   c2 |\r\n",
    "| a3   |  b3  |   c3 |"
   ]
  },
  {
   "cell_type": "markdown",
   "id": "60349113-b83a-47b9-a186-ab6889785afd",
   "metadata": {},
   "source": [
    "This will render as:\n",
    "\n",
    "| A    |  B   |    C |\r\n",
    "| :--- | :--: | ---: |\r\n",
    "| a1   |  b1  |   c1 |\r\n",
    "| a2   |  b2  |   c2 |\r\n",
    "| a3   |  b3  |   c3 |"
   ]
  },
  {
   "cell_type": "markdown",
   "id": "eabbf844-c3e0-4916-8afa-5b98bd228a52",
   "metadata": {},
   "source": [
    "Note that sometimes if the table format is weird, a '$$' can be added to both the front and the back of the table content. This is to create a region for the table so that the table format is much better. (See jupyter notebook exercise (need))"
   ]
  },
  {
   "attachments": {},
   "cell_type": "markdown",
   "id": "9ad6542d",
   "metadata": {},
   "source": [
    "## 4.8 Lists\n",
    "\n",
    "For listing with numbers, following format can be taken:\n",
    "\n",
    "1.First\n",
    "\n",
    "2.Second\n",
    " \n",
    "3.Third\n",
    "\n",
    "This will render as \n",
    "\n"
   ]
  },
  {
   "cell_type": "markdown",
   "id": "51268d0f-5566-4024-be9b-4fed0321473e",
   "metadata": {},
   "source": [
    "1. first\n",
    "2. second\n",
    "3. third"
   ]
  },
  {
   "cell_type": "markdown",
   "id": "64296fba-e9fc-4541-ba6e-002d405e8a29",
   "metadata": {},
   "source": [
    "For unnumbered, simply change the number in front into a '-'\n",
    "it renders as \n"
   ]
  },
  {
   "cell_type": "markdown",
   "id": "43985f9d-26bc-414a-a602-33ad81b94fef",
   "metadata": {},
   "source": [
    "- first\n",
    "- second\n",
    "- third"
   ]
  },
  {
   "cell_type": "markdown",
   "id": "d4b1c031-a139-4577-aa12-f47d9afd4b8a",
   "metadata": {},
   "source": [
    "We can combine numbered and unnumbered listing as follows:\n",
    "\n",
    "1. First\n",
    "   1. What is under first\n",
    "      - what is under A\n",
    "   "
   ]
  },
  {
   "attachments": {},
   "cell_type": "markdown",
   "id": "e1be9b13",
   "metadata": {},
   "source": [
    "## 4.9 Equations\n",
    "\n",
    "If we want to add in text equations, we exclose the equation with '`$ $`'. Such as `$\\sqrt{b^2-4ac}$` will render as $\\sqrt{b^2-4ac}$.\n",
    "\n",
    "If we want to add an equation as a math block, we eclose the equation with '`$$ $$`'. Such as `$$\\sqrt{b^2-4ac}$$` will render as $$\\sqrt{b^2-4ac}$$\n"
   ]
  },
  {
   "cell_type": "markdown",
   "id": "c052a123-8925-49f3-87f8-fcb4cbcff34f",
   "metadata": {},
   "source": [
    "To understand the logic of the equation syntax, we must know that each sign start with a `\\`.When we see `\\`, we should read it as a sign. Whatever that is included within the sign is usually enclosed by `{ }`.\n",
    "\n",
    "For example:\n",
    "\n",
    "||input |render|\n",
    "|:---|---|---:|\n",
    "|fraction|`$\\dfrac{y}{x}$`|$\\dfrac{y}{x}$|\n",
    "|subscript|`$x_{a}$`|$x_{a}$|\n",
    "|power|\t`$x^{(y+z)}$`|\t$x^{(y+z)}$|\n",
    "|squareroot|`$\\sqrt{a+b+c}$`|$\\sqrt{a+b+c}$|\n",
    "|sum|`$\\sum_{n=1}^{n=\\infty} x_n$`|$\\sum_{n=1}^{n=\\infty} x_n$|\n",
    "|integral|`$\\int_{x=1}^{x=\\infty} f(x)dx$`|$\\int_{x=1}^{x=\\infty} f(x)dx$|\n",
    "|Not equal|`$a \\ne b$`|$a \\ne b$|\n",
    "|Less than|`$a \\lt b$|\t$a \\lt b$|\n",
    "|Less than or euqal to|`$a \\leq b$`|$a \\leq b$|\n",
    "|greater than|`$a \\gt b$`|\t$a \\gt b$|\n",
    "|greater than or equal to|`$a \\geq b$`|$a \\geq b$|\n",
    "|greak letters|`$\\alpha, \\beta, \\gamma, \\pi, \\lambda$`|$\\alpha, \\beta, \\gamma, \\pi, \\lambda$|\n",
    "|delta|`&\\Delta&`|$\\Delta$|\n",
    "|plus minus|`$\\pm$`|$\\pm$|\n"
   ]
  },
  {
   "cell_type": "markdown",
   "id": "8619b321-4d96-496f-96a2-860c5c110d6d",
   "metadata": {},
   "source": [
    "The list is still ongoing and as I know more, i will be adding into this list.\n",
    "\n",
    ":)"
   ]
  },
  {
   "attachments": {},
   "cell_type": "markdown",
   "id": "2324464f",
   "metadata": {},
   "source": [
    "## Footnotes\n",
    "\n",
    "# **I HATE WINDOWS**"
   ]
  }
 ],
 "metadata": {
  "kernelspec": {
   "display_name": "Python 3 (ipykernel)",
   "language": "python",
   "name": "python3"
  },
  "language_info": {
   "codemirror_mode": {
    "name": "ipython",
    "version": 3
   },
   "file_extension": ".py",
   "mimetype": "text/x-python",
   "name": "python",
   "nbconvert_exporter": "python",
   "pygments_lexer": "ipython3",
   "version": "3.12.1"
  },
  "toc": {
   "base_numbering": 1,
   "nav_menu": {},
   "number_sections": true,
   "sideBar": true,
   "skip_h1_title": false,
   "title_cell": "Table of Contents",
   "title_sidebar": "Contents",
   "toc_cell": false,
   "toc_position": {},
   "toc_section_display": true,
   "toc_window_display": false
  },
  "vscode": {
   "interpreter": {
    "hash": "31f2aee4e71d21fbe5cf8b01ff0e069b9275f58929596ceb00d14d90e3e16cd6"
   }
  }
 },
 "nbformat": 4,
 "nbformat_minor": 5
}
