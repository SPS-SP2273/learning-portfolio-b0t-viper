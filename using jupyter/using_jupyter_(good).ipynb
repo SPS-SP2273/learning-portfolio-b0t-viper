{
 "cells": [
  {
   "attachments": {},
   "cell_type": "markdown",
   "id": "123456",
   "metadata": {},
   "source": [
    "<div style=\"text-align:left;font-size:2em\"><span style=\"font-weight:bolder;font-size:1.25em\">SP2273 | Learning Portfolio</span><br><br><span style=\"font-weight:bold;color:darkred\">Using Jupyter (Good)</span></div>"
   ]
  },
  {
   "attachments": {},
   "cell_type": "markdown",
   "id": "f1329747",
   "metadata": {},
   "source": [
    "# What to expect in this chapter\n",
    "\n",
    "Many easy ways to write and organise our notebook will be taught in this chapter. Including a lot of shortcut keys and problem solving skills."
   ]
  },
  {
   "attachments": {},
   "cell_type": "markdown",
   "id": "adaaebd5",
   "metadata": {},
   "source": [
    "# 1 Some tips and tricks\n"
   ]
  },
  {
   "attachments": {},
   "cell_type": "markdown",
   "id": "70d9d67e",
   "metadata": {},
   "source": [
    "## 1.1 Keyboard Shortcuts\n",
    "\n",
    "The listed shorcuts below and sequenced from my most used to the least used shortcut.\n",
    "\n"
   ]
  },
  {
   "cell_type": "markdown",
   "id": "2253ac7c-224b-496d-92bb-fd90649c14fc",
   "metadata": {},
   "source": [
    "|     Action     | Shortcut |\n",
    "|:------------|-----------:|\n",
    "|Run cell|`crtl + enter`|\n",
    "|Run cell and move to the next|`SHIFT + ENTER`|\n",
    "|Create new cell above|`ESC + A`|\n",
    "|Create new cell below|`ESC + B`|\n",
    "|Copy cell(s)|`ESC + C`|\n",
    "|Paste cell(s)|`Esc + V`|\n",
    "|Merge cells|`Shift + M`|\n",
    "|Delete cells|`Shift + D + D`|\n",
    "|Convert to code|`Esc + Y`|\n",
    "|Convert to markdown|`Esc + M`|\n",
    "|Show shortcut|`Esc + H`|+ D\n"
   ]
  },
  {
   "cell_type": "markdown",
   "id": "8ede15cc-ed7d-4eea-a2e2-112ed331a21a",
   "metadata": {},
   "source": [
    "ESC puts jupyter notebook under command mode, hence allowing shotcuts."
   ]
  },
  {
   "attachments": {},
   "cell_type": "markdown",
   "id": "b167f24c",
   "metadata": {},
   "source": [
    "### Things to note"
   ]
  },
  {
   "cell_type": "markdown",
   "id": "9f0c191a-acde-4249-a706-3d83042ea5f1",
   "metadata": {},
   "source": [
    "\n",
    "- You can select one or more cells using **SHIFT** and the up and down arrow keys.\r",
    "- \n",
    "Be careful with the delete shortcut; it can be ruthless **(Just don't use shortcut to delete in case screwed up :))**\n",
    "- \r\n",
    "You can view (and set) shortcuts for Jupyter Notebooks by typing ESC + H.\n"
   ]
  },
  {
   "attachments": {},
   "cell_type": "markdown",
   "id": "f0089057",
   "metadata": {},
   "source": [
    "## 1.2 Shell commands"
   ]
  },
  {
   "cell_type": "markdown",
   "id": "8635f9a8-63e3-4ca9-ba2d-2965596aff2d",
   "metadata": {},
   "source": [
    "This is to use jupyter notebook to key in commands without needing to turn the terminal on.\n",
    "For windows, simply **add a '!'** in front of the commands.\n",
    "\n",
    "For example: `!cd`  is to print the current work directory.\n",
    "\n",
    "As I encounter anything useful, I will be adding to this list."
   ]
  },
  {
   "attachments": {},
   "cell_type": "markdown",
   "id": "aaba99ad",
   "metadata": {},
   "source": [
    "# 2 Jupyter Extensions"
   ]
  },
  {
   "attachments": {},
   "cell_type": "markdown",
   "id": "e9b812d0",
   "metadata": {},
   "source": [
    "## 2.1 Installing the extensions"
   ]
  },
  {
   "cell_type": "markdown",
   "id": "1b2d86e9-99de-44f6-9328-2807701c1af2",
   "metadata": {},
   "source": [
    "You can add several useful features (e.g., code formatting, TOC, equation numbers) to your Jupyter notebooks by installing jupyter_contrib_nbextensions\n",
    "\n",
    "You can do this in the terminal by invoking the following.below."
   ]
  },
  {
   "cell_type": "markdown",
   "id": "b4b594dd-8c6e-4f20-ab3e-558280ef0884",
   "metadata": {},
   "source": [
    "`conda install -c conda-forge jupyter_contrib_nbextensions`"
   ]
  },
  {
   "cell_type": "markdown",
   "id": "0244f7e1-3a44-40d2-b9ca-af402a1023f2",
   "metadata": {},
   "source": [
    "`jupyter contrib nbextension install --user`"
   ]
  },
  {
   "cell_type": "markdown",
   "id": "4900da64-8657-4a6e-9374-88147a4447ec",
   "metadata": {},
   "source": [
    "Once you have finished installing, log out and restart Jupyter. You will then see a new tab, as shown in the image below.\n",
    "\n",
    "![](https://miro.medium.com/max/720/1*tCkHDuA_zT1j17VA3tybQg.webp)"
   ]
  },
  {
   "attachments": {},
   "cell_type": "markdown",
   "id": "d06c2a29",
   "metadata": {},
   "source": [
    "## 2.2 Enabling the extensions"
   ]
  },
  {
   "cell_type": "markdown",
   "id": "81660e75-6108-4e7c-9b38-beee8ac358b3",
   "metadata": {},
   "source": [
    "You will also see details of what each extension does by clicking on the name in the list. Finally, you can enable them simply by checking the box on the list. Here are some of the extensions I recommend.ariable.ariable."
   ]
  },
  {
   "cell_type": "markdown",
   "id": "e95ac3fb-d4f1-4b11-beeb-2699dddf6355",
   "metadata": {},
   "source": [
    "```\n",
    "Equation Auto Numbering\n",
    "Table of Contents (2)\n",
    "Variable Inspector\n",
    "Code folding\n",
    "Autopep8\n",
    "```"
   ]
  },
  {
   "cell_type": "markdown",
   "id": "02bb17d4-8394-4d31-ac83-33e7610a4fbc",
   "metadata": {},
   "source": [
    "You must install the package **autopep8** using conda for this to work."
   ]
  },
  {
   "attachments": {},
   "cell_type": "markdown",
   "id": "6cd84057",
   "metadata": {},
   "source": [
    "# 3 Shell Magic"
   ]
  },
  {
   "cell_type": "markdown",
   "id": "1a729321-a77b-4821-856a-ec18d7488dc3",
   "metadata": {},
   "source": [
    "There are certain interesting majic commands, I will be adding more commands as I know more into this list."
   ]
  },
  {
   "cell_type": "markdown",
   "id": "613dea2f-1b58-4561-9f53-bdd950a6f650",
   "metadata": {},
   "source": [
    "`%timeit x=10`"
   ]
  },
  {
   "cell_type": "markdown",
   "id": "9bbc1d4d-2e2f-490e-bb01-eef95003efa9",
   "metadata": {},
   "source": [
    "This will run for a while and then tell you statistics on how long the command takes to execute. The above is called **line magic** because it works (i.e., does the timing in this case) for only **a single line**. If you want to apply it to a whole cell, we will use the cell magic command `%%timeit`."
   ]
  },
  {
   "cell_type": "markdown",
   "id": "547e9fac-8f85-40b5-be6e-fe76064c60eb",
   "metadata": {},
   "source": [
    "```\n",
    "%%timeit \n",
    "x=10\n",
    "y=10\n",
    "z=10\n",
    "```"
   ]
  },
  {
   "attachments": {},
   "cell_type": "markdown",
   "id": "f6caf401",
   "metadata": {},
   "source": [
    "# 4 The Kernel"
   ]
  },
  {
   "cell_type": "markdown",
   "id": "363016ab-c7ea-47b2-b4a8-20b86e036524",
   "metadata": {},
   "source": [
    "A lot of times we may mess up certain functions in python. Or python simply have certain problems.\n",
    "\n",
    "We can **restart or interrupt the kernel** so that python works correctly again.\n",
    "\n",
    "(Check jupytrer notbook exercise (good) for an example)"
   ]
  },
  {
   "attachments": {},
   "cell_type": "markdown",
   "id": "f9c61ccb",
   "metadata": {},
   "source": [
    "# 5 EX"
   ]
  }
 ],
 "metadata": {
  "kernelspec": {
   "display_name": "Python 3 (ipykernel)",
   "language": "python",
   "name": "python3"
  },
  "language_info": {
   "codemirror_mode": {
    "name": "ipython",
    "version": 3
   },
   "file_extension": ".py",
   "mimetype": "text/x-python",
   "name": "python",
   "nbconvert_exporter": "python",
   "pygments_lexer": "ipython3",
   "version": "3.12.1"
  },
  "toc": {
   "base_numbering": 1,
   "nav_menu": {},
   "number_sections": true,
   "sideBar": true,
   "skip_h1_title": false,
   "title_cell": "Table of Contents",
   "title_sidebar": "Contents",
   "toc_cell": false,
   "toc_position": {},
   "toc_section_display": true,
   "toc_window_display": false
  },
  "vscode": {
   "interpreter": {
    "hash": "31f2aee4e71d21fbe5cf8b01ff0e069b9275f58929596ceb00d14d90e3e16cd6"
   }
  }
 },
 "nbformat": 4,
 "nbformat_minor": 5
}
