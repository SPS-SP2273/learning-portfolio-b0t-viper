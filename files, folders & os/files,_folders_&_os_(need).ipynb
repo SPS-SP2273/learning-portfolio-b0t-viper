{
 "cells": [
  {
   "attachments": {},
   "cell_type": "markdown",
   "id": "123456",
   "metadata": {},
   "source": [
    "<div style=\"text-align:left;font-size:2em\"><span style=\"font-weight:bolder;font-size:1.25em\">SP2273 | Learning Portfolio</span><br><br><span style=\"font-weight:bold;color:darkred\">Files, Folders & OS (Need)</span></div>"
   ]
  },
  {
   "attachments": {},
   "cell_type": "markdown",
   "id": "c071fbc7",
   "metadata": {},
   "source": [
    "# What to expect in this chapter"
   ]
  },
  {
   "cell_type": "markdown",
   "id": "1efa5a16-5d92-4c0a-8e45-0d3d8939ac2c",
   "metadata": {},
   "source": [
    "There is no choice; you must always interact with your operating system (OS) to get anything done.\n",
    "\n",
    "you must communicate with the OS to create, modify, move, copy, and delete files and directories (folders).\n",
    "\n",
    "This section is devoted to getting you up-to-speed with some Python modules (e.g., os, glob, shutil) that will allow you to execute these necessary actions."
   ]
  },
  {
   "attachments": {},
   "cell_type": "markdown",
   "id": "1b94ef1c",
   "metadata": {},
   "source": [
    "# 1 Important concepts"
   ]
  },
  {
   "cell_type": "markdown",
   "id": "58a23dcc-6a11-49b8-bdab-97de10196fbf",
   "metadata": {},
   "source": [
    "**Folder** and **Directory** is the same thing below."
   ]
  },
  {
   "attachments": {},
   "cell_type": "markdown",
   "id": "10f809b6",
   "metadata": {},
   "source": [
    "## 1.1 Path"
   ]
  },
  {
   "cell_type": "markdown",
   "id": "97b5c691-6fe0-42dd-9a95-846609f163e4",
   "metadata": {},
   "source": [
    "- **path** is simply a way to specify a location on your computer.\n",
    "- if you follow the path, it will take you to your file or folder.\n",
    "- Like specifying location, you can specify your path **absolutely** or **relatively**. "
   ]
  },
  {
   "cell_type": "markdown",
   "id": "c4418801-be51-4f07-90ba-6d08c734ca6f",
   "metadata": {},
   "source": [
    "**Example**: I can specify that SPS is located on level 3 of block S16. However, if I am already on Level 5 of S16, I can say, go two floors down. The former is an absolute path, and the latter is relative."
   ]
  },
  {
   "cell_type": "markdown",
   "id": "8e002468-f34c-4716-b9b5-9fb2914365d1",
   "metadata": {},
   "source": [
    "C:\\\\Users\\Chammika\\Desktop\\data-01.txt    # This is an absolute path to a file"
   ]
  },
  {
   "attachments": {},
   "cell_type": "markdown",
   "id": "4fe96365",
   "metadata": {},
   "source": [
    "## 1.2 More about relative paths"
   ]
  },
  {
   "cell_type": "markdown",
   "id": "6c3a5dc9-12c6-4644-8b92-c7d8bb7c4621",
   "metadata": {},
   "source": [
    "|**Notation**|**Meaning**|\n",
    "|---|---|\n",
    "|`.`|this folder|\n",
    "|`..`|one folder above/up|"
   ]
  },
  {
   "cell_type": "markdown",
   "id": "73a76c33-4487-4070-a0e8-ca86ea2d8c2e",
   "metadata": {},
   "source": [
    "- `.\\data-files\\data-01.txt` means the file `data-01.txt` in the folder `data-files` in the **current** folder.\n",
    "- `..\\data-files\\data-01.txt` means the file `data-01.txt` in the folder `data-files` located **in the folder above**."
   ]
  },
  {
   "attachments": {},
   "cell_type": "markdown",
   "id": "3a4b9ef2",
   "metadata": {},
   "source": [
    "### macOS or Linux"
   ]
  },
  {
   "cell_type": "markdown",
   "id": "27172002-6121-4b13-88f4-6015dace1eb2",
   "metadata": {},
   "source": [
    "macOS and Linux allow you to use ~ to refer to your home directory"
   ]
  },
  {
   "cell_type": "markdown",
   "id": "56c7992b-b3df-4919-9fff-de0fc730d231",
   "metadata": {},
   "source": [
    "I can look for a file in my Desktop using: `~\\Desktop\\data-01.txt`"
   ]
  },
  {
   "attachments": {},
   "cell_type": "markdown",
   "id": "8a63a91d",
   "metadata": {},
   "source": [
    "## 1.3 Path separator"
   ]
  },
  {
   "cell_type": "markdown",
   "id": "eb3986ff-51f2-4e6d-b9fb-013c42645909",
   "metadata": {},
   "source": [
    "**Windows uses `\\` as the path separator while macOS (or Linux) uses `/`**"
   ]
  },
  {
   "cell_type": "markdown",
   "id": "27344154-c309-4dc2-9a3b-a572100771e6",
   "metadata": {},
   "source": [
    "Windows:\t`C:\\\\Users\\chammika\\Desktop\\data-01.txt`\n",
    "\n",
    "macOS (or Linux):\t`/Users/chammika/Desktop/data-01.txt`"
   ]
  },
  {
   "attachments": {},
   "cell_type": "markdown",
   "id": "1748af3b",
   "metadata": {},
   "source": [
    "## 1.4 Text files vs. Binary files"
   ]
  },
  {
   "cell_type": "markdown",
   "id": "57f55bd6-79e7-4a07-8559-8413b95b5c46",
   "metadata": {},
   "source": [
    "All files are either a text or a binary file."
   ]
  },
  {
   "cell_type": "markdown",
   "id": "38ed1921-3238-4306-948b-6755349ee06d",
   "metadata": {},
   "source": [
    "- **text files** are **simple** and can be opened, and their contents examined by almost **any software** (e.g., Notepad, TextEdit, Jupiter,…). Examples of text file formats are `.txt`, `.md` or `.csv`.\n",
    "- **Binary files**, in contrast, require **some processing** to make sense of what they contain.\n",
    "    - some binary files will only run on specific OSs (the Excel.app on a Mac will not run on Windows)\n",
    "    - Some reasons for having binary files are speed and size; text files, though simple, can get bulky."
   ]
  },
  {
   "attachments": {},
   "cell_type": "markdown",
   "id": "b8a5f8a8",
   "metadata": {},
   "source": [
    "## 1.5 Extensions"
   ]
  },
  {
   "cell_type": "markdown",
   "id": "bac13f61-9e8c-4055-87ce-9b4bfd1da054",
   "metadata": {},
   "source": [
    "- Files are usually named to end with **an extension** separated from the name by a `.`"
   ]
  },
  {
   "cell_type": "markdown",
   "id": "eaf3d172-8b33-4ae5-9cae-d652d4834f20",
   "metadata": {},
   "source": [
    "- This extension lets the OS know what software or app to use to extract the details in a file.\n",
    "    - For example, a .xlsx means use Excel or .pptx means use PowerPoint.\n",
    "    - Be careful about changing the extension of a file, as it will make your OS cough and throw a fit."
   ]
  },
  {
   "attachments": {},
   "cell_type": "markdown",
   "id": "7356caa2",
   "metadata": {},
   "source": [
    "# 2 Opening and closing files"
   ]
  },
  {
   "cell_type": "markdown",
   "id": "cbf5b743-852d-493d-83e0-a0f31e0fbd0c",
   "metadata": {},
   "source": [
    "- how we can open a file for reading and writing\n",
    "- how to use the **with** statement (a context manager)"
   ]
  },
  {
   "attachments": {},
   "cell_type": "markdown",
   "id": "f280a30d",
   "metadata": {},
   "source": [
    "## 2.1 Reading data"
   ]
  },
  {
   "cell_type": "code",
   "execution_count": null,
   "id": "57434571-6bb8-4a98-9d68-e0b3aa82a282",
   "metadata": {},
   "outputs": [],
   "source": []
  },
  {
   "attachments": {},
   "cell_type": "markdown",
   "id": "ae2ca198",
   "metadata": {},
   "source": [
    "## 2.2 Writing data"
   ]
  },
  {
   "attachments": {},
   "cell_type": "markdown",
   "id": "01e3a158",
   "metadata": {},
   "source": [
    "### Writing to a file in one go"
   ]
  },
  {
   "cell_type": "code",
   "execution_count": null,
   "id": "b1d528c5",
   "metadata": {},
   "outputs": [],
   "source": [
    "\n",
    "# Your code here\n"
   ]
  },
  {
   "attachments": {},
   "cell_type": "markdown",
   "id": "c5fc077e",
   "metadata": {},
   "source": [
    "### Writing to a file, line by line"
   ]
  },
  {
   "cell_type": "code",
   "execution_count": null,
   "id": "5dfbe856",
   "metadata": {},
   "outputs": [],
   "source": [
    "\n",
    "# Your code here\n"
   ]
  },
  {
   "attachments": {},
   "cell_type": "markdown",
   "id": "00a1c9b9",
   "metadata": {},
   "source": [
    "# 3 Some useful packages"
   ]
  },
  {
   "attachments": {},
   "cell_type": "markdown",
   "id": "34667b7e",
   "metadata": {},
   "source": [
    "# 4 OS safe paths"
   ]
  },
  {
   "attachments": {},
   "cell_type": "markdown",
   "id": "318dc349",
   "metadata": {},
   "source": [
    "# 5 Folders"
   ]
  },
  {
   "attachments": {},
   "cell_type": "markdown",
   "id": "3f7583ba",
   "metadata": {},
   "source": [
    "## 5.1 Creating folders"
   ]
  },
  {
   "attachments": {},
   "cell_type": "markdown",
   "id": "449e9c32",
   "metadata": {},
   "source": [
    "## 5.2 Checking for existence"
   ]
  },
  {
   "attachments": {},
   "cell_type": "markdown",
   "id": "c1f4222e",
   "metadata": {},
   "source": [
    "### Using try-except"
   ]
  },
  {
   "cell_type": "code",
   "execution_count": null,
   "id": "7736df5d",
   "metadata": {},
   "outputs": [],
   "source": [
    "\n",
    "# Your code here\n"
   ]
  },
  {
   "attachments": {},
   "cell_type": "markdown",
   "id": "8b0b52a2",
   "metadata": {},
   "source": [
    "### Using os.path.exists()"
   ]
  },
  {
   "cell_type": "code",
   "execution_count": null,
   "id": "7ba1927a",
   "metadata": {},
   "outputs": [],
   "source": [
    "\n",
    "# Your code here\n"
   ]
  },
  {
   "attachments": {},
   "cell_type": "markdown",
   "id": "ab0e5196",
   "metadata": {},
   "source": [
    "## 5.3 Copying files"
   ]
  },
  {
   "attachments": {},
   "cell_type": "markdown",
   "id": "7b4debef",
   "metadata": {},
   "source": [
    "# 6 Listing and looking for files"
   ]
  },
  {
   "attachments": {},
   "cell_type": "markdown",
   "id": "87560b98",
   "metadata": {},
   "source": [
    "# 7 Extracting file info"
   ]
  },
  {
   "attachments": {},
   "cell_type": "markdown",
   "id": "4572272d",
   "metadata": {},
   "source": [
    "# 8 Deleting stuff"
   ]
  }
 ],
 "metadata": {
  "kernelspec": {
   "display_name": "Python 3 (ipykernel)",
   "language": "python",
   "name": "python3"
  },
  "language_info": {
   "codemirror_mode": {
    "name": "ipython",
    "version": 3
   },
   "file_extension": ".py",
   "mimetype": "text/x-python",
   "name": "python",
   "nbconvert_exporter": "python",
   "pygments_lexer": "ipython3",
   "version": "3.12.1"
  },
  "toc": {
   "base_numbering": 1,
   "nav_menu": {},
   "number_sections": true,
   "sideBar": true,
   "skip_h1_title": false,
   "title_cell": "Table of Contents",
   "title_sidebar": "Contents",
   "toc_cell": false,
   "toc_position": {},
   "toc_section_display": true,
   "toc_window_display": false
  },
  "vscode": {
   "interpreter": {
    "hash": "31f2aee4e71d21fbe5cf8b01ff0e069b9275f58929596ceb00d14d90e3e16cd6"
   }
  }
 },
 "nbformat": 4,
 "nbformat_minor": 5
}
