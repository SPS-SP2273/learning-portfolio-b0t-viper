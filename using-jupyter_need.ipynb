{
 "cells": [
  {
   "cell_type": "markdown",
   "id": "871bc58f-4bba-4241-9034-c2b9c39a0a2c",
   "metadata": {},
   "source": [
    "The ships *hung in the sky* in much the same way that **bricks don’t.** <sup>1</sup><sub>QUOTE</sub>\n",
    "# Large\n",
    "## second large\n",
    "### third large\n",
    "#### smallest\n",
    "`print('Hello world!')`\n",
    "\n",
    "[SP2273](https://sps.nus.edu.sg/sp2273)\n",
    "\n",
    "![](https://nus.edu.sg/images/default-source/base/logo.png)\n",
    "\n",
    "|A |B |C |\n",
    "|:-|:-|-:|\n",
    "|a1|b1|c1|\n",
    "|a2|b2|c2|\n",
    "\n",
    "1. Yoda\n",
    "   - okk\n",
    "1. luke\n",
    "   - okkkkk\n",
    "1. anakin\n",
    "   1. ok\n",
    "      1. dk\n",
    "         1. dk\n",
    "            1. dkk\n",
    "   1. not ok\n",
    "   1. idk\n",
    "\n",
    "$\\sqrt{b^2-4ac}$\n",
    "\n",
    "$x= \\dfrac{-b \\pm \\sqrt{b^2-4ac}}{2a}$\n",
    "\n",
    "$$\n",
    "x= \\dfrac{-b \\pm \\sqrt{b^2-4ac}}{2a}\n",
    "$$\n",
    "\n",
    "\n",
    "dkakjdaklj"
   ]
  }
 ],
 "metadata": {
  "kernelspec": {
   "display_name": "Python 3 (ipykernel)",
   "language": "python",
   "name": "python3"
  },
  "language_info": {
   "codemirror_mode": {
    "name": "ipython",
    "version": 3
   },
   "file_extension": ".py",
   "mimetype": "text/x-python",
   "name": "python",
   "nbconvert_exporter": "python",
   "pygments_lexer": "ipython3",
   "version": "3.12.1"
  }
 },
 "nbformat": 4,
 "nbformat_minor": 5
}
