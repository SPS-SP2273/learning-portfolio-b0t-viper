{
 "cells": [
  {
   "attachments": {},
   "cell_type": "markdown",
   "id": "123456",
   "metadata": {},
   "source": [
    "<div style=\"text-align:left;font-size:2em\"><span style=\"font-weight:bolder;font-size:1.25em\">SP2273 | Learning Portfolio</span><br><br><span style=\"font-weight:bold;color:darkred\">Using Jupyter (Good), Exercises</span></div>"
   ]
  },
  {
   "cell_type": "markdown",
   "id": "17632d6d-932f-400a-995d-1b0832a6a650",
   "metadata": {},
   "source": [
    "while True:\n",
    "\r\n",
    "    print('*', end=''\n",
    "\n",
    "I have two ways to solve this:)"
   ]
  },
  {
   "cell_type": "markdown",
   "id": "e230a35e-6327-4b5f-a443-46f7c65d63aa",
   "metadata": {},
   "source": [
    "**First** way is to change the circulation logic.\n",
    "\n",
    "while **false**\n",
    "  \n",
    "    print('*', end='')"
   ]
  },
  {
   "cell_type": "markdown",
   "id": "7791e139-b21e-4e4f-b3e2-387e1d7a003d",
   "metadata": {},
   "source": [
    "The **second** way to solve this is by adding other commands behind this circulation command."
   ]
  },
  {
   "cell_type": "markdown",
   "id": "a61f5f4a-6d87-47c9-af29-f56ecfc39ac8",
   "metadata": {},
   "source": [
    "while True:\n",
    "\n",
    "    print('*', end='')\n",
    "    \n",
    "    break"
   ]
  },
  {
   "cell_type": "code",
   "execution_count": 3,
   "id": "7e78900b-20c5-4e07-b6bf-2ad7ad1614d8",
   "metadata": {},
   "outputs": [
    {
     "name": "stdout",
     "output_type": "stream",
     "text": [
      "*"
     ]
    }
   ],
   "source": [
    "while True:\n",
    "    print('*', end='')\n",
    "    break"
   ]
  },
  {
   "cell_type": "markdown",
   "id": "744813e6-d5bb-4897-94e1-afc1aa858a57",
   "metadata": {},
   "source": [
    "print = 'PRINT'\n",
    "\n",
    "this will mess up the kernel"
   ]
  },
  {
   "cell_type": "markdown",
   "id": "0091f4b6-1005-4713-b55c-407858464a8c",
   "metadata": {},
   "source": [
    "By restarting the kernel, printing feature will be restored."
   ]
  },
  {
   "cell_type": "code",
   "execution_count": 5,
   "id": "627c651c-351b-4eac-84f3-f742fedf31a0",
   "metadata": {},
   "outputs": [
    {
     "name": "stdout",
     "output_type": "stream",
     "text": [
      "Hello World\n"
     ]
    }
   ],
   "source": [
    "print('Hello World')"
   ]
  },
  {
   "attachments": {},
   "cell_type": "markdown",
   "id": "b2be5cc2",
   "metadata": {},
   "source": [
    "## Footnotes"
   ]
  }
 ],
 "metadata": {
  "kernelspec": {
   "display_name": "Python 3 (ipykernel)",
   "language": "python",
   "name": "python3"
  },
  "language_info": {
   "codemirror_mode": {
    "name": "ipython",
    "version": 3
   },
   "file_extension": ".py",
   "mimetype": "text/x-python",
   "name": "python",
   "nbconvert_exporter": "python",
   "pygments_lexer": "ipython3",
   "version": "3.12.1"
  },
  "toc": {
   "base_numbering": 1,
   "nav_menu": {},
   "number_sections": true,
   "sideBar": true,
   "skip_h1_title": false,
   "title_cell": "Table of Contents",
   "title_sidebar": "Contents",
   "toc_cell": false,
   "toc_position": {},
   "toc_section_display": true,
   "toc_window_display": false
  },
  "vscode": {
   "interpreter": {
    "hash": "31f2aee4e71d21fbe5cf8b01ff0e069b9275f58929596ceb00d14d90e3e16cd6"
   }
  }
 },
 "nbformat": 4,
 "nbformat_minor": 5
}
