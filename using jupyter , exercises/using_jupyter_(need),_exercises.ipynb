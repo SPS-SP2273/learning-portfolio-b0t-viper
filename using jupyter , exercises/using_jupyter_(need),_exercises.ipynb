{
 "cells": [
  {
   "attachments": {},
   "cell_type": "markdown",
   "id": "123456",
   "metadata": {},
   "source": [
    "<div style=\"text-align:left;font-size:2em\"><span style=\"font-weight:bolder;font-size:1.25em\">SP2273 | Learning Portfolio</span><br><br><span style=\"font-weight:bold;color:darkred\">Using Jupyter (Need), Exercises</span></div>"
   ]
  },
  {
   "attachments": {},
   "cell_type": "markdown",
   "id": "b2c6ef08",
   "metadata": {},
   "source": [
    "## Quadratic Equations"
   ]
  },
  {
   "attachments": {},
   "cell_type": "markdown",
   "id": "3a244596",
   "metadata": {},
   "source": [
    "### Introduction"
   ]
  },
  {
   "cell_type": "markdown",
   "id": "c3a8960f-a8c6-472d-b3e1-bcfffb11d3cf",
   "metadata": {},
   "source": [
    "![](https://upload.wikimedia.org/wikipedia/commons/thumb/f/f8/Polynomialdeg2.svg/300px-Polynomialdeg2.svg.png)\n",
    "\n",
    "*(Image from the [Wikipedia page on Quadratic equations](https://en.wikipedia.org/wiki/Quadratic_equation))*\n",
    "\n",
    "The general form of a quadratic equation is:\n",
    "$$\n",
    "ax^2+bx+c=0\n",
    "$$\n",
    "\n"
   ]
  },
  {
   "attachments": {},
   "cell_type": "markdown",
   "id": "2ed400c1",
   "metadata": {},
   "source": [
    "### Solutions"
   ]
  },
  {
   "cell_type": "markdown",
   "id": "c9961278-a5ab-4cfa-a338-3adfe5e1324d",
   "metadata": {},
   "source": [
    "\n",
    "Provided $a \\ne 0 $\n",
    ", we can use an elementary algebraic method called[ completeing the squaer](https://en.wikipedia.org/wiki/Completing_the_squaree to show that a quadratic equation has the following solution\n",
    "$$\n",
    "x= \\dfrac {-b \\pm \\sqrt {b^2-4ac}}{2a}\n",
    "$$"
   ]
  },
  {
   "attachments": {},
   "cell_type": "markdown",
   "id": "bac1d87a",
   "metadata": {},
   "source": [
    "### Discriminant"
   ]
  },
  {
   "cell_type": "markdown",
   "id": "f5678b26-8484-42b1-8883-f1ea4139fb98",
   "metadata": {},
   "source": [
    "\n",
    "The quantity $ \\Delta =b^2-4a $c \n",
    "is called the **discrimiant** of the equation and decides the nature of its solutions. The table below shows the various possibilities:\n",
    "\n",
    "| **Discriminant** | **Roots** |\n",
    "|:-----------------|:----------|\n",
    "|$$ \\Delta =b^2-4ac=0 $$ | A single solution of $ -b/2a $ |\n",
    "|$ \\Delta =b^2-4ac \\gt 0 $ | Two distinct solutions |\n",
    "|$ \\Delta =b^2-4ac \\lt 0 $ | No real solutions; both are complex |\n"
   ]
  },
  {
   "cell_type": "markdown",
   "id": "7d57e3ef-54b7-413f-96af-773f11bb77c2",
   "metadata": {},
   "source": [
    "#### Exercise 2\n",
    "1. What is a Git **repository**?\n",
    "   \n",
    "   It's a place where I can store and manage the source coding of my work and my projects. It is like a cloud space for storage and uploading.\n",
    "\n",
    "2. Git keeps tracks of **Changes in the coding of the files** in the files in our repository.\n",
    "\n",
    "3. What is a **commit**?\n",
    "\n",
    "   Commit is like making a copy of my current work or my project. It is like a quick saved file of the codes that we did. Commits can later be pushed to the repository.\n",
    "\n",
    "4. What is a **push**?\n",
    "\n",
    "   Push is when we upload our file from our local desktop to the repository. This is similar to how we update the cloud so that people can have access to our work online via the repository.\n",
    "\n",
    "5. What is a **pull**?\n",
    "\n",
    "   Pull is when we have changes in the repository or someone else in the group have pushed their work onto the group repository, we can pull their changed file to our local desktop to view the codes and change the codes. It is like copying file from online to local.\n",
    "\n",
    "6. What is the difference between **Github** and **Github Desktop**?\n",
    "\n",
    "   Github is more of an online version of github desktop. Github desktop is used to keep track of local changes of files and it gives us a way to exchange and update files from local and Github online by pulling and pushing. Github however, is an online platform which can allow many people to work together. People can push their work onto Github so others have access to the work.\n"
   ]
  }
 ],
 "metadata": {
  "kernelspec": {
   "display_name": "Python 3 (ipykernel)",
   "language": "python",
   "name": "python3"
  },
  "language_info": {
   "codemirror_mode": {
    "name": "ipython",
    "version": 3
   },
   "file_extension": ".py",
   "mimetype": "text/x-python",
   "name": "python",
   "nbconvert_exporter": "python",
   "pygments_lexer": "ipython3",
   "version": "3.12.1"
  },
  "toc": {
   "base_numbering": 1,
   "nav_menu": {},
   "number_sections": true,
   "sideBar": true,
   "skip_h1_title": false,
   "title_cell": "Table of Contents",
   "title_sidebar": "Contents",
   "toc_cell": false,
   "toc_position": {},
   "toc_section_display": true,
   "toc_window_display": false
  },
  "vscode": {
   "interpreter": {
    "hash": "31f2aee4e71d21fbe5cf8b01ff0e069b9275f58929596ceb00d14d90e3e16cd6"
   }
  }
 },
 "nbformat": 4,
 "nbformat_minor": 5
}
